{
 "cells": [
  {
   "cell_type": "code",
   "execution_count": 87,
   "metadata": {},
   "outputs": [
    {
     "name": "stdout",
     "output_type": "stream",
     "text": [
      "The autoreload extension is already loaded. To reload it, use:\n",
      "  %reload_ext autoreload\n"
     ]
    }
   ],
   "source": [
    "%load_ext autoreload\n",
    "%autoreload 2\n",
    "\n",
    "import numpy as np\n",
    "import matplotlib.pyplot as plt\n",
    "%matplotlib tk\n",
    "# % matplotlib inline\n",
    "#plt.rcParams['animation.html'] = 'jshtml'\n",
    "from IPython.display import HTML\n",
    "\n",
    "from copy import deepcopy\n",
    "import os\n",
    "import sys\n",
    "from functools import reduce\n",
    "sys.path.append(\"/home/ful7rng/projects/transition/propagation\")\n",
    "from utils import pickle_load, get_npy, get_file\n",
    "from utils.occ_map_utils import load_map, show_map, plot_occ_map, plot_trajectories, free_space\n",
    "from utils.scene_utils import display_scenes_trajs, animate_scenes, get_scenes\n",
    "from propagation.bofum import conditionalBOFUM, naiveBOFUM, BOFUMRealdata\n",
    "from propagation.animation import TrackingAnimRealdata, Plot\n",
    "from data_loader import get_map_crop\n",
    "\n",
    "from utils import pickle_load, pickle_save\n",
    "from utils.selecting_scene import SceneID, get_all_scenes_files\n"
   ]
  },
  {
   "cell_type": "code",
   "execution_count": 89,
   "metadata": {
    "collapsed": true
   },
   "outputs": [],
   "source": [
    "plt.ion()"
   ]
  },
  {
   "cell_type": "code",
   "execution_count": 211,
   "metadata": {
    "collapsed": true
   },
   "outputs": [],
   "source": [
    "path = '/local/data/scenes/100_11/classification.pkl'"
   ]
  },
  {
   "cell_type": "code",
   "execution_count": 212,
   "metadata": {
    "collapsed": true
   },
   "outputs": [],
   "source": [
    "cls = pickle_load(path)"
   ]
  },
  {
   "cell_type": "code",
   "execution_count": 213,
   "metadata": {},
   "outputs": [
    {
     "name": "stdout",
     "output_type": "stream",
     "text": [
      "Straight and turn: 268\n",
      "Objects with diff. motion: 27\n",
      "Through Doors: 6\n",
      "Multiple Objects: 352\n",
      "Straight: 816\n",
      "Strange Behaviour: 6\n",
      "Turn and Straight: 256\n",
      "Missing Frames: 0\n",
      "Turn: 366\n",
      "processed: 195\n",
      "Exclude: 1363\n",
      "Noisy: 507\n"
     ]
    }
   ],
   "source": [
    "for k, v in cls.items():\n",
    "    print(\"{}: {}\".format(k, len(v)))"
   ]
  },
  {
   "cell_type": "code",
   "execution_count": 204,
   "metadata": {
    "collapsed": true
   },
   "outputs": [],
   "source": [
    "def containSceneID(scene_ids, scene_id):\n",
    "    \n",
    "    for id_ in scene_ids:\n",
    "        if id_.file == scene_id.file and id_.idx == scene_id.idx:\n",
    "            print(\"has scene_id {}/{}\".format(scene_id.file, scene_id.idx))\n",
    "            return True"
   ]
  },
  {
   "cell_type": "code",
   "execution_count": 205,
   "metadata": {},
   "outputs": [
    {
     "name": "stdout",
     "output_type": "stream",
     "text": [
      "Found 248 scene_ids for 4 motion classes\n",
      "has scene_id /local/data/scenes/80_new/pioneer2/04_13/2017-04-13-10-33-31_5.npy/4\n",
      "has scene_id /local/data/scenes/80_new/pioneer2/04_13/2017-04-13-13-33-31_14.npy/17\n",
      "found duplicated scene_id /local/data/scenes/80_new/pioneer2/04_13/2017-04-13-13-33-31_14.npy/17\n",
      "has scene_id /local/data/scenes/80_new/pioneer2/04_13/2017-04-13-10-33-31_5.npy/4\n",
      "has scene_id /local/data/scenes/80_new/pioneer2/03_28/2017-03-28-13-19-24_12.npy/25\n",
      "Remove 4 scene_ids since they have objects with different motion or they are duplicated\n"
     ]
    }
   ],
   "source": [
    "scene_ids = np.array(cls['Straight and turn'] + cls['Straight'] + cls['Turn'] + cls['Turn and Straight'])\n",
    "print(\"Found %d scene_ids for 4 motion classes\" % len(scene_ids))\n",
    "scene_ids_left = []\n",
    "for idx, id_ in enumerate(scene_ids):\n",
    "    if not containSceneID(cls['Objects with diff. motion'], id_):\n",
    "        if not containSceneID(scene_ids_left, id_):\n",
    "            scene_ids_left.append(id_)\n",
    "        else:\n",
    "            print(\"found duplicated scene_id {}/{}\".format(id_.file, id_.idx))\n",
    "print(\"Remove %d scene_ids since they have objects with different motion or they are duplicated\" % (len(scene_ids)-len(scene_ids_left)))"
   ]
  },
  {
   "cell_type": "code",
   "execution_count": 206,
   "metadata": {},
   "outputs": [
    {
     "name": "stdout",
     "output_type": "stream",
     "text": [
      "Got 244 scenes with proper motions\n"
     ]
    }
   ],
   "source": [
    "print(\"Got %d scenes with proper motions\" % len(scene_ids_left))"
   ]
  },
  {
   "cell_type": "code",
   "execution_count": 207,
   "metadata": {
    "collapsed": true
   },
   "outputs": [],
   "source": [
    "def scene_id_to_scene(scene_id):\n",
    "    scenes = np.load(scene_id.file)\n",
    "    return scenes[scene_id.idx]"
   ]
  },
  {
   "cell_type": "code",
   "execution_count": 209,
   "metadata": {},
   "outputs": [
    {
     "data": {
      "text/plain": [
       "<utils.scene_utils.SceneAnimation at 0x7f06f19056d0>"
      ]
     },
     "execution_count": 209,
     "metadata": {},
     "output_type": "execute_result"
    }
   ],
   "source": [
    "import random\n",
    "scene = scene_id_to_scene(random.sample(scene_ids_left, 1)[0])\n",
    "animate_scenes([scene])"
   ]
  },
  {
   "cell_type": "markdown",
   "metadata": {},
   "source": [
    "### save scenes to file"
   ]
  },
  {
   "cell_type": "code",
   "execution_count": 210,
   "metadata": {
    "collapsed": true
   },
   "outputs": [],
   "source": [
    "scenes_list = []\n",
    "for scene_id in scene_ids_left:\n",
    "    scenes_list.append(scene_id_to_scene(scene_id))\n",
    "scenes = np.array(scenes_list)\n",
    "np.save(\"/home/ful7rng/projects/transition/data/244_scenes_for_test_from_80_new.npy\", scenes)"
   ]
  },
  {
   "cell_type": "markdown",
   "metadata": {},
   "source": [
    "### load scenes"
   ]
  },
  {
   "cell_type": "code",
   "execution_count": 137,
   "metadata": {},
   "outputs": [
    {
     "name": "stdout",
     "output_type": "stream",
     "text": [
      "load file: /home/ful7rng/projects/transition/data/scenes.npy\n",
      "Found 1655 scenes in total\n",
      "36\n",
      "12000000\n",
      "Found 1655 scenes (= 100.000%) whose interval is in range (3, 1000000)\n",
      "Found 0 scenes (= 0.000%) whose interval does not match number of hits.\n"
     ]
    }
   ],
   "source": [
    "sample_rate = 3\n",
    "scenes = get_scenes(\n",
    "                  random_file=True,\n",
    "                  min_time_interval=3,\n",
    "                  max_time_interval=1e6,\n",
    "                  file_name='/home/ful7rng/projects/transition/data/scenes.npy',\n",
    "                  sample_rate=sample_rate)[0]"
   ]
  },
  {
   "cell_type": "code",
   "execution_count": 143,
   "metadata": {},
   "outputs": [
    {
     "data": {
      "text/plain": [
       "Text(0.5,0,u's')"
      ]
     },
     "execution_count": 143,
     "metadata": {},
     "output_type": "execute_result"
    }
   ],
   "source": [
    "intervals = map(lambda scene: scene.end-scene.start, scenes)\n",
    "_, _, _ = plt.hist(intervals)\n",
    "plt.xlabel(\"s\")"
   ]
  },
  {
   "cell_type": "code",
   "execution_count": 141,
   "metadata": {},
   "outputs": [
    {
     "name": "stdout",
     "output_type": "stream",
     "text": [
      "1161\n",
      "(15, 32, 32)\n"
     ]
    },
    {
     "data": {
      "text/plain": [
       "<utils.scene_utils.SceneAnimation at 0x7f05f40fbf90>"
      ]
     },
     "execution_count": 141,
     "metadata": {},
     "output_type": "execute_result"
    }
   ],
   "source": [
    "idx = np.random.choice(np.arange(len(scenes)))\n",
    "print(idx)\n",
    "scene = scenes[idx]\n",
    "map_ = scene.static_map\n",
    "print(scene.hits.shape)\n",
    "animate_scenes([scene])"
   ]
  },
  {
   "cell_type": "code",
   "execution_count": 142,
   "metadata": {},
   "outputs": [
    {
     "data": {
      "text/plain": [
       "<utils.scene_utils.SceneAnimation at 0x7f05f40a5e10>"
      ]
     },
     "execution_count": 142,
     "metadata": {},
     "output_type": "execute_result"
    }
   ],
   "source": [
    "scene_copy = deepcopy(scene)\n",
    "animate_scenes([BOFUMRealdata.scene_preprocessing(scene_copy)])"
   ]
  }
 ],
 "metadata": {
  "kernelspec": {
   "display_name": "Python 2",
   "language": "python",
   "name": "python2"
  },
  "language_info": {
   "codemirror_mode": {
    "name": "ipython",
    "version": 2
   },
   "file_extension": ".py",
   "mimetype": "text/x-python",
   "name": "python",
   "nbconvert_exporter": "python",
   "pygments_lexer": "ipython2",
   "version": "2.7.13"
  }
 },
 "nbformat": 4,
 "nbformat_minor": 2
}
