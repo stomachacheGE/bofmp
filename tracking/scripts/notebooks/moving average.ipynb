{
 "cells": [
  {
   "cell_type": "code",
   "execution_count": 2,
   "metadata": {
    "collapsed": true
   },
   "outputs": [],
   "source": [
    "%load_ext autoreload\n",
    "%autoreload 2\n",
    "\n",
    "import numpy as np\n",
    "import matplotlib.pyplot as plt\n",
    "\n",
    "% matplotlib inline\n",
    "\n",
    "from IPython.display import HTML\n",
    "\n",
    "from copy import deepcopy\n",
    "import os\n",
    "import sys\n",
    "from functools import reduce\n",
    "sys.path.append(\"/home/ful7rng/projects/transition/propagation\")\n",
    "from utils import pickle_load, get_npy, get_file\n",
    "from utils.occ_map_utils import load_map, show_map, plot_occ_map, plot_trajectories, free_space\n",
    "from utils.scene_utils import display_scenes_trajs, animate_scenes, get_scenes\n",
    "from propagation.bofum import conditionalBOFUM, naiveBOFUM, BOFUMRealdata\n",
    "from propagation.animation import TrackingAnimRealdata\n",
    "from data_loader import get_map_crop"
   ]
  },
  {
   "cell_type": "code",
   "execution_count": 31,
   "metadata": {},
   "outputs": [
    {
     "name": "stdout",
     "output_type": "stream",
     "text": [
      "Found 194 files in total\n",
      "load file: /local/data/scenes/100_11/mimo/05_16/2017-05-16-13-35-03_13.npy\n",
      "Found 39 scenes in total\n",
      "36\n",
      "48\n",
      "Found 8 scenes (= 20.513%) whose interval is in range (3, 4)\n",
      "Found 0 scenes (= 0.000%) whose interval does not match number of hits.\n"
     ]
    }
   ],
   "source": [
    "sample_rate = 3\n",
    "scene= get_scenes(random_file=True,\n",
    "                  min_time_interval=3,\n",
    "                  max_time_interval=4,\n",
    "                  sample_rate=sample_rate,\n",
    "                  file_name=None)[0][0]\n",
    "map_ = scene.static_map"
   ]
  },
  {
   "cell_type": "code",
   "execution_count": 36,
   "metadata": {},
   "outputs": [
    {
     "data": {
      "text/plain": [
       "<utils.scene_utils.Scene at 0x7f4507e39310>"
      ]
     },
     "execution_count": 36,
     "metadata": {},
     "output_type": "execute_result"
    }
   ],
   "source": [
    "BOFUMRealdata.scene_preprocessing(scene)"
   ]
  },
  {
   "cell_type": "code",
   "execution_count": 37,
   "metadata": {},
   "outputs": [],
   "source": [
    "extent = 7\n",
    "window_size = 4\n",
    "ma_speeds = np.zeros((window_size, extent, extent), dtype=float)"
   ]
  },
  {
   "cell_type": "code",
   "execution_count": 113,
   "metadata": {},
   "outputs": [
    {
     "name": "stdout",
     "output_type": "stream",
     "text": [
      "(26, 18)\n",
      "(26, 19)\n"
     ]
    }
   ],
   "source": [
    "occ_cells = np.array(np.where(scene.hits[0])).T\n",
    "for (x, y) in occ_cells:\n",
    "    print(x, y)"
   ]
  },
  {
   "cell_type": "code",
   "execution_count": 95,
   "metadata": {},
   "outputs": [],
   "source": [
    "def vel_between_hits(hit_2, hit_1, extent):\n",
    "    h_extent = extent // 2\n",
    "    padded_hit_1 = np.pad(hit_1, ((h_extent, h_extent), (h_extent, h_extent)), mode='constant', constant_values=0)\n",
    "    plt.figure()\n",
    "    show_map(hit_2)\n",
    "    plt.suptitle(\"hit_2\")\n",
    "    plt.figure()\n",
    "    show_map(hit_1)\n",
    "    plt.suptitle(\"hit_1\")\n",
    "    plt.figure()\n",
    "    show_map(hit_1 - hit_2)\n",
    "    plt.suptitle(\"hit_1 - hit_2\")\n",
    "    occ_cells = np.array(np.where(hit_2)).T\n",
    "    print(occ_cells)\n",
    "    print(np.array(np.where(hit_1)).T)\n",
    "    occ_cells += np.array([h_extent, h_extent])\n",
    "    print(\"hit_2 has {} occupied cells\".format(len(occ_cells)))\n",
    "    v = np.zeros((extent, extent), dtype=float)\n",
    "    for cell in occ_cells:\n",
    "        x, y = cell[0], cell[1]\n",
    "        print(cell)\n",
    "        neighbors = padded_hit_1[x-h_extent:x+h_extent+1, y-h_extent:y+h_extent+1].copy()\n",
    "        neighbors[h_extent, h_extent] = 0\n",
    "#         plt.figure()\n",
    "#         show_map(neighbors)\n",
    "        v += neighbors\n",
    "    with np.errstate(divide='ignore', invalid='ignore'):\n",
    "        v /= v.sum()\n",
    "        v[~np.isfinite(v)] = 0\n",
    "    plt.figure()\n",
    "    show_map(v)\n",
    "    plt.suptitle(\"v\")\n",
    "    print(\"v sums to {}\".format(v.sum()))\n",
    "    return v"
   ]
  },
  {
   "cell_type": "code",
   "execution_count": 91,
   "metadata": {},
   "outputs": [
    {
     "data": {
      "text/plain": [
       "(32, 32)"
      ]
     },
     "execution_count": 91,
     "metadata": {},
     "output_type": "execute_result"
    }
   ],
   "source": [
    "scene.hits[0].shape"
   ]
  },
  {
   "cell_type": "code",
   "execution_count": 92,
   "metadata": {
    "collapsed": true
   },
   "outputs": [],
   "source": [
    "i = 0"
   ]
  },
  {
   "cell_type": "code",
   "execution_count": 101,
   "metadata": {
    "scrolled": false
   },
   "outputs": [
    {
     "name": "stdout",
     "output_type": "stream",
     "text": [
      "[[21 16]\n",
      " [22 17]]\n",
      "[[19 15]\n",
      " [19 16]\n",
      " [21 16]\n",
      " [21 17]]\n",
      "hit_2 has 2 occupied cells\n",
      "[24 19]\n",
      "[25 20]\n",
      "v sums to 1.0\n"
     ]
    },
    {
     "data": {
      "image/png": "[encoded data removed]",
      "text/plain": [
       "<matplotlib.figure.Figure at 0x7f4507aa3250>"
      ]
     },
     "metadata": {},
     "output_type": "display_data"
    },
    {
     "data": {
      "image/png": "[encoded data removed]",
      "text/plain": [
       "<matplotlib.figure.Figure at 0x7f44c607dfd0>"
      ]
     },
     "metadata": {},
     "output_type": "display_data"
    },
    {
     "data": {
      "image/png": "[encoded data removed]",
      "text/plain": [
       "<matplotlib.figure.Figure at 0x7f44c6083090>"
      ]
     },
     "metadata": {},
     "output_type": "display_data"
    },
    {
     "data": {
      "image/png": "[encoded data removed]",
      "text/plain": [
       "<matplotlib.figure.Figure at 0x7f44c65c38d0>"
      ]
     },
     "metadata": {},
     "output_type": "display_data"
    }
   ],
   "source": [
    "v = vel_between_hits(scene.hits[i], scene.hits[i+1], extent)\n",
    "i += 1\n",
    "    "
   ]
  },
  {
   "cell_type": "code",
   "execution_count": 102,
   "metadata": {
    "collapsed": true
   },
   "outputs": [],
   "source": [
    "i = 0"
   ]
  },
  {
   "cell_type": "code",
   "execution_count": 112,
   "metadata": {},
   "outputs": [
    {
     "name": "stdout",
     "output_type": "stream",
     "text": [
      "[[19 15]\n",
      " [19 16]]\n",
      "[[16 15]\n",
      " [16 16]]\n",
      "hit_2 has 2 occupied cells\n",
      "[22 18]\n",
      "[22 19]\n",
      "v sums to 1.0\n"
     ]
    },
    {
     "data": {
      "image/png": "[encoded data removed]",
      "text/plain": [
       "<matplotlib.figure.Figure at 0x7f4507f15710>"
      ]
     },
     "metadata": {},
     "output_type": "display_data"
    },
    {
     "data": {
      "image/png": "[encoded data removed]",
      "text/plain": [
       "<matplotlib.figure.Figure at 0x7f45077f4890>"
      ]
     },
     "metadata": {},
     "output_type": "display_data"
    },
    {
     "data": {
      "image/png": "[encoded data removed]",
      "text/plain": [
       "<matplotlib.figure.Figure at 0x7f45077f4750>"
      ]
     },
     "metadata": {},
     "output_type": "display_data"
    },
    {
     "data": {
      "image/png": "[encoded data removed]",
      "text/plain": [
       "<matplotlib.figure.Figure at 0x7f4507aad510>"
      ]
     },
     "metadata": {},
     "output_type": "display_data"
    },
    {
     "data": {
      "image/png": "[encoded data removed]",
      "text/plain": [
       "<matplotlib.figure.Figure at 0x7f4507f159d0>"
      ]
     },
     "metadata": {},
     "output_type": "display_data"
    }
   ],
   "source": [
    "\n",
    "v = vel_between_hits(scene.hits[i], scene.hits[i+1], extent)\n",
    "ma_speeds[:len(ma_speeds)-1] = ma_speeds[1:]\n",
    "ma_speeds[-1] = v\n",
    "ma_v = np.sum(ma_speeds, axis=0)\n",
    "with np.errstate(divide='ignore', invalid='ignore'):\n",
    "    ma_v /= ma_v.sum()\n",
    "    ma_v[~np.isfinite(ma_v)] = 0\n",
    "plt.figure()\n",
    "ax = show_map(ma_v)\n",
    "plt.suptitle(\"mv_v\")\n",
    "plt.colorbar(ax)\n",
    "i += 1"
   ]
  },
  {
   "cell_type": "code",
   "execution_count": 94,
   "metadata": {},
   "outputs": [
    {
     "name": "stdout",
     "output_type": "stream",
     "text": [
      "[[ 0.   0.   0.   0.   0.   0.   0. ]\n",
      " [ 0.   0.   0.   0.   0.   0.   0. ]\n",
      " [ 0.   0.   0.   0.   0.   0.   0. ]\n",
      " [ 0.   0.   0.5  0.   0.5  0.   0. ]\n",
      " [ 0.   0.   0.   0.   0.   0.   0. ]\n",
      " [ 0.   0.   0.   0.   0.   0.   0. ]\n",
      " [ 0.   0.   0.   0.   0.   0.   0. ]]\n"
     ]
    }
   ],
   "source": [
    "print(v)"
   ]
  },
  {
   "cell_type": "code",
   "execution_count": null,
   "metadata": {
    "collapsed": true
   },
   "outputs": [],
   "source": []
  },
  {
   "cell_type": "code",
   "execution_count": 95,
   "metadata": {
    "collapsed": true
   },
   "outputs": [],
   "source": [
    "def vel_between_hits(hit_2, hit_1, extent):\n",
    "    h_extent = extent // 2\n",
    "    padded_hit_1 = np.pad(hit_1, ((h_extent, h_extent), (h_extent, h_extent)), mode='constant', constant_values=0)\n",
    "    plt.figure()\n",
    "    show_map(hit_2)\n",
    "    plt.suptitle(\"hit_2\")\n",
    "    plt.figure()\n",
    "    show_map(hit_1)\n",
    "    plt.suptitle(\"hit_1\")\n",
    "    plt.figure()\n",
    "    show_map(hit_1 - hit_2)\n",
    "    plt.suptitle(\"hit_1 - hit_2\")\n",
    "    occ_cells = np.array(np.where(hit_2)).T\n",
    "    print(occ_cells)\n",
    "    print(np.array(np.where(hit_1)).T)\n",
    "    occ_cells += np.array([h_extent, h_extent])\n",
    "    print(\"hit_2 has {} occupied cells\".format(len(occ_cells)))\n",
    "    v = np.zeros((extent, extent), dtype=float)\n",
    "    for cell in occ_cells:\n",
    "        x, y = cell[0], cell[1]\n",
    "        print(cell)\n",
    "        neighbors = padded_hit_1[x-h_extent:x+h_extent+1, y-h_extent:y+h_extent+1].copy()\n",
    "        neighbors[h_extent, h_extent] = 0\n",
    "#         plt.figure()\n",
    "#         show_map(neighbors)\n",
    "        v += neighbors\n",
    "    with np.errstate(divide='ignore', invalid='ignore'):\n",
    "        v /= v.sum()\n",
    "        v[~np.isfinite(v)] = 0\n",
    "    plt.figure()\n",
    "    show_map(v)\n",
    "    plt.suptitle(\"v\")\n",
    "    print(\"v sums to {}\".format(v.sum()))\n",
    "    return v"
   ]
  }
 ],
 "metadata": {
  "kernelspec": {
   "display_name": "Python 2",
   "language": "python",
   "name": "python2"
  },
  "language_info": {
   "codemirror_mode": {
    "name": "ipython",
    "version": 2
   },
   "file_extension": ".py",
   "mimetype": "text/x-python",
   "name": "python",
   "nbconvert_exporter": "python",
   "pygments_lexer": "ipython2",
   "version": "2.7.13"
  }
 },
 "nbformat": 4,
 "nbformat_minor": 2
}
