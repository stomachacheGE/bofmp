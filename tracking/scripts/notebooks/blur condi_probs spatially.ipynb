{
 "cells": [
  {
   "cell_type": "code",
   "execution_count": 368,
   "metadata": {},
   "outputs": [
    {
     "name": "stdout",
     "output_type": "stream",
     "text": [
      "The autoreload extension is already loaded. To reload it, use:\n",
      "  %reload_ext autoreload\n"
     ]
    }
   ],
   "source": [
    "%load_ext autoreload\n",
    "%autoreload 2\n",
    "\n",
    "import numpy as np\n",
    "import matplotlib.pyplot as plt\n",
    "%matplotlib tk\n",
    "# % matplotlib inline\n",
    "#plt.rcParams['animation.html'] = 'jshtml'\n",
    "from IPython.display import HTML\n",
    "\n",
    "from copy import deepcopy\n",
    "import os\n",
    "import sys\n",
    "from functools import reduce\n",
    "sys.path.append(\"/home/ful7rng/projects/transition/propagation\")\n",
    "from utils import pickle_load, get_npy, get_file\n",
    "from utils.occ_map_utils import load_map, show_map, plot_occ_map, plot_trajectories, free_space\n",
    "from utils.scene_utils import display_scenes_trajs, animate_scenes, get_scenes\n",
    "from propagation.bofum import conditionalBOFUM, naiveBOFUM, BOFUMRealdata\n",
    "from propagation.animation import TrackingAnimRealdata, Plot, TrackingAnimSimulation\n",
    "from data_loader import get_map_crop\n"
   ]
  },
  {
   "cell_type": "code",
   "execution_count": 116,
   "metadata": {
    "collapsed": true
   },
   "outputs": [],
   "source": [
    "plt.ion()"
   ]
  },
  {
   "cell_type": "code",
   "execution_count": 117,
   "metadata": {
    "collapsed": true
   },
   "outputs": [],
   "source": [
    "from utils.plot_utils import plot_4d_tensor\n",
    "\n",
    "def onclick(event, models, anim, fig_1, fig_2, fig_3, ma_plot, vel_plot, merge_vel_plot, final_vel_plot):\n",
    "    ix, iy = event.xdata, event.ydata\n",
    "    coords = np.floor(np.array([ix, iy]) / models[0].map_res).astype(int)\n",
    "    print(coords)\n",
    "    \n",
    "    all_axes = [plot.axes for plot in anim.plots]\n",
    "    \n",
    "    for i, ax in enumerate(all_axes):\n",
    "\n",
    "        # For infomation, print which axes the click was in\n",
    "        if ax == event.inaxes:\n",
    "            print \"Click is in axes ax{}\".format(i+1)\n",
    "            break\n",
    "            \n",
    "    clicked = np.zeros_like(models[0].map)\n",
    "    x, y = coords[0], coords[1]\n",
    "    clicked[x, y] = 1\n",
    "    for plot in anim.plots:\n",
    "        plot.set_axes_data(\"occupancy_axes\", clicked)\n",
    "    anim.fig.canvas.draw()\n",
    "    \n",
    "    fig_1.clear()\n",
    "    fig_2.clear()\n",
    "    \n",
    "    \n",
    "    if models[i].kernels.ndim == 6:\n",
    "        kernel = models[i].kernels[x, y]\n",
    "        condi_prob = models[i].nn_probs[x, y]\n",
    "    else:\n",
    "        kernel = models[i].kernels\n",
    "        condi_prob = models[i].kernels\n",
    "        \n",
    "#     print(kernel.shape)\n",
    "#     print(condi_prob.shape)\n",
    "    print(np.sum(kernel, axis=(2, 3)))\n",
    "    plot_4d_tensor(condi_prob, fig=fig_1)\n",
    "    plot_4d_tensor(kernel, fig=fig_2)\n",
    "    if hasattr(models[i], 'apply_vel_mask') and models[i].apply_vel_mask:\n",
    "        print(\"plot vel mask\")\n",
    "        ma_plot.set_axes_data(\"occupancy_axes\", models[i].vel_mask[x, y])\n",
    "    else:\n",
    "        ma_plot.set_axes_data(\"occupancy_axes\", models[i].ma_vel)\n",
    "    vel_plot.set_axes_data(\"occupancy_axes\", models[i].P_Vt_pred[x, y])\n",
    "    merge_vel_plot.set_axes_data(\"occupancy_axes\", models[i].P_Vt_merged[x, y])\n",
    "    final_vel_plot.set_axes_data(\"occupancy_axes\", models[i].P_Vt[x, y])\n",
    "    #print(models[i].P_Vt[x, y])\n",
    "    fig_1.canvas.draw()\n",
    "    fig_2.canvas.draw()\n",
    "    fig_3.canvas.draw()\n",
    "    \n",
    "    model_names = map(lambda model: model.name, models)\n",
    "    occs = map(lambda model: model.P_Ot[x, y], models)\n",
    "    for name, occ in zip(model_names, occs):\n",
    "        print(\"loc ({}, {}) of model {} has occupancy of {}\".format(x, y, name, occ))"
   ]
  },
  {
   "cell_type": "code",
   "execution_count": 320,
   "metadata": {
    "collapsed": true
   },
   "outputs": [],
   "source": [
    "from utils.plot_utils import plot_4d_tensor\n",
    "\n",
    "def onclick_keep_motion(event, models, anim, fig_1, fig_2, fig_3, ma_plot, vel_plot, bofmp_vel_plot, keep_motion_plot):\n",
    "    ix, iy = event.xdata, event.ydata\n",
    "    coords = np.floor(np.array([ix, iy]) / models[0].map_res).astype(int)\n",
    "    print(coords)\n",
    "    \n",
    "    all_axes = [plot.axes for plot in anim.plots]\n",
    "    \n",
    "    for i, ax in enumerate(all_axes):\n",
    "\n",
    "        # For infomation, print which axes the click was in\n",
    "        if ax == event.inaxes:\n",
    "            print \"Click is in axes ax{}\".format(i+1)\n",
    "            break\n",
    "            \n",
    "    clicked = np.zeros_like(models[0].map)\n",
    "    x, y = coords[0], coords[1]\n",
    "    clicked[x, y] = 1\n",
    "    for plot in anim.plots:\n",
    "        plot.set_axes_data(\"occupancy_axes\", clicked)\n",
    "    anim.fig.canvas.draw()\n",
    "    \n",
    "    fig_1.clear()\n",
    "    fig_2.clear()\n",
    "    \n",
    "    \n",
    "    if models[i].kernels.ndim == 6:\n",
    "        kernel = models[i].kernels[x, y]\n",
    "        condi_prob = models[i].nn_probs[x, y]\n",
    "    else:\n",
    "        kernel = models[i].kernels\n",
    "        condi_prob = models[i].kernels\n",
    "        \n",
    "#     print(kernel.shape)\n",
    "#     print(condi_prob.shape)\n",
    "    print(np.sum(kernel, axis=(2, 3)))\n",
    "    plot_4d_tensor(condi_prob, fig=fig_1)\n",
    "    plot_4d_tensor(kernel, fig=fig_2)\n",
    "    if hasattr(models[i], 'apply_vel_mask') and models[i].apply_vel_mask:\n",
    "        print(\"plot vel mask\")\n",
    "        ma_plot.set_axes_data(\"occupancy_axes\", models[i].vel_mask[x, y])\n",
    "    else:\n",
    "        ma_plot.set_axes_data(\"occupancy_axes\", models[i].ma_vel)\n",
    "    vel_plot.set_axes_data(\"occupancy_axes\", models[i].P_Vt_pred[x, y])\n",
    "    merge_vel_plot.set_axes_data(\"occupancy_axes\", models[1].P_Vt[x, y])\n",
    "    final_vel_plot.set_axes_data(\"occupancy_axes\", models[2].P_Vt[x, y])\n",
    "    #print(models[i].P_Vt[x, y])\n",
    "    fig_1.canvas.draw()\n",
    "    fig_2.canvas.draw()\n",
    "    fig_3.canvas.draw()\n",
    "    \n",
    "    model_names = map(lambda model: model.name, models)\n",
    "    occs = map(lambda model: model.P_Ot[x, y], models)\n",
    "    for name, occ in zip(model_names, occs):\n",
    "        print(\"loc ({}, {}) of model {} has occupancy of {}\".format(x, y, name, occ))"
   ]
  },
  {
   "cell_type": "code",
   "execution_count": 150,
   "metadata": {},
   "outputs": [],
   "source": [
    "def on_press(event, animation):\n",
    "    global scenes\n",
    "    if event.key == 'n':\n",
    "        idx = np.random.choice(np.arange(len(scenes)))\n",
    "        print(idx)\n",
    "        scene = scenes[idx]\n",
    "        animation.update(scene)"
   ]
  },
  {
   "cell_type": "code",
   "execution_count": 119,
   "metadata": {
    "collapsed": true
   },
   "outputs": [],
   "source": [
    "diagonal = True\n",
    "conditional = True\n",
    "if diagonal:\n",
    "    if conditional:\n",
    "        model_name = '04_DIAGONAL_TRUE_CONDITIONAL_TRUE'\n",
    "    else:\n",
    "        model_name = '04_DIAGONAL_TRUE_CONDITIONAL_FALSE'\n",
    "else:\n",
    "    # model_name = '20_ALL_MAPS_W_MASK'\n",
    "    if conditional:\n",
    "        model_name = '03_DIAGONAL_FALSE_CONDITIONAL_TRUE'\n",
    "    else:\n",
    "        model_name = '04_DIAGONAL_FALSE_CONDITIONAL_FALSE'"
   ]
  },
  {
   "cell_type": "code",
   "execution_count": 344,
   "metadata": {},
   "outputs": [
    {
     "name": "stdout",
     "output_type": "stream",
     "text": [
      "load file: /home/ful7rng/projects/transition/data/244_scenes_for_test_from_80_new.npy\n",
      "Found 244 scenes in total\n",
      "48\n",
      "12000000\n",
      "Found 244.000000 scenes (= 100.00%) whose interval is in range (4.00, 1000000.00)\n",
      "Found 0 scenes (= 0.000%) whose interval does not match number of hits.\n",
      "61\n",
      "(17, 32, 32)\n"
     ]
    },
    {
     "data": {
      "text/plain": [
       "<utils.scene_utils.SceneAnimation at 0x7fd95887d150>"
      ]
     },
     "execution_count": 344,
     "metadata": {},
     "output_type": "execute_result"
    }
   ],
   "source": [
    "fname = '/local/data/scenes/100_11/c3bo/05_10/2017-05-10-16-24-56_8.npy'\n",
    "fname = '/local/data/scenes/100_11/c3bo/05_04/2017-05-04-19-07-38_10.npy'\n",
    "fname = '/local/data/scenes/100_11/c3bo/05_09/2017-05-09-16-43-18_20.npy'\n",
    "fname = '/local/data/scenes/100_11/mimo/05_15/2017-05-15-12-21-31_10.npy' #first stright then turn\n",
    "fname = '/local/data/scenes/100_11/c3bo/05_04/2017-05-04-18-47-38_9.npy'\n",
    "fname = '/home/ful7rng/projects/transition/data/selected_scenes_from_100_11.npy'\n",
    "fname = '/home/ful7rng/projects/transition/data/244_scenes_for_test_from_80_new.npy'\n",
    "sample_rate = 3\n",
    "scenes = get_scenes(random_file=False,\n",
    "                  min_time_interval=4,\n",
    "                  max_time_interval=1e6,\n",
    "                  sample_rate=sample_rate,\n",
    "                  file_name=fname)[0]\n",
    "idx = np.random.choice(np.arange(len(scenes)))\n",
    "print(idx)\n",
    "idx = 200\n",
    "scene = scenes[idx]\n",
    "map_ = scene.static_map\n",
    "print(scene.hits.shape)\n",
    "\n",
    "animate_scenes([scene])"
   ]
  },
  {
   "cell_type": "code",
   "execution_count": 187,
   "metadata": {},
   "outputs": [
    {
     "data": {
      "text/plain": [
       "<utils.scene_utils.SceneAnimation at 0x7fd956bc8410>"
      ]
     },
     "execution_count": 187,
     "metadata": {},
     "output_type": "execute_result"
    }
   ],
   "source": [
    "animate_scenes([scenes[0]])"
   ]
  },
  {
   "cell_type": "code",
   "execution_count": 180,
   "metadata": {
    "collapsed": true
   },
   "outputs": [],
   "source": [
    "np.save(s_fname, scenes)"
   ]
  },
  {
   "cell_type": "code",
   "execution_count": 121,
   "metadata": {},
   "outputs": [
    {
     "name": "stdout",
     "output_type": "stream",
     "text": [
      "hit[22:29,26:32].sum()==1\n",
      "observation at loc (25, 29) frame (3) is noise\n",
      "hit[22:29,26:32].sum()==1\n",
      "observation at loc (25, 29) frame (6) is noise\n",
      "hit[22:29,26:32].sum()==1\n",
      "observation at loc (25, 29) frame (7) is noise\n",
      "hit[18:25,26:32].sum()==1\n",
      "observation at loc (21, 29) frame (12) is noise\n",
      "hit[15:22,11:18].sum()==1\n",
      "observation at loc (18, 14) frame (13) is noise\n",
      "hit[15:22,11:18].sum()==1\n",
      "observation at loc (18, 14) frame (14) is noise\n"
     ]
    },
    {
     "data": {
      "text/plain": [
       "<utils.scene_utils.SceneAnimation at 0x7fd9ea027110>"
      ]
     },
     "execution_count": 121,
     "metadata": {},
     "output_type": "execute_result"
    }
   ],
   "source": [
    "scene_copy = deepcopy(scene)\n",
    "processed_scene_copy = BOFUMRealdata.scene_preprocessing(scene_copy)\n",
    "animate_scenes([processed_scene_copy])"
   ]
  },
  {
   "cell_type": "code",
   "execution_count": 369,
   "metadata": {
    "scrolled": true
   },
   "outputs": [
    {
     "name": "stdout",
     "output_type": "stream",
     "text": [
      "---------------------------------------------------------------------------\n",
      "---------------------------------------------------------------------------\n",
      "Warning : all the layers are not displayed \n",
      "\n",
      "    Layer           Output shape         W shape             \n",
      "1   Input           (None, 1, None, None)                     \n",
      "2   Conv2D          (None, 8, None, None) (8, 1, 1, 1)        \n",
      "3   Conv2D          (None, 12, None, None) (12, 8, 3, 3)       \n",
      "4   Concat          (None, 20, None, None)                     \n",
      "5   Conv2D          (None, 12, None, None) (12, 20, 3, 3)      \n",
      "6   Concat          (None, 32, None, None)                     \n",
      "7   Conv2D          (None, 12, None, None) (12, 32, 3, 3)      \n",
      "8   Concat          (None, 44, None, None)                     \n",
      "9   Conv2D          (None, 12, None, None) (12, 44, 3, 3)      \n",
      "10  Concat          (None, 56, None, None)                     \n",
      "11  Conv2D          (None, 12, None, None) (12, 56, 3, 3)      \n",
      "12  Concat          (None, 68, None, None)                     \n",
      "13  Conv2D          (None, 68, None, None) (68, 68, 1, 1)      \n",
      "14  Pool2D          (None, 68, None, None)                     \n",
      "\n",
      "15  Conv2D          (None, 12, None, None) (12, 68, 3, 3)      \n",
      "16  Concat          (None, 80, None, None)                     \n",
      "17  Conv2D          (None, 12, None, None) (12, 80, 3, 3)      \n",
      "18  Concat          (None, 92, None, None)                     \n",
      "19  Conv2D          (None, 12, None, None) (12, 92, 3, 3)      \n",
      "20  Concat          (None, 104, None, None)                     \n",
      "21  Conv2D          (None, 12, None, None) (12, 104, 3, 3)     \n",
      "22  Concat          (None, 116, None, None)                     \n",
      "23  Conv2D          (None, 12, None, None) (12, 116, 3, 3)     \n",
      "24  Concat          (None, 128, None, None)                     \n",
      "25  Conv2D          (None, 128, None, None) (128, 128, 1, 1)    \n",
      "26  Pool2D          (None, 128, None, None)                     \n",
      "\n",
      "27  Conv2D          (None, 12, None, None) (12, 128, 3, 3)     \n",
      "28  Concat          (None, 140, None, None)                     \n",
      "29  Conv2D          (None, 12, None, None) (12, 140, 3, 3)     \n",
      "30  Concat          (None, 152, None, None)                     \n",
      "31  Conv2D          (None, 12, None, None) (12, 152, 3, 3)     \n",
      "32  Concat          (None, 164, None, None)                     \n",
      "33  Conv2D          (None, 12, None, None) (12, 164, 3, 3)     \n",
      "34  Concat          (None, 176, None, None)                     \n",
      "35  Conv2D          (None, 12, None, None) (12, 176, 3, 3)     \n",
      "36  Concat          (None, 60, None, None)                     \n",
      "37  TransposedConv2D (None, 60, None, None) (60, 60, 3, 3)      \n",
      "\n",
      "38  Concat          (None, 188, None, None)                     \n",
      "39  Conv2D          (None, 12, None, None) (12, 188, 3, 3)     \n",
      "40  Concat          (None, 200, None, None)                     \n",
      "41  Conv2D          (None, 12, None, None) (12, 200, 3, 3)     \n",
      "42  Concat          (None, 212, None, None)                     \n",
      "43  Conv2D          (None, 12, None, None) (12, 212, 3, 3)     \n",
      "44  Concat          (None, 224, None, None)                     \n",
      "45  Conv2D          (None, 12, None, None) (12, 224, 3, 3)     \n",
      "46  Concat          (None, 236, None, None)                     \n",
      "47  Conv2D          (None, 12, None, None) (12, 236, 3, 3)     \n",
      "48  Concat          (None, 60, None, None)                     \n",
      "49  TransposedConv2D (None, 60, None, None) (60, 60, 3, 3)      \n",
      "\n",
      "50  Concat          (None, 128, None, None)                     \n",
      "51  Conv2D          (None, 12, None, None) (12, 128, 3, 3)     \n",
      "52  Concat          (None, 140, None, None)                     \n",
      "53  Conv2D          (None, 12, None, None) (12, 140, 3, 3)     \n",
      "54  Concat          (None, 152, None, None)                     \n",
      "55  Conv2D          (None, 12, None, None) (12, 152, 3, 3)     \n",
      "56  Concat          (None, 164, None, None)                     \n",
      "57  Conv2D          (None, 12, None, None) (12, 164, 3, 3)     \n",
      "58  Concat          (None, 176, None, None)                     \n",
      "59  Conv2D          (None, 12, None, None) (12, 176, 3, 3)     \n",
      "60  Concat          (None, 188, None, None)                     \n",
      "61  Conv2D          (None, 64, None, None) (64, 188, 1, 1)     \n",
      "\n",
      "Number of Convolutional layers : 31\n",
      "Number of parameters : 457720\n",
      "---------------------------------------------------------------------------\n",
      "Compiling function\n",
      "Compilation took 10.933 seconds\n"
     ]
    }
   ],
   "source": [
    "\n",
    "force_predict = True\n",
    "simulated_data = False\n",
    "naive_kwargs = {\n",
    "                        'omega': 0.152265835237,\n",
    "                        'extent': 5,\n",
    "                        'noise_var': 0.676892668163,\n",
    "                        'name': 'BOFUM',\n",
    "                        'measurement_lost' : 8\n",
    "                      }\n",
    "\n",
    "kwargs = {\n",
    "        'omega': 0.191234382275,\n",
    "        'extent': 7,\n",
    "        'noise_var': 0.644828151836,\n",
    "        'name': 'BOFMP'}\n",
    "\n",
    "ma_kwargs = {\n",
    "                        'omega': 0.0263632138087,\n",
    "                        'extent': 7,\n",
    "                        'noise_var': 0.743921945138,\n",
    "                        'name': 'BOFMP with moving average',\n",
    "                        'measurement_lost': 8,\n",
    "                        'keep_motion': True,\n",
    "                        'window_size': 4,\n",
    "                        'initial_motion_factor': 0.562946012048,\n",
    "                        'keep_motion_factor': 0.706594184009\n",
    "}\n",
    "\n",
    "naive_bofum = naiveBOFUM(map_, simulated_data=simulated_data, **naive_kwargs)\n",
    "bofum = conditionalBOFUM(map_, model_name,\n",
    "                               simulated_data=simulated_data,\n",
    "                               force_predict=force_predict,\n",
    "                               acceleration_interpretation=True,\n",
    "                               **kwargs)\n",
    "\n",
    "# bofum_blur = conditionalBOFUM(map_, model_name,\n",
    "#                                name = 'BOFUM acc blured',\n",
    "#                                simulated_data=simulated_data,\n",
    "#                                force_predict=force_predict,\n",
    "#                                 nn_probs = bofum.nn_probs.copy(),\n",
    "#                                acceleration_interpretation=True,\n",
    "#                                blur_spatially=True,\n",
    "#                                blur_var=0.83,\n",
    "#                                blur_extent=5,\n",
    "#                                **kwargs)\n",
    "# bofum_blur.cnn_model = bofum.cnn_model\n",
    "\n",
    "# bofum_blur_km = conditionalBOFUM(map_, model_name,\n",
    "#                                name = 'BOFUM acc moving average',\n",
    "#                                simulated_data=simulated_data,\n",
    "#                                force_predict=force_predict,\n",
    "#                                 nn_probs = bofum.nn_probs.copy(),\n",
    "#                                acceleration_interpretation=True,\n",
    "#                                blur_spatially=True,\n",
    "#                                keep_motion=True,\n",
    "#                                **kwargs)\n",
    "# bofum_blur_km.cnn_model = bofum.cnn_model\n",
    "\n",
    "\n",
    "\n",
    "# bofum_not_diagonal = conditionalBOFUM(map_, '03_DIAGONAL_FALSE_CONDITIONAL_TRUE',\n",
    "#                                name = 'BOFUM acc. not diagonal',\n",
    "#                                simulated_data=simulated_data,\n",
    "#                                force_predict=force_predict,\n",
    "#                                acceleration_interpretation=True,\n",
    "#                                **kwargs)\n",
    "\n",
    "# bofum_not_diagonal_blur = conditionalBOFUM(map_, '03_DIAGONAL_FALSE_CONDITIONAL_TRUE',\n",
    "#                                name = 'BOFUM acc. not diagonal blurred',\n",
    "#                                simulated_data=simulated_data,\n",
    "#                                force_predict=force_predict,\n",
    "#                                acceleration_interpretation=True,\n",
    "#                                nn_probs = bofum_not_diagonal.nn_probs.copy(),\n",
    "#                                blur_spatially=True,\n",
    "#                                **kwargs)\n",
    "# bofum_not_diagonal_blur.cnn_model = bofum_not_diagonal.cnn_model\n",
    "\n",
    "\n",
    "# bofum_keep = conditionalBOFUM(map_, model_name,\n",
    "#                                name = 'BOFUM acc keep naive',\n",
    "#                                simulated_data=simulated_data,\n",
    "#                                force_predict=force_predict,\n",
    "#                                 nn_probs = bofum.nn_probs,\n",
    "#                                acceleration_interpretation=True,\n",
    "#                                keep_naive_bofum=True,\n",
    "#                                naive_bofum_factor=0.5,\n",
    "#                                **kwargs)\n",
    "# bofum_keep.cnn_model = bofum.cnn_model\n",
    "\n",
    "bofum_ma = conditionalBOFUM(map_, model_name,\n",
    "                               simulated_data=simulated_data,\n",
    "                               force_predict=force_predict,\n",
    "                               nn_probs = bofum.nn_probs,\n",
    "                               **ma_kwargs)\n",
    "bofum_ma.cnn_model = bofum.cnn_model\n",
    "\n",
    "# bofum_vm = conditionalBOFUM(map_, model_name,\n",
    "#                                name = 'BOFUM acc. with velocity mask',\n",
    "#                                simulated_data=simulated_data,\n",
    "#                                force_predict=force_predict,\n",
    "#                                nn_probs = bofum.nn_probs,\n",
    "#                                velocity_mask=True,\n",
    "#                                velocity_mask_factor=0.3,\n",
    "#                                **kwargs)\n",
    "# bofum_vm.cnn_model = bofum.cnn_model\n",
    "\n",
    "# bofum_vm_blur = conditionalBOFUM(map_, model_name,\n",
    "#                                name = 'BOFUM acc. with velocity mask, blur spatially',\n",
    "#                                simulated_data=simulated_data,\n",
    "#                                force_predict=force_predict,\n",
    "#                                nn_probs = bofum.nn_probs,\n",
    "#                                velocity_mask=True,\n",
    "#                                velocity_mask_factor=0.3,\n",
    "#                                blur_spatially=True,\n",
    "#                                **kwargs)\n",
    "# bofum_vm_blur.cnn_model = bofum.cnn_model\n"
   ]
  },
  {
   "cell_type": "code",
   "execution_count": 370,
   "metadata": {},
   "outputs": [],
   "source": [
    "models = []\n",
    "models.append(naive_bofum)\n",
    "models.append(bofum)\n",
    "#models.append(bofum_blur)\n",
    "# models.append(bofum_blur_km)\n",
    "# models.append(bofum_not_diagonal)\n",
    "# models.append(bofum_not_diagonal_blur)\n",
    "models.append(bofum_ma)\n",
    "# models.append(bofum_vm)\n",
    "# models.append(bofum_keep)\n",
    "# models.append(bofum_vm_blur)"
   ]
  },
  {
   "cell_type": "code",
   "execution_count": 345,
   "metadata": {},
   "outputs": [
    {
     "data": {
      "text/plain": [
       "12"
      ]
     },
     "execution_count": 345,
     "metadata": {},
     "output_type": "execute_result"
    },
    {
     "name": "stdout",
     "output_type": "stream",
     "text": [
      "frame = 0\n",
      "frame = 1\n",
      "frame = 2\n",
      "frame = 3\n",
      "frame = 4\n",
      "frame = 5\n",
      "frame = 6\n",
      "frame = 7\n",
      "motion factor :0.562946012048\n",
      "frame = 8\n",
      "motion factor :0.397774378024\n",
      "frame = 9\n",
      "motion factor :0.28106506206\n",
      "frame = 10\n",
      "motion factor :0.198598938179\n",
      "frame = 11\n",
      "motion factor :0.140328854668\n",
      "frame = 12\n",
      "motion factor :0.0991555525571\n",
      "frame = 13\n",
      "motion factor :0.070062736749\n",
      "frame = 14\n",
      "motion factor :0.0495059223026\n",
      "frame = 15\n",
      "motion factor :0.034980596773\n",
      "frame = 0\n",
      "frame = 1\n"
     ]
    }
   ],
   "source": [
    "\n",
    "ani = TrackingAnimRealdata(models, num_steps, scene,\n",
    "                                plot_map=True,\n",
    "                                plot_seen=True)\n",
    "\n",
    "fig_1 = plt.figure(figsize=(6, 5))\n",
    "fig_2 = plt.figure(figsize=(6, 5))\n",
    "fig_size = (5 * 4, 5)\n",
    "fig_3 = plt.figure(figsize=fig_size)\n",
    "ma_ax = fig_3.add_subplot(141)\n",
    "ma_plot = Plot(ma_ax, bofum.ma_vel, 1, False, False, False, colorbar_on='occupancy_axes', title='moving average vel/ vel mask')\n",
    "vel_ax = fig_3.add_subplot(142)\n",
    "vel_plot = Plot(vel_ax, bofum.ma_vel, 1, False, False, False, colorbar_on='occupancy_axes', title='predicted vel')\n",
    "merge_vel_ax = fig_3.add_subplot(143)\n",
    "merge_vel_plot = Plot(merge_vel_ax, bofum.ma_vel, 1, False, False, False, colorbar_on='occupancy_axes', title='merged velocity')\n",
    "final_vel_ax = fig_3.add_subplot(144)\n",
    "final_vel_plot = Plot(final_vel_ax, bofum.ma_vel, 1, False, False, False, colorbar_on='occupancy_axes', title='velocity')\n",
    "\n",
    "ani.fig.canvas.mpl_connect('button_press_event', lambda event: onclick(event, models, ani, fig_1, fig_2, fig_3, ma_plot, vel_plot, merge_vel_plot, final_vel_plot))\n",
    "ani.fig.canvas.mpl_connect('key_press_event', lambda event: on_press(event, ani))"
   ]
  },
  {
   "cell_type": "markdown",
   "metadata": {},
   "source": [
    "### draw keep motion velocities for thesis"
   ]
  },
  {
   "cell_type": "code",
   "execution_count": 371,
   "metadata": {},
   "outputs": [
    {
     "data": {
      "text/plain": [
       "12"
      ]
     },
     "execution_count": 371,
     "metadata": {},
     "output_type": "execute_result"
    },
    {
     "name": "stdout",
     "output_type": "stream",
     "text": [
      "frame = 0\n",
      "frame = 1\n",
      "frame = 2\n",
      "frame = 3\n",
      "frame = 4\n",
      "frame = 5\n",
      "frame = 6\n",
      "frame = 7\n",
      "motion factor :0.562946012048\n",
      "[12 23]\n",
      "Click is in axes ax2\n",
      "[[ 1.  1.  1.  1.  1.  1.  1.]\n",
      " [ 1.  1.  1.  1.  1.  1.  1.]\n",
      " [ 1.  1.  1.  1.  1.  1.  1.]\n",
      " [ 1.  1.  1.  1.  1.  1.  1.]\n",
      " [ 1.  1.  1.  1.  1.  1.  1.]\n",
      " [ 1.  1.  1.  1.  1.  1.  1.]\n",
      " [ 1.  1.  1.  1.  1.  1.  1.]]\n",
      "loc (12, 23) of model BOFUM has occupancy of 0.313751258906\n",
      "loc (12, 23) of model BOFMP has occupancy of 0.0800594367367\n",
      "loc (12, 23) of model BOFMP with moving average has occupancy of 0.925699409763\n"
     ]
    }
   ],
   "source": [
    "from matplotlib.ticker import FuncFormatter, MaxNLocator\n",
    "\n",
    "ani = TrackingAnimRealdata(models, num_steps, scene,\n",
    "                                plot_map=True,\n",
    "                                plot_seen=True)\n",
    "\n",
    "fig_1 = plt.figure(figsize=(6, 5))\n",
    "fig_2 = plt.figure(figsize=(6, 5))\n",
    "fig_size = (8, 8)\n",
    "fig_3 = plt.figure(figsize=fig_size)\n",
    "ma_ax = fig_3.add_subplot(221)\n",
    "ma_plot = Plot(ma_ax, bofum.ma_vel, 1, False, False, False, colorbar_on=None, title=r'$P(V_{ma})$')\n",
    "vel_ax = fig_3.add_subplot(222)\n",
    "vel_plot = Plot(vel_ax, bofum.ma_vel, 1, False, False, False, colorbar_on=None, title=r'$P(V_{pred})$')\n",
    "merge_vel_ax = fig_3.add_subplot(223)\n",
    "merge_vel_plot = Plot(merge_vel_ax, bofum.ma_vel, 1, False, False, False, colorbar_on=None, title=r'$P(V)$')\n",
    "merge_vel_ax.set_ylabel(\"BOFMP\")\n",
    "final_vel_ax = fig_3.add_subplot(224)\n",
    "final_vel_plot = Plot(final_vel_ax, bofum.ma_vel, 1, False, False, False, colorbar_on=None, title='$P(V)$')\n",
    "final_vel_ax.set_ylabel(\"BOFMP with motion keeping\")\n",
    "\n",
    "    \n",
    "xlabels = (np.arange(7) + np.array([-(7//2)])).tolist()\n",
    "ylabels = xlabels\n",
    "\n",
    "def format_fn_x(tick_val, tick_pos):\n",
    "    if int(tick_val) in range(7):\n",
    "        return xlabels[int(tick_val)]\n",
    "    else:\n",
    "        return ''\n",
    "\n",
    "def format_fn_y(tick_val, tick_pos):\n",
    "    if int(tick_val) in range(7):\n",
    "        return ylabels[int(tick_val)]\n",
    "    else:\n",
    "        return ''\n",
    "    \n",
    "for ax in [ma_ax, vel_ax, merge_vel_ax, final_vel_ax]:\n",
    "    ax.set_xticks(np.arange(.5, 7.5, 1.0))\n",
    "    ax.set_yticks(np.arange(0.5, 7.5, 1.0))\n",
    "    ax.xaxis.set_major_formatter(FuncFormatter(format_fn_x))\n",
    "    #ax.xaxis.set_major_locator(MaxNLocator(integer=True))\n",
    "    ax.yaxis.set_major_formatter(FuncFormatter(format_fn_y))\n",
    "    #ax.yaxis.set_major_locator(MaxNLocator(integer=True))\n",
    "\n",
    "    if ax not in [merge_vel_ax, final_vel_ax]:\n",
    "        ylabel = ax.set_ylabel(r'$V_y$', color='darkred', fontsize=12)\n",
    "        ylabel.set_rotation(0)\n",
    "        ax.yaxis.set_label_coords(-0.06, .95)\n",
    "        ax.set_xlabel(r'$V_x$', color='darkred', fontsize=12)\n",
    "        ax.xaxis.set_label_coords(1.05, -0.025)\n",
    "\n",
    "c_x, c_y = 7 / 2., 7 / 2.\n",
    "\n",
    "ma_ax.arrow(c_x, c_y , 1, -1, width=.05, head_width=.2, head_length=.3, fc='g', ec='g', zorder=15)\n",
    "vel_ax.arrow(c_x, c_y , 1, 0, width=.05, head_width=.2, head_length=.3, fc='g', ec='g', zorder=15)\n",
    "merge_vel_ax.arrow(c_x, c_y , 1, 0, width=.05, head_width=.2, head_length=.3, fc='g', ec='g', zorder=15)\n",
    "final_vel_ax.arrow(c_x, c_y , 1, 0, width=.05, head_width=.2, head_length=.3, fc='g', ec='g', zorder=15)\n",
    "final_vel_ax.arrow(c_x, c_y , 1, -1, width=.05, head_width=.2, head_length=.3, fc='g', ec='g', zorder=15)\n",
    "# for ax in [vel_ax, merge_vel_ax, final_vel_ax]:\n",
    "#     ax.set_xticks([])\n",
    "#     ax.set_yticks([])\n",
    "    \n",
    "ani.fig.canvas.mpl_connect('button_press_event', lambda event: onclick_keep_motion(event, models, ani, fig_1, fig_2, fig_3, ma_plot, vel_plot, merge_vel_plot, final_vel_plot))\n",
    "ani.fig.canvas.mpl_connect('key_press_event', lambda event: on_press(event, ani))"
   ]
  },
  {
   "cell_type": "markdown",
   "metadata": {},
   "source": [
    "### tracking simulation data"
   ]
  },
  {
   "cell_type": "code",
   "execution_count": 276,
   "metadata": {},
   "outputs": [
    {
     "name": "stdout",
     "output_type": "stream",
     "text": [
      "load file: /home/ful7rng/projects/transition/propagation/scenes/500_simulated_scenes_diagonal_for_testing_from_80_new.npy\n",
      "Take 500 scenes for evaluation\n"
     ]
    }
   ],
   "source": [
    "scene_file = '/home/ful7rng/projects/transition/propagation/scenes/500_simulated_scenes_diagonal_for_testing_from_80_new.npy'\n",
    "#scene_file = '/home/ful7rng/projects/transition/propagation/results/scenes_num_500_min_t_4_max_t_1000000.0_sample_rate_3_simulated_True_diagonal_True.npy'\n",
    "simulated_scenes = True\n",
    "scenes, return_flag = get_scenes(file_name=scene_file,\n",
    "                                 simulated_scenes=simulated_scenes,\n",
    "                                 max_scenes=None\n",
    "                                 )"
   ]
  },
  {
   "cell_type": "code",
   "execution_count": 277,
   "metadata": {},
   "outputs": [
    {
     "data": {
      "text/plain": [
       "<utils.scene_utils.SceneAnimation at 0x7fd95dad0d50>"
      ]
     },
     "execution_count": 277,
     "metadata": {},
     "output_type": "execute_result"
    }
   ],
   "source": [
    "import random\n",
    "scene = random.sample(scenes, 1)[0]\n",
    "num_steps = scene.hits.shape[0]\n",
    "\n",
    "animate_scenes([scene])"
   ]
  },
  {
   "cell_type": "code",
   "execution_count": 287,
   "metadata": {},
   "outputs": [
    {
     "data": {
      "text/plain": [
       "<utils.scene_utils.SceneAnimation at 0x7fd96063f790>"
      ]
     },
     "execution_count": 287,
     "metadata": {},
     "output_type": "execute_result"
    },
    {
     "name": "stderr",
     "output_type": "stream",
     "text": [
      "Traceback (most recent call last):\n",
      "  File \"/local/home/ful7rng/.anaconda/envs/ful/lib/python2.7/site-packages/matplotlib/cbook/__init__.py\", line 389, in process\n",
      "    proxy(*args, **kwargs)\n",
      "  File \"/local/home/ful7rng/.anaconda/envs/ful/lib/python2.7/site-packages/matplotlib/cbook/__init__.py\", line 227, in __call__\n",
      "    return mtd(*args, **kwargs)\n",
      "  File \"<ipython-input-285-5e8a16001f9d>\", line 19, in <lambda>\n",
      "    ani.fig.canvas.mpl_connect('button_press_event', lambda event: onclick(event, models, ani, fig_1, fig_2, fig_3, ma_plot, vel_plot, merge_vel_plot, final_vel_plot))\n",
      "  File \"<ipython-input-117-f4ea24fd9f56>\", line 5, in onclick\n",
      "    coords = np.floor(np.array([ix, iy]) / models[0].map_res).astype(int)\n",
      "TypeError: unsupported operand type(s) for /: 'NoneType' and 'float'\n"
     ]
    },
    {
     "name": "stdout",
     "output_type": "stream",
     "text": [
      "frame = 14\n",
      "frame = 15\n",
      "frame = 0\n",
      "frame = 1\n",
      "172\n",
      "update model BOFUM\n",
      "update model BOFUM with n. o. as acceleration\n",
      "update model BOFUM acc blured\n",
      "frame = 0\n",
      "frame = 1\n",
      "frame = 2\n",
      "frame = 3\n",
      "396\n",
      "update model BOFUM\n",
      "update model BOFUM with n. o. as acceleration\n",
      "update model BOFUM acc blured\n",
      "frame = 0\n",
      "frame = 1\n",
      "frame = 2\n",
      "frame = 3\n",
      "428\n",
      "update model BOFUM\n",
      "update model BOFUM with n. o. as acceleration\n",
      "update model BOFUM acc blured\n",
      "frame = 0\n",
      "frame = 1\n",
      "frame = 2\n",
      "frame = 3\n",
      "frame = 4\n",
      "frame = 5\n",
      "frame = 6\n",
      "frame = 7\n",
      "41\n",
      "update model BOFUM\n",
      "update model BOFUM with n. o. as acceleration\n",
      "update model BOFUM acc blured\n",
      "frame = 0\n",
      "frame = 1\n",
      "frame = 2\n",
      "frame = 3\n",
      "frame = 4\n",
      "frame = 5\n",
      "frame = 6\n",
      "frame = 7\n",
      "frame = 8\n",
      "frame = 9\n",
      "frame = 10\n",
      "frame = 11\n",
      "frame = 12\n",
      "frame = 13\n",
      "frame = 14\n",
      "frame = 15\n",
      "frame = 0\n",
      "frame = 1\n",
      "142\n",
      "update model BOFUM\n",
      "update model BOFUM with n. o. as acceleration\n",
      "update model BOFUM acc blured\n",
      "frame = 0\n",
      "frame = 1\n",
      "frame = 2\n",
      "frame = 3\n",
      "frame = 4\n",
      "frame = 5\n",
      "frame = 6\n",
      "frame = 7\n",
      "frame = 8\n",
      "frame = 9\n",
      "frame = 10\n",
      "frame = 11\n",
      "frame = 12\n",
      "frame = 13\n",
      "frame = 14\n",
      "frame = 15\n",
      "frame = 0\n",
      "frame = 1\n",
      "frame = 2\n",
      "171\n",
      "update model BOFUM\n",
      "update model BOFUM with n. o. as acceleration\n",
      "update model BOFUM acc blured\n",
      "frame = 0\n",
      "frame = 1\n",
      "frame = 2\n",
      "437\n",
      "update model BOFUM\n",
      "update model BOFUM with n. o. as acceleration\n",
      "update model BOFUM acc blured\n",
      "frame = 0\n",
      "frame = 1\n",
      "frame = 2\n",
      "frame = 3\n",
      "213\n",
      "update model BOFUM\n",
      "update model BOFUM with n. o. as acceleration\n",
      "update model BOFUM acc blured\n",
      "frame = 0\n",
      "frame = 1\n",
      "frame = 2\n",
      "frame = 3\n",
      "frame = 4\n",
      "frame = 5\n",
      "frame = 6\n",
      "frame = 7\n",
      "frame = 8\n",
      "90\n",
      "update model BOFUM\n",
      "update model BOFUM with n. o. as acceleration\n",
      "update model BOFUM acc blured\n",
      "frame = 0\n",
      "frame = 1\n",
      "frame = 2\n",
      "frame = 3\n",
      "frame = 4\n",
      "frame = 5\n",
      "frame = 6\n",
      "frame = 7\n",
      "frame = 8\n",
      "frame = 9\n",
      "frame = 10\n",
      "frame = 11\n",
      "242\n",
      "update model BOFUM\n",
      "update model BOFUM with n. o. as acceleration\n",
      "update model BOFUM acc blured\n",
      "frame = 0\n",
      "frame = 1\n",
      "frame = 2\n",
      "frame = 3\n",
      "frame = 4\n",
      "frame = 5\n",
      "frame = 6\n",
      "frame = 7\n",
      "frame = 8\n",
      "frame = 9\n",
      "frame = 10\n",
      "frame = 11\n",
      "frame = 12\n",
      "frame = 13\n",
      "frame = 14\n",
      "frame = 15\n",
      "frame = 0\n",
      "frame = 1\n",
      "frame = 2\n",
      "frame = 3\n",
      "frame = 4\n",
      "frame = 5\n",
      "frame = 6\n",
      "frame = 7\n",
      "frame = 8\n",
      "frame = 9\n",
      "frame = 10\n",
      "frame = 11\n",
      "frame = 12\n",
      "frame = 13\n",
      "frame = 14\n",
      "frame = 15\n",
      "frame = 0\n",
      "228\n",
      "update model BOFUM\n",
      "update model BOFUM with n. o. as acceleration\n",
      "update model BOFUM acc blured\n",
      "frame = 0\n",
      "frame = 1\n",
      "frame = 2\n",
      "frame = 3\n",
      "175\n",
      "update model BOFUM\n",
      "update model BOFUM with n. o. as acceleration\n",
      "update model BOFUM acc blured\n",
      "frame = 0\n",
      "frame = 1\n",
      "frame = 2\n",
      "10\n",
      "update model BOFUM\n",
      "update model BOFUM with n. o. as acceleration\n",
      "update model BOFUM acc blured\n",
      "frame = 0\n",
      "frame = 1\n",
      "frame = 2\n",
      "frame = 3\n",
      "frame = 4\n",
      "frame = 5\n",
      "frame = 6\n",
      "frame = 7\n",
      "frame = 8\n",
      "frame = 9\n",
      "frame = 10\n",
      "frame = 11\n",
      "frame = 12\n",
      "frame = 13\n",
      "frame = 14\n",
      "frame = 15\n",
      "frame = 0\n",
      "frame = 1\n",
      "frame = 2\n",
      "frame = 3\n",
      "frame = 4\n",
      "frame = 5\n",
      "frame = 6\n",
      "frame = 7\n",
      "frame = 8\n",
      "frame = 9\n",
      "frame = 10\n",
      "frame = 11\n",
      "frame = 12\n",
      "frame = 13\n",
      "frame = 14\n",
      "frame = 15\n",
      "frame = 0\n",
      "344\n",
      "update model BOFUM\n",
      "update model BOFUM with n. o. as acceleration\n",
      "update model BOFUM acc blured\n",
      "frame = 0\n",
      "frame = 1\n",
      "frame = 2\n",
      "150\n",
      "update model BOFUM\n",
      "update model BOFUM with n. o. as acceleration\n",
      "update model BOFUM acc blured\n",
      "frame = 0\n",
      "frame = 1\n",
      "frame = 2\n",
      "frame = 3\n",
      "frame = 4\n",
      "frame = 5\n",
      "frame = 6\n",
      "frame = 7\n",
      "frame = 8\n",
      "frame = 9\n",
      "frame = 10\n",
      "frame = 11\n",
      "frame = 12\n",
      "frame = 13\n",
      "frame = 14\n",
      "frame = 15\n",
      "154\n",
      "update model BOFUM\n",
      "update model BOFUM with n. o. as acceleration\n",
      "update model BOFUM acc blured\n",
      "frame = 0\n",
      "frame = 1\n",
      "frame = 2\n",
      "frame = 3\n",
      "frame = 4\n",
      "frame = 5\n",
      "frame = 6\n",
      "frame = 7\n",
      "frame = 8\n",
      "frame = 9\n",
      "frame = 10\n",
      "frame = 11\n",
      "frame = 12\n",
      "frame = 13\n",
      "frame = 14\n",
      "frame = 15\n",
      "frame = 0\n",
      "frame = 1\n",
      "frame = 2\n",
      "frame = 3\n",
      "frame = 4\n",
      "frame = 5\n"
     ]
    },
    {
     "name": "stderr",
     "output_type": "stream",
     "text": [
      "Traceback (most recent call last):\n",
      "  File \"/local/home/ful7rng/.anaconda/envs/ful/lib/python2.7/site-packages/matplotlib/cbook/__init__.py\", line 389, in process\n",
      "    proxy(*args, **kwargs)\n",
      "  File \"/local/home/ful7rng/.anaconda/envs/ful/lib/python2.7/site-packages/matplotlib/cbook/__init__.py\", line 227, in __call__\n",
      "    return mtd(*args, **kwargs)\n",
      "  File \"<ipython-input-285-5e8a16001f9d>\", line 19, in <lambda>\n",
      "    ani.fig.canvas.mpl_connect('button_press_event', lambda event: onclick(event, models, ani, fig_1, fig_2, fig_3, ma_plot, vel_plot, merge_vel_plot, final_vel_plot))\n",
      "  File \"<ipython-input-117-f4ea24fd9f56>\", line 5, in onclick\n",
      "    coords = np.floor(np.array([ix, iy]) / models[0].map_res).astype(int)\n",
      "TypeError: unsupported operand type(s) for /: 'NoneType' and 'float'\n"
     ]
    },
    {
     "name": "stdout",
     "output_type": "stream",
     "text": [
      "frame = 6\n"
     ]
    }
   ],
   "source": [
    "animate_scenes([scenes[27]])"
   ]
  },
  {
   "cell_type": "code",
   "execution_count": 245,
   "metadata": {},
   "outputs": [
    {
     "data": {
      "text/plain": [
       "(16, 32, 32)"
      ]
     },
     "execution_count": 245,
     "metadata": {},
     "output_type": "execute_result"
    }
   ],
   "source": [
    "scene.hits.shape"
   ]
  },
  {
   "cell_type": "code",
   "execution_count": 278,
   "metadata": {
    "collapsed": true
   },
   "outputs": [],
   "source": [
    "map_ = scene.static_map"
   ]
  },
  {
   "cell_type": "code",
   "execution_count": 244,
   "metadata": {
    "collapsed": true
   },
   "outputs": [],
   "source": [
    "def make_T_section(size):\n",
    "    map_size = size\n",
    "    map_ = np.ones((map_size, map_size), dtype=bool)\n",
    "    lane_length = size // 2\n",
    "\n",
    "    for j in range(map_size / 2):\n",
    "        map_[j + 1:j + lane_length + 1, j] = 0\n",
    "    for j in range(map_size / 2, map_size):\n",
    "        map_[map_size - j:map_size - j + lane_length, j] = 0\n",
    "    for j in range(map_size / 2 - lane_length / 2, map_size / 2 + lane_length / 2 + 1):\n",
    "        map_[map_size / 2:map_size, j] = 0\n",
    "    x, y = map_size - map_size / 4, map_size / 2\n",
    "    return map_, x, y"
   ]
  },
  {
   "cell_type": "code",
   "execution_count": 59,
   "metadata": {
    "collapsed": true
   },
   "outputs": [],
   "source": [
    "map_, x, y = make_T_section(61)"
   ]
  },
  {
   "cell_type": "code",
   "execution_count": 60,
   "metadata": {},
   "outputs": [],
   "source": [
    "scene_generator = naiveBOFUM(map_, name='BOFUM', simulated_data=True, noise_var=0.6)"
   ]
  },
  {
   "cell_type": "code",
   "execution_count": 61,
   "metadata": {},
   "outputs": [
    {
     "name": "stdout",
     "output_type": "stream",
     "text": [
      "sampling trajectories: 1/3\n"
     ]
    }
   ],
   "source": [
    "scene_generator.initialize(np.random.randint(1, 4), num_steps, diagonal=True)\n",
    "scene = scene_generator.trajs_to_scene()"
   ]
  },
  {
   "cell_type": "code",
   "execution_count": 86,
   "metadata": {
    "collapsed": true
   },
   "outputs": [],
   "source": [
    "def on_press_simulation(event, animation):\n",
    "    global scenes\n",
    "    if event.key == 'n':\n",
    "        #scene_generator.map = random.sample(scenes, 1)[0].static_map\n",
    "        scene_generator.initialize(np.random.randint(1, 4), num_steps, diagonal=True)\n",
    "        scene = scene_generator.trajs_to_scene()\n",
    "#         scene = random.sample(scenes, 1)[0]\n",
    "        animation.update(scene)"
   ]
  },
  {
   "cell_type": "code",
   "execution_count": 291,
   "metadata": {
    "scrolled": true
   },
   "outputs": [
    {
     "name": "stdout",
     "output_type": "stream",
     "text": [
      "---------------------------------------------------------------------------\n",
      "---------------------------------------------------------------------------\n",
      "Warning : all the layers are not displayed \n",
      "\n",
      "    Layer           Output shape         W shape             \n",
      "1   Input           (None, 1, None, None)                     \n",
      "2   Conv2D          (None, 8, None, None) (8, 1, 1, 1)        \n",
      "3   Conv2D          (None, 12, None, None) (12, 8, 3, 3)       \n",
      "4   Concat          (None, 20, None, None)                     \n",
      "5   Conv2D          (None, 12, None, None) (12, 20, 3, 3)      \n",
      "6   Concat          (None, 32, None, None)                     \n",
      "7   Conv2D          (None, 12, None, None) (12, 32, 3, 3)      \n",
      "8   Concat          (None, 44, None, None)                     \n",
      "9   Conv2D          (None, 12, None, None) (12, 44, 3, 3)      \n",
      "10  Concat          (None, 56, None, None)                     \n",
      "11  Conv2D          (None, 12, None, None) (12, 56, 3, 3)      \n",
      "12  Concat          (None, 68, None, None)                     \n",
      "13  Conv2D          (None, 68, None, None) (68, 68, 1, 1)      \n",
      "14  Pool2D          (None, 68, None, None)                     \n",
      "\n",
      "15  Conv2D          (None, 12, None, None) (12, 68, 3, 3)      \n",
      "16  Concat          (None, 80, None, None)                     \n",
      "17  Conv2D          (None, 12, None, None) (12, 80, 3, 3)      \n",
      "18  Concat          (None, 92, None, None)                     \n",
      "19  Conv2D          (None, 12, None, None) (12, 92, 3, 3)      \n",
      "20  Concat          (None, 104, None, None)                     \n",
      "21  Conv2D          (None, 12, None, None) (12, 104, 3, 3)     \n",
      "22  Concat          (None, 116, None, None)                     \n",
      "23  Conv2D          (None, 12, None, None) (12, 116, 3, 3)     \n",
      "24  Concat          (None, 128, None, None)                     \n",
      "25  Conv2D          (None, 128, None, None) (128, 128, 1, 1)    \n",
      "26  Pool2D          (None, 128, None, None)                     \n",
      "\n",
      "27  Conv2D          (None, 12, None, None) (12, 128, 3, 3)     \n",
      "28  Concat          (None, 140, None, None)                     \n",
      "29  Conv2D          (None, 12, None, None) (12, 140, 3, 3)     \n",
      "30  Concat          (None, 152, None, None)                     \n",
      "31  Conv2D          (None, 12, None, None) (12, 152, 3, 3)     \n",
      "32  Concat          (None, 164, None, None)                     \n",
      "33  Conv2D          (None, 12, None, None) (12, 164, 3, 3)     \n",
      "34  Concat          (None, 176, None, None)                     \n",
      "35  Conv2D          (None, 12, None, None) (12, 176, 3, 3)     \n",
      "36  Concat          (None, 60, None, None)                     \n",
      "37  TransposedConv2D (None, 60, None, None) (60, 60, 3, 3)      \n",
      "\n",
      "38  Concat          (None, 188, None, None)                     \n",
      "39  Conv2D          (None, 12, None, None) (12, 188, 3, 3)     \n",
      "40  Concat          (None, 200, None, None)                     \n",
      "41  Conv2D          (None, 12, None, None) (12, 200, 3, 3)     \n",
      "42  Concat          (None, 212, None, None)                     \n",
      "43  Conv2D          (None, 12, None, None) (12, 212, 3, 3)     \n",
      "44  Concat          (None, 224, None, None)                     \n",
      "45  Conv2D          (None, 12, None, None) (12, 224, 3, 3)     \n",
      "46  Concat          (None, 236, None, None)                     \n",
      "47  Conv2D          (None, 12, None, None) (12, 236, 3, 3)     \n",
      "48  Concat          (None, 60, None, None)                     \n",
      "49  TransposedConv2D (None, 60, None, None) (60, 60, 3, 3)      \n",
      "\n",
      "50  Concat          (None, 128, None, None)                     \n",
      "51  Conv2D          (None, 12, None, None) (12, 128, 3, 3)     \n",
      "52  Concat          (None, 140, None, None)                     \n",
      "53  Conv2D          (None, 12, None, None) (12, 140, 3, 3)     \n",
      "54  Concat          (None, 152, None, None)                     \n",
      "55  Conv2D          (None, 12, None, None) (12, 152, 3, 3)     \n",
      "56  Concat          (None, 164, None, None)                     \n",
      "57  Conv2D          (None, 12, None, None) (12, 164, 3, 3)     \n",
      "58  Concat          (None, 176, None, None)                     \n",
      "59  Conv2D          (None, 12, None, None) (12, 176, 3, 3)     \n",
      "60  Concat          (None, 188, None, None)                     \n",
      "61  Conv2D          (None, 64, None, None) (64, 188, 1, 1)     \n",
      "\n",
      "Number of Convolutional layers : 31\n",
      "Number of parameters : 457720\n",
      "---------------------------------------------------------------------------\n",
      "Compiling function\n",
      "Compilation took 13.747 seconds\n",
      "blurring...\n",
      "found\n"
     ]
    }
   ],
   "source": [
    "\n",
    "force_predict = True\n",
    "simulated_data = False\n",
    "naive_kwargs = dict(omega=0.0164534434234,\n",
    "                  extent=7,\n",
    "                  noise_var=0.555536471101,\n",
    "                  measurement_lost=8,\n",
    "                  verbose=False)\n",
    "\n",
    "kwargs = dict(omega=0.0353639265597,\n",
    "                  extent=7,\n",
    "                  noise_var=0.372650880654,\n",
    "                  measurement_lost=8,\n",
    "                  verbose=False)\n",
    "\n",
    "naive_bofum = naiveBOFUM(map_, name='BOFUM', simulated_data=simulated_data, **naive_kwargs)\n",
    "bofum = conditionalBOFUM(map_, model_name,\n",
    "                               name = 'BOFUM with n. o. as acceleration',\n",
    "                               simulated_data=simulated_data,\n",
    "                               force_predict=force_predict,\n",
    "                               acceleration_interpretation=True,\n",
    "                               **kwargs)\n",
    "\n",
    "bofum_blur = conditionalBOFUM(map_, model_name,\n",
    "                               name = 'BOFUM acc blured',\n",
    "                               simulated_data=simulated_data,\n",
    "                               force_predict=force_predict,\n",
    "                                nn_probs = bofum.nn_probs.copy(),\n",
    "                               acceleration_interpretation=True,\n",
    "                               blur_spatially=True,\n",
    "                               blur_var=1.09,\n",
    "                               blur_extent=5,\n",
    "                               **kwargs)\n",
    "bofum_blur.cnn_model = bofum.cnn_model\n",
    "\n",
    "# bofum_blur_km = conditionalBOFUM(map_, model_name,\n",
    "#                                name = 'BOFUM acc moving average',\n",
    "#                                simulated_data=simulated_data,\n",
    "#                                force_predict=force_predict,\n",
    "#                                 nn_probs = bofum.nn_probs.copy(),\n",
    "#                                acceleration_interpretation=True,\n",
    "#                                blur_spatially=True,\n",
    "#                                keep_motion=True,\n",
    "#                                **kwargs)\n",
    "# bofum_blur_km.cnn_model = bofum.cnn_model\n",
    "\n",
    "\n",
    "\n"
   ]
  },
  {
   "cell_type": "code",
   "execution_count": 292,
   "metadata": {
    "collapsed": true
   },
   "outputs": [],
   "source": [
    "models = []\n",
    "models.append(naive_bofum)\n",
    "models.append(bofum)\n",
    "models.append(bofum_blur)\n",
    "# models.append(bofum_blur_km)"
   ]
  },
  {
   "cell_type": "code",
   "execution_count": 293,
   "metadata": {},
   "outputs": [
    {
     "data": {
      "text/plain": [
       "14"
      ]
     },
     "execution_count": 293,
     "metadata": {},
     "output_type": "execute_result"
    },
    {
     "name": "stdout",
     "output_type": "stream",
     "text": [
      "frame = 0\n",
      "frame = 1\n",
      "frame = 2\n",
      "frame = 3\n",
      "frame = 4\n",
      "frame = 5\n",
      "frame = 6\n",
      "frame = 7\n",
      "frame = 8\n",
      "frame = 9\n",
      "frame = 10\n",
      "frame = 11\n",
      "frame = 12\n",
      "frame = 13\n",
      "frame = 14\n",
      "frame = 15\n",
      "frame = 0\n",
      "frame = 1\n",
      "frame = 2\n",
      "frame = 3\n",
      "frame = 4\n",
      "frame = 5\n",
      "frame = 6\n",
      "frame = 7\n",
      "frame = 8\n",
      "frame = 9\n",
      "frame = 10\n",
      "frame = 11\n",
      "frame = 12\n"
     ]
    }
   ],
   "source": [
    "ani = TrackingAnimRealdata(models, num_steps, scene,\n",
    "                                plot_map=True,\n",
    "                                plot_seen=True,\n",
    "                                simulated_scenes=simulated_scenes)\n",
    "\n",
    "fig_1 = plt.figure(figsize=(6, 5))\n",
    "fig_2 = plt.figure(figsize=(6, 5))\n",
    "fig_size = (5 * 4, 5)\n",
    "fig_3 = plt.figure(figsize=fig_size)\n",
    "ma_ax = fig_3.add_subplot(141)\n",
    "ma_plot = Plot(ma_ax, bofum.ma_vel, 1, False, False, False, colorbar_on='occupancy_axes', title='moving average vel/ vel mask')\n",
    "vel_ax = fig_3.add_subplot(142)\n",
    "vel_plot = Plot(vel_ax, bofum.ma_vel, 1, False, False, False, colorbar_on='occupancy_axes', title='predicted vel')\n",
    "merge_vel_ax = fig_3.add_subplot(143)\n",
    "merge_vel_plot = Plot(merge_vel_ax, bofum.ma_vel, 1, False, False, False, colorbar_on='occupancy_axes', title='merged velocity')\n",
    "final_vel_ax = fig_3.add_subplot(144)\n",
    "final_vel_plot = Plot(final_vel_ax, bofum.ma_vel, 1, False, False, False, colorbar_on='occupancy_axes', title='velocity')\n",
    "\n",
    "ani.fig.canvas.mpl_connect('button_press_event', lambda event: onclick(event, models, ani, fig_1, fig_2, fig_3, ma_plot, vel_plot, merge_vel_plot, final_vel_plot))\n",
    "ani.fig.canvas.mpl_connect('key_press_event', lambda event: on_press(event, ani))"
   ]
  },
  {
   "cell_type": "code",
   "execution_count": null,
   "metadata": {},
   "outputs": [],
   "source": [
    "walls = set(map(lambda point: tuple(point), np.array(np.where(bofum.map)).T.tolist()))\n",
    "print(walls)"
   ]
  },
  {
   "cell_type": "code",
   "execution_count": 403,
   "metadata": {},
   "outputs": [],
   "source": [
    "trajectories = bofum.trajectories.copy()"
   ]
  },
  {
   "cell_type": "code",
   "execution_count": 406,
   "metadata": {},
   "outputs": [
    {
     "name": "stderr",
     "output_type": "stream",
     "text": [
      "[autoreload of propagation.bofum failed: Traceback (most recent call last):\n",
      "  File \"/local/home/ful7rng/.anaconda/envs/ful/lib/python2.7/site-packages/IPython/extensions/autoreload.py\", line 247, in check\n",
      "    superreload(m, reload, self.old_objects)\n",
      "  File \"/local/home/ful7rng/projects/transition/propagation/bofum.py\", line 580\n",
      "    class BOFUMRealdata(BOFUM):\n",
      "                              ^\n",
      "IndentationError: expected an indented block\n",
      "]\n"
     ]
    },
    {
     "data": {
      "text/plain": [
       "array([[ 4, 28],\n",
       "       [ 5, 27],\n",
       "       [29, 16]])"
      ]
     },
     "execution_count": 406,
     "metadata": {},
     "output_type": "execute_result"
    }
   ],
   "source": [
    "trajectories[:, 2]"
   ]
  },
  {
   "cell_type": "code",
   "execution_count": 416,
   "metadata": {},
   "outputs": [
    {
     "name": "stdout",
     "output_type": "stream",
     "text": [
      "(3, 41, 9)\n"
     ]
    }
   ],
   "source": [
    "trajectories = bofum.trajectories.copy()\n",
    "num_steps = bofum.trajectories.shape[1]\n",
    "gt_occupancy = np.zeros((num_steps, )+bofum.map.shape)\n",
    "print(sqaure_trajs.shape)\n",
    "distances = [(x, y) for x in [0, -1, 1] for y in [0, -1, 1]]\n",
    "w, h = bofum.map.shape\n",
    "\n",
    "for idx_1, traj in enumerate(trajectories):\n",
    "    for idx_2, point in enumerate(traj):\n",
    "        def get_neighbor(dist):\n",
    "            x = min(max(0, point[0]+dist[0]), w-1)\n",
    "            y = min(max(0, point[1]+dist[1]), h-1)\n",
    "            return (x, y)\n",
    "        neighbors = set(map(get_neighbor, distances))\n",
    "        neighbors = neighbors.difference(neighbors.intersection(walls))\n",
    "        for neighbor in neighbors:\n",
    "            gt_occupancy[(idx_2, )+neighbor] = 1\n",
    "\n",
    "        \n"
   ]
  },
  {
   "cell_type": "code",
   "execution_count": 365,
   "metadata": {},
   "outputs": [
    {
     "name": "stdout",
     "output_type": "stream",
     "text": [
      "[0 1 0 1 1 1 1 0 1 1]\n",
      "[0 1 1 1 0 1 1 0 0 1]\n",
      "0.769230769231\n",
      "ERROR! Session/line number was not unique in database. History logging moved to new session 269\n",
      "frame = 0\n",
      "frame = 1\n",
      "frame = 2\n",
      "frame = 3\n",
      "frame = 4\n",
      "frame = 5\n",
      "frame = 6\n",
      "frame = 7\n",
      "motion factor :0.5\n"
     ]
    },
    {
     "data": {
      "text/plain": [
       "12"
      ]
     },
     "execution_count": 366,
     "metadata": {},
     "output_type": "execute_result"
    },
    {
     "name": "stdout",
     "output_type": "stream",
     "text": [
      "frame = 8\n",
      "motion factor :0.3\n",
      "frame = 9\n",
      "motion factor :0.18\n",
      "frame = 10\n",
      "motion factor :0.108\n",
      "frame = 11\n",
      "motion factor :0.0648\n",
      "frame = 12\n",
      "motion factor :0.03888\n",
      "frame = 13\n",
      "motion factor :0.023328\n",
      "frame = 14\n",
      "motion factor :0.0139968\n",
      "frame = 15\n",
      "motion factor :0.00839808\n",
      "frame = 16\n",
      "motion factor :0.005038848\n",
      "frame = 17\n",
      "motion factor :0.0030233088\n",
      "frame = 18\n",
      "motion factor :0.00181398528\n",
      "709\n",
      "update model BOFUM\n",
      "observation at loc (18, 27) frame (9) is noise\n",
      "observation at loc (18, 27) frame (10) is noise\n",
      "update model BOFUM with n. o. as acceleration\n",
      "update model BOFUM acc blured\n",
      "update model BOFUM acc moving average\n",
      "update model BOFUM acc. not diagonal\n",
      "update model BOFUM acc. not diagonal blurred\n",
      "frame = 0\n",
      "frame = 1\n",
      "frame = 2\n",
      "frame = 3\n",
      "frame = 4\n",
      "frame = 5\n",
      "frame = 6\n",
      "frame = 7\n",
      "motion factor :0.5\n",
      "frame = 8\n",
      "motion factor :0.3\n",
      "frame = 9\n",
      "motion factor :0.18\n",
      "frame = 10\n",
      "motion factor :0.108\n",
      "frame = 11\n",
      "motion factor :0.0648\n",
      "frame = 12\n",
      "motion factor :0.03888\n",
      "frame = 13\n",
      "motion factor :0.023328\n",
      "frame = 14\n",
      "motion factor :0.0139968\n",
      "1129\n",
      "update model BOFUM\n",
      "update model BOFUM with n. o. as acceleration\n",
      "update model BOFUM acc blured\n",
      "update model BOFUM acc moving average\n",
      "update model BOFUM acc. not diagonal\n",
      "update model BOFUM acc. not diagonal blurred\n",
      "frame = 0\n",
      "frame = 1\n",
      "frame = 2\n",
      "frame = 3\n",
      "frame = 4\n",
      "frame = 5\n",
      "frame = 6\n",
      "frame = 7\n",
      "motion factor :0.5\n",
      "frame = 8\n",
      "motion factor :0.3\n",
      "frame = 9\n",
      "motion factor :0.18\n",
      "frame = 10\n",
      "motion factor :0.108\n",
      "frame = 11\n",
      "motion factor :0.0648\n",
      "frame = 12\n",
      "motion factor :0.03888\n",
      "frame = 13\n",
      "motion factor :0.023328\n",
      "frame = 14\n",
      "motion factor :0.0139968\n",
      "frame = 15\n",
      "motion factor :0.00839808\n",
      "frame = 16\n",
      "motion factor :0.005038848\n",
      "frame = 17\n",
      "motion factor :0.0030233088\n",
      "frame = 0\n",
      "frame = 1\n",
      "frame = 2\n",
      "frame = 3\n",
      "frame = 4\n",
      "frame = 5\n",
      "frame = 6\n",
      "frame = 7\n",
      "motion factor :0.5\n",
      "frame = 8\n",
      "motion factor :0.3\n",
      "frame = 9\n",
      "motion factor :0.18\n",
      "frame = 10\n",
      "motion factor :0.108\n",
      "[16 13]\n",
      "Click is in axes ax4\n",
      "[[ 1.  1.  1.  1.  1.  1.  1.]\n",
      " [ 1.  1.  1.  1.  1.  1.  1.]\n",
      " [ 1.  1.  1.  1.  1.  1.  1.]\n",
      " [ 1.  1.  1.  1.  1.  1.  1.]\n",
      " [ 1.  1.  1.  1.  1.  1.  1.]\n",
      " [ 1.  1.  1.  1.  1.  1.  1.]\n",
      " [ 1.  1.  1.  1.  1.  1.  1.]]\n",
      "loc (16, 13) of model BOFUM has occupancy of 0.00580925365762\n",
      "loc (16, 13) of model BOFUM with n. o. as acceleration has occupancy of 0.0855108307327\n",
      "loc (16, 13) of model BOFUM acc blured has occupancy of 0.00768576521955\n",
      "loc (16, 13) of model BOFUM acc moving average has occupancy of 0.0648284741415\n",
      "loc (16, 13) of model BOFUM acc. not diagonal has occupancy of 0.0222121164896\n",
      "loc (16, 13) of model BOFUM acc. not diagonal blurred has occupancy of 0.0250967271041\n",
      "frame = 11\n",
      "motion factor :0.0648\n",
      "frame = 12\n",
      "motion factor :0.03888\n",
      "frame = 13\n",
      "motion factor :0.023328\n",
      "frame = 14\n",
      "motion factor :0.0139968\n",
      "frame = 15\n",
      "motion factor :0.00839808\n",
      "frame = 16\n",
      "motion factor :0.005038848\n",
      "frame = 17\n",
      "motion factor :0.0030233088\n",
      "frame = 0\n",
      "664\n",
      "update model BOFUM\n",
      "observation at loc (0, 15) frame (4) is noise\n",
      "observation at loc (1, 15) frame (5) is noise\n",
      "update model BOFUM with n. o. as acceleration\n",
      "update model BOFUM acc blured\n",
      "update model BOFUM acc moving average\n",
      "update model BOFUM acc. not diagonal\n",
      "update model BOFUM acc. not diagonal blurred\n",
      "frame = 0\n",
      "48\n",
      "update model BOFUM\n",
      "update model BOFUM with n. o. as acceleration\n",
      "update model BOFUM acc blured\n",
      "update model BOFUM acc moving average\n",
      "update model BOFUM acc. not diagonal\n",
      "update model BOFUM acc. not diagonal blurred\n",
      "frame = 0\n"
     ]
    },
    {
     "name": "stderr",
     "output_type": "stream",
     "text": [
      "/local/home/ful7rng/.anaconda/envs/ful/lib/python2.7/site-packages/sklearn/metrics/classification.py:1137: UndefinedMetricWarning: F-score is ill-defined and being set to 0.0 due to no true samples.\n",
      "  'recall', 'true', average, warn_for)\n"
     ]
    },
    {
     "name": "stdout",
     "output_type": "stream",
     "text": [
      "frame = 1\n",
      "frame = 2\n",
      "frame = 3\n",
      "frame = 4\n",
      "frame = 5\n",
      "frame = 6\n",
      "frame = 7\n",
      "motion factor :0.5\n",
      "frame = 8\n",
      "motion factor :0.3\n",
      "frame = 9\n",
      "motion factor :0.18\n",
      "frame = 10\n",
      "motion factor :0.108\n",
      "frame = 11\n",
      "motion factor :0.0648\n",
      "frame = 12\n",
      "motion factor :0.03888\n",
      "frame = 13\n",
      "motion factor :0.023328\n",
      "frame = 14\n",
      "motion factor :0.0139968\n",
      "frame = 15\n",
      "motion factor :0.00839808\n",
      "frame = 16\n",
      "motion factor :0.005038848\n",
      "frame = 17\n",
      "motion factor :0.0030233088\n",
      "frame = 18\n",
      "motion factor :0.00181398528\n",
      "frame = 19\n",
      "motion factor :0.001088391168\n",
      "frame = 20\n",
      "motion factor :0.0006530347008\n",
      "frame = 21\n",
      "motion factor :0.00039182082048\n",
      "frame = 22\n",
      "motion factor :0.000235092492288\n",
      "frame = 23\n",
      "motion factor :0.000141055495373\n",
      "frame = 24\n",
      "motion factor :8.46332972237e-05\n",
      "frame = 25\n",
      "motion factor :5.07799783342e-05\n",
      "frame = 26\n",
      "motion factor :3.04679870005e-05\n",
      "frame = 0\n",
      "frame = 1\n",
      "frame = 2\n",
      "frame = 3\n",
      "frame = 4\n",
      "frame = 5\n",
      "frame = 6\n",
      "frame = 7\n",
      "motion factor :0.5\n",
      "frame = 8\n",
      "motion factor :0.3\n",
      "frame = 9\n",
      "motion factor :0.18\n",
      "frame = 10\n",
      "motion factor :0.108\n",
      "frame = 11\n",
      "motion factor :0.0648\n",
      "frame = 12\n",
      "motion factor :0.03888\n",
      "frame = 13\n",
      "motion factor :0.023328\n",
      "frame = 14\n",
      "motion factor :0.0139968\n",
      "frame = 15\n",
      "motion factor :0.00839808\n",
      "frame = 16\n",
      "motion factor :0.005038848\n",
      "frame = 17\n",
      "motion factor :0.0030233088\n",
      "frame = 18\n",
      "motion factor :0.00181398528\n",
      "frame = 19\n",
      "motion factor :0.001088391168\n",
      "frame = 20\n",
      "motion factor :0.0006530347008\n",
      "frame = 21\n",
      "motion factor :0.00039182082048\n",
      "frame = 22\n",
      "motion factor :0.000235092492288\n",
      "frame = 23\n",
      "motion factor :0.000141055495373\n",
      "frame = 24\n",
      "motion factor :8.46332972237e-05\n",
      "frame = 25\n",
      "motion factor :5.07799783342e-05\n",
      "frame = 26\n",
      "motion factor :3.04679870005e-05\n",
      "5\n",
      "update model BOFUM\n",
      "observation at loc (6, 12) frame (13) is noise\n",
      "update model BOFUM with n. o. as acceleration\n",
      "update model BOFUM acc blured\n",
      "update model BOFUM acc moving average\n",
      "update model BOFUM acc. not diagonal\n",
      "update model BOFUM acc. not diagonal blurred\n",
      "frame = 0\n",
      "frame = 1\n",
      "frame = 2\n",
      "frame = 3\n",
      "frame = 4\n",
      "frame = 5\n",
      "frame = 6\n",
      "frame = 7\n",
      "motion factor :0.5\n",
      "frame = 8\n",
      "motion factor :0.3\n",
      "frame = 9\n",
      "motion factor :0.18\n",
      "frame = 10\n",
      "motion factor :0.108\n",
      "frame = 11\n",
      "motion factor :0.0648\n",
      "frame = 12\n",
      "motion factor :0.03888\n",
      "frame = 13\n",
      "motion factor :0.023328\n",
      "frame = 14\n",
      "motion factor :0.0139968\n",
      "frame = 15\n",
      "motion factor :0.00839808\n",
      "frame = 16\n",
      "motion factor :0.005038848\n",
      "frame = 17\n",
      "motion factor :0.0030233088\n",
      "frame = 18\n",
      "motion factor :0.00181398528\n",
      "frame = 19\n",
      "motion factor :0.001088391168\n",
      "frame = 0\n",
      "frame = 1\n",
      "frame = 2\n",
      "frame = 3\n",
      "frame = 4\n",
      "frame = 5\n",
      "frame = 6\n",
      "frame = 7\n",
      "motion factor :0.5\n",
      "frame = 8\n",
      "motion factor :0.3\n",
      "frame = 9\n",
      "motion factor :0.18\n",
      "frame = 10\n",
      "motion factor :0.108\n",
      "frame = 11\n",
      "motion factor :0.0648\n",
      "frame = 12\n",
      "motion factor :0.03888\n",
      "frame = 13\n",
      "motion factor :0.023328\n",
      "frame = 14\n",
      "motion factor :0.0139968\n",
      "frame = 15\n",
      "motion factor :0.00839808\n",
      "frame = 16\n",
      "motion factor :0.005038848\n",
      "frame = 17\n",
      "motion factor :0.0030233088\n",
      "frame = 18\n",
      "motion factor :0.00181398528\n",
      "frame = 19\n",
      "motion factor :0.001088391168\n",
      "frame = 0\n",
      "frame = 1\n",
      "frame = 2\n",
      "frame = 3\n",
      "frame = 4\n",
      "frame = 5\n",
      "frame = 6\n",
      "frame = 7\n",
      "motion factor :0.5\n",
      "frame = 8\n",
      "motion factor :0.3\n",
      "636\n",
      "update model BOFUM\n",
      "observation at loc (12, 26) frame (6) is noise\n",
      "observation at loc (12, 26) frame (9) is noise\n",
      "observation at loc (12, 26) frame (10) is noise\n",
      "observation at loc (12, 26) frame (13) is noise\n",
      "update model BOFUM with n. o. as acceleration\n",
      "update model BOFUM acc blured\n",
      "update model BOFUM acc moving average\n",
      "update model BOFUM acc. not diagonal\n",
      "update model BOFUM acc. not diagonal blurred\n",
      "frame = 0\n",
      "frame = 1\n",
      "frame = 2\n",
      "frame = 3\n",
      "frame = 4\n",
      "frame = 5\n",
      "frame = 6\n",
      "frame = 7\n",
      "motion factor :0.5\n",
      "frame = 8\n",
      "motion factor :0.3\n",
      "frame = 9\n",
      "motion factor :0.18\n",
      "frame = 10\n",
      "motion factor :0.108\n",
      "frame = 11\n",
      "motion factor :0.0648\n",
      "frame = 12\n",
      "motion factor :0.03888\n",
      "frame = 13\n",
      "motion factor :0.023328\n",
      "frame = 14\n",
      "motion factor :0.0139968\n",
      "frame = 15\n",
      "motion factor :0.00839808\n",
      "frame = 16\n",
      "motion factor :0.005038848\n",
      "frame = 17\n",
      "motion factor :0.0030233088\n",
      "frame = 18\n",
      "motion factor :0.00181398528\n",
      "frame = 19\n",
      "motion factor :0.001088391168\n"
     ]
    }
   ],
   "source": [
    "from sklearn.metrics import f1_score\n",
    "gt = np.random.randint(0, 2, 10)\n",
    "print(gt)\n",
    "pred = np.random.randint(0, 2, 10)\n",
    "print(pred)\n",
    "print(f1_score(gt, pred))"
   ]
  },
  {
   "cell_type": "code",
   "execution_count": 278,
   "metadata": {},
   "outputs": [
    {
     "ename": "AttributeError",
     "evalue": "'NoneType' object has no attribute 'shape'",
     "output_type": "error",
     "traceback": [
      "\u001b[0;31m---------------------------------------------------------------------------\u001b[0m",
      "\u001b[0;31mAttributeError\u001b[0m                            Traceback (most recent call last)",
      "\u001b[0;32m<ipython-input-278-984d96e91046>\u001b[0m in \u001b[0;36m<module>\u001b[0;34m()\u001b[0m\n\u001b[1;32m      1\u001b[0m \u001b[0mkernels\u001b[0m \u001b[0;34m=\u001b[0m \u001b[0mmodels\u001b[0m\u001b[0;34m[\u001b[0m\u001b[0;36m1\u001b[0m\u001b[0;34m]\u001b[0m\u001b[0;34m.\u001b[0m\u001b[0mkernels\u001b[0m\u001b[0;34m\u001b[0m\u001b[0m\n\u001b[0;32m----> 2\u001b[0;31m \u001b[0mw\u001b[0m\u001b[0;34m,\u001b[0m \u001b[0mh\u001b[0m \u001b[0;34m=\u001b[0m \u001b[0mkernels\u001b[0m\u001b[0;34m.\u001b[0m\u001b[0mshape\u001b[0m\u001b[0;34m[\u001b[0m\u001b[0;34m:\u001b[0m\u001b[0;36m2\u001b[0m\u001b[0;34m]\u001b[0m\u001b[0;34m\u001b[0m\u001b[0m\n\u001b[0m",
      "\u001b[0;31mAttributeError\u001b[0m: 'NoneType' object has no attribute 'shape'"
     ]
    },
    {
     "name": "stdout",
     "output_type": "stream",
     "text": [
      "ERROR! Session/line number was not unique in database. History logging moved to new session 267\n",
      "frame = 0\n",
      "frame = 1\n",
      "frame = 2\n",
      "frame = 3\n",
      "frame = 4\n",
      "frame = 5\n",
      "frame = 6\n",
      "frame = 7\n",
      "frame = 8\n",
      "frame = 9\n",
      "frame = 10\n",
      "frame = 11\n",
      "frame = 12\n",
      "frame = 13\n",
      "frame = 14\n",
      "frame = 15\n",
      "frame = 16\n",
      "frame = 17\n",
      "frame = 18\n"
     ]
    },
    {
     "data": {
      "text/plain": [
       "12"
      ]
     },
     "execution_count": 279,
     "metadata": {},
     "output_type": "execute_result"
    },
    {
     "name": "stdout",
     "output_type": "stream",
     "text": [
      "frame = 0\n",
      "frame = 1\n",
      "frame = 2\n",
      "frame = 3\n",
      "frame = 4\n",
      "frame = 5\n",
      "frame = 6\n",
      "frame = 7\n",
      "frame = 8\n",
      "frame = 9\n",
      "frame = 10\n",
      "frame = 11\n",
      "frame = 12\n",
      "frame = 13\n",
      "frame = 14\n",
      "frame = 15\n",
      "frame = 16\n",
      "frame = 17\n",
      "frame = 18\n",
      "frame = 0\n",
      "frame = 1\n",
      "frame = 2\n",
      "frame = 3\n",
      "frame = 4\n",
      "frame = 5\n",
      "frame = 6\n",
      "frame = 7\n",
      "frame = 8\n",
      "frame = 9\n",
      "frame = 10\n",
      "frame = 11\n",
      "frame = 12\n",
      "frame = 13\n",
      "frame = 14\n",
      "frame = 15\n",
      "frame = 16\n",
      "frame = 17\n",
      "frame = 18\n",
      "frame = 0\n",
      "frame = 1\n",
      "frame = 2\n",
      "frame = 3\n",
      "frame = 4\n",
      "frame = 5\n",
      "frame = 6\n",
      "frame = 7\n",
      "frame = 8\n",
      "frame = 9\n",
      "frame = 10\n",
      "frame = 11\n",
      "frame = 12\n",
      "frame = 13\n",
      "frame = 14\n",
      "frame = 15\n",
      "frame = 16\n",
      "frame = 17\n",
      "frame = 18\n",
      "frame = 0\n",
      "frame = 1\n",
      "frame = 2\n",
      "frame = 3\n",
      "frame = 4\n",
      "frame = 5\n",
      "frame = 6\n",
      "frame = 7\n",
      "frame = 8\n",
      "frame = 9\n",
      "frame = 10\n",
      "frame = 11\n",
      "frame = 12\n",
      "frame = 13\n",
      "frame = 14\n",
      "frame = 15\n",
      "frame = 16\n",
      "frame = 17\n",
      "frame = 18\n",
      "frame = 0\n",
      "frame = 1\n",
      "frame = 2\n",
      "frame = 3\n",
      "frame = 4\n",
      "frame = 5\n",
      "frame = 6\n",
      "frame = 7\n",
      "frame = 8\n",
      "frame = 9\n",
      "frame = 10\n",
      "frame = 11\n",
      "frame = 12\n",
      "frame = 13\n",
      "frame = 14\n",
      "frame = 15\n",
      "frame = 16\n",
      "frame = 17\n",
      "frame = 18\n",
      "frame = 0\n",
      "frame = 1\n",
      "frame = 2\n",
      "frame = 3\n",
      "frame = 4\n",
      "frame = 5\n",
      "frame = 6\n",
      "frame = 7\n",
      "frame = 8\n",
      "frame = 9\n",
      "frame = 10\n",
      "frame = 11\n",
      "frame = 12\n",
      "frame = 13\n",
      "frame = 14\n",
      "frame = 15\n",
      "frame = 16\n",
      "frame = 17\n",
      "frame = 18\n",
      "frame = 0\n",
      "frame = 1\n",
      "frame = 2\n",
      "frame = 3\n",
      "frame = 4\n",
      "frame = 5\n",
      "frame = 6\n",
      "frame = 7\n",
      "frame = 8\n",
      "frame = 9\n",
      "frame = 10\n",
      "frame = 11\n",
      "frame = 12\n",
      "frame = 13\n",
      "frame = 14\n",
      "frame = 15\n",
      "frame = 16\n",
      "frame = 17\n",
      "frame = 18\n",
      "frame = 0\n",
      "frame = 1\n",
      "frame = 2\n",
      "frame = 3\n",
      "frame = 4\n",
      "frame = 5\n",
      "frame = 6\n",
      "frame = 7\n",
      "frame = 8\n",
      "frame = 9\n",
      "frame = 10\n",
      "frame = 11\n",
      "frame = 12\n",
      "frame = 13\n",
      "frame = 14\n",
      "frame = 15\n",
      "frame = 16\n",
      "frame = 17\n",
      "frame = 18\n",
      "frame = 0\n",
      "frame = 1\n",
      "frame = 2\n",
      "frame = 3\n",
      "frame = 4\n",
      "frame = 5\n",
      "frame = 6\n",
      "frame = 7\n",
      "frame = 8\n",
      "frame = 9\n",
      "frame = 10\n",
      "frame = 11\n",
      "frame = 12\n",
      "frame = 13\n",
      "frame = 14\n",
      "frame = 15\n",
      "frame = 16\n",
      "frame = 17\n",
      "frame = 18\n",
      "frame = 0\n",
      "frame = 1\n",
      "frame = 2\n",
      "frame = 3\n",
      "frame = 4\n",
      "frame = 5\n",
      "frame = 6\n",
      "frame = 7\n",
      "frame = 8\n",
      "frame = 9\n",
      "frame = 10\n",
      "frame = 11\n",
      "frame = 12\n",
      "frame = 13\n",
      "frame = 14\n",
      "frame = 15\n",
      "frame = 16\n",
      "frame = 17\n",
      "frame = 18\n",
      "frame = 0\n",
      "frame = 1\n",
      "frame = 2\n",
      "frame = 3\n",
      "frame = 4\n",
      "frame = 5\n",
      "frame = 6\n",
      "frame = 7\n",
      "frame = 8\n",
      "frame = 9\n",
      "frame = 10\n",
      "frame = 11\n",
      "frame = 12\n",
      "frame = 13\n",
      "frame = 14\n",
      "frame = 15\n",
      "frame = 16\n",
      "frame = 17\n",
      "frame = 18\n",
      "frame = 0\n",
      "frame = 1\n",
      "frame = 2\n",
      "frame = 3\n",
      "frame = 4\n",
      "frame = 5\n",
      "frame = 6\n",
      "frame = 7\n",
      "frame = 8\n",
      "frame = 9\n",
      "frame = 10\n",
      "frame = 11\n",
      "frame = 12\n",
      "frame = 13\n",
      "frame = 14\n",
      "frame = 15\n",
      "frame = 16\n",
      "frame = 17\n",
      "frame = 18\n",
      "frame = 0\n",
      "frame = 1\n",
      "frame = 2\n",
      "frame = 3\n",
      "frame = 4\n",
      "frame = 5\n",
      "frame = 6\n",
      "frame = 7\n",
      "frame = 8\n",
      "frame = 9\n",
      "frame = 10\n",
      "frame = 11\n",
      "frame = 12\n",
      "frame = 13\n",
      "frame = 14\n",
      "frame = 15\n",
      "frame = 16\n",
      "frame = 17\n",
      "frame = 18\n",
      "frame = 0\n",
      "frame = 1\n",
      "frame = 2\n",
      "frame = 3\n",
      "frame = 4\n",
      "frame = 5\n",
      "frame = 6\n",
      "frame = 7\n",
      "frame = 8\n",
      "frame = 9\n",
      "frame = 10\n",
      "frame = 11\n",
      "frame = 12\n",
      "frame = 13\n",
      "frame = 14\n",
      "frame = 15\n",
      "frame = 16\n",
      "frame = 17\n",
      "frame = 18\n",
      "frame = 0\n",
      "frame = 1\n",
      "frame = 2\n",
      "frame = 3\n",
      "frame = 4\n",
      "frame = 5\n",
      "frame = 6\n",
      "frame = 7\n",
      "frame = 8\n",
      "frame = 9\n",
      "frame = 10\n",
      "frame = 11\n",
      "frame = 12\n",
      "frame = 13\n",
      "frame = 14\n",
      "frame = 15\n",
      "frame = 16\n",
      "frame = 17\n",
      "frame = 18\n",
      "frame = 0\n",
      "frame = 1\n",
      "frame = 2\n",
      "frame = 3\n",
      "frame = 4\n",
      "frame = 5\n",
      "frame = 6\n",
      "frame = 7\n",
      "frame = 8\n",
      "frame = 9\n",
      "frame = 10\n",
      "frame = 11\n",
      "frame = 12\n",
      "frame = 13\n",
      "frame = 14\n",
      "frame = 15\n",
      "frame = 16\n",
      "frame = 17\n",
      "frame = 18\n",
      "frame = 0\n",
      "frame = 1\n",
      "frame = 2\n",
      "frame = 3\n",
      "frame = 4\n",
      "frame = 5\n",
      "frame = 6\n",
      "frame = 7\n",
      "frame = 8\n",
      "frame = 9\n",
      "frame = 10\n",
      "frame = 11\n",
      "frame = 12\n",
      "frame = 13\n",
      "frame = 14\n",
      "frame = 15\n",
      "frame = 16\n",
      "frame = 17\n",
      "frame = 18\n",
      "frame = 0\n",
      "frame = 1\n",
      "frame = 2\n",
      "frame = 3\n",
      "frame = 4\n",
      "frame = 5\n",
      "frame = 6\n",
      "frame = 7\n",
      "frame = 8\n",
      "frame = 9\n",
      "frame = 10\n",
      "frame = 11\n",
      "frame = 12\n",
      "frame = 13\n",
      "frame = 14\n",
      "frame = 15\n",
      "frame = 16\n",
      "frame = 17\n",
      "frame = 18\n",
      "frame = 0\n",
      "frame = 1\n",
      "frame = 2\n",
      "frame = 3\n",
      "frame = 4\n",
      "frame = 5\n",
      "frame = 6\n",
      "frame = 7\n",
      "frame = 8\n",
      "frame = 9\n",
      "frame = 10\n",
      "frame = 11\n",
      "frame = 12\n",
      "frame = 13\n",
      "frame = 14\n",
      "frame = 15\n",
      "frame = 16\n",
      "frame = 17\n",
      "frame = 18\n",
      "frame = 0\n",
      "frame = 1\n",
      "frame = 2\n",
      "frame = 3\n",
      "frame = 4\n",
      "frame = 5\n",
      "frame = 6\n",
      "frame = 7\n",
      "frame = 8\n",
      "frame = 9\n",
      "frame = 10\n",
      "frame = 11\n",
      "frame = 12\n",
      "frame = 13\n",
      "frame = 14\n",
      "frame = 15\n",
      "frame = 16\n",
      "frame = 17\n",
      "frame = 18\n",
      "frame = 0\n",
      "frame = 1\n",
      "frame = 2\n",
      "frame = 3\n",
      "frame = 4\n",
      "frame = 5\n",
      "frame = 6\n",
      "frame = 7\n",
      "frame = 8\n",
      "frame = 9\n",
      "frame = 10\n",
      "frame = 11\n",
      "frame = 12\n",
      "frame = 13\n",
      "frame = 14\n",
      "frame = 15\n",
      "frame = 16\n",
      "1159\n",
      "update model BOFUM\n",
      "update model BOFUM with n. o. as acceleration\n",
      "nn_probs shape is : (32, 32, 8, 8)\n",
      "724\n",
      "update model BOFUM\n",
      "update model BOFUM with n. o. as acceleration\n",
      "nn_probs shape is : (32, 32, 8, 8)\n",
      "frame = 0\n",
      "frame = 1\n",
      "frame = 2\n",
      "frame = 3\n",
      "frame = 4\n",
      "frame = 5\n",
      "frame = 6\n",
      "frame = 7\n",
      "frame = 8\n"
     ]
    }
   ],
   "source": [
    "kernels = models[1].kernels\n",
    "w, h = kernels.shape[:2]"
   ]
  },
  {
   "cell_type": "code",
   "execution_count": 48,
   "metadata": {
    "collapsed": true
   },
   "outputs": [],
   "source": [
    "plot_4d_tensor(temp[2, 2])\n",
    "plot_4d_tensor(temp[1, 1])"
   ]
  },
  {
   "cell_type": "code",
   "execution_count": 41,
   "metadata": {
    "collapsed": true
   },
   "outputs": [],
   "source": [
    "from utils import nd_gaussian\n",
    "\n",
    "def blur_kernels_spatially(kernels, blur_extent=5, var=0.6):\n",
    "\n",
    "    w, h = kernels.shape[:2]\n",
    "    half_be = blur_extent //  2\n",
    "\n",
    "    blurred = np.zeros_like(kernels)\n",
    "    blurred = np.pad(blurred, ((half_be, half_be), (half_be, half_be), \n",
    "                               (0, 0), (0, 0), (0, 0), (0, 0)), \n",
    "                                mode='constant', constant_values=0)\n",
    "\n",
    "    gaussian = nd_gaussian((blur_extent, blur_extent), (half_be, half_be), var)\n",
    "    plt.figure()\n",
    "    ax = plt.imshow(gaussian)\n",
    "    plt.colorbar(ax)\n",
    "\n",
    "    for i in range(w):\n",
    "        for j in range(h):\n",
    "            #print(i, j)\n",
    "            temp = gaussian[..., None, None, None, None] * kernels[i, j]\n",
    "            blurred[i:i+blur_extent, j:j+blur_extent] += temp\n",
    "    blurred = blurred[half_be:half_be+w, half_be:half_be+h]\n",
    "    # normalize to a probability distribution\n",
    "    with np.errstate(divide='ignore', invalid='ignore'):\n",
    "        blurred /= blurred.sum(axis=(4, 5), keepdims=True)\n",
    "        blurred[~np.isfinite(blurred)] = 0\n",
    "        \n",
    "    return blurred"
   ]
  },
  {
   "cell_type": "code",
   "execution_count": 53,
   "metadata": {
    "collapsed": true
   },
   "outputs": [],
   "source": [
    "models = []\n",
    "\n",
    "\n",
    "bofum_1 = conditionalBOFUM(map_, model_name,\n",
    "                               name = 'BOFUM w kernel blur',\n",
    "                               simulated_data=simulated_data,\n",
    "                               force_predict=False,\n",
    "                               acceleration_interpretation=True,\n",
    "                               **kwargs)\n",
    "\n",
    "\n",
    "bofum_2 = conditionalBOFUM(map_, model_name,\n",
    "                               name = 'BOFUM w condi_prob blur',\n",
    "                               simulated_data=simulated_data,\n",
    "                               force_predict=False,\n",
    "                               acceleration_interpretation=True,\n",
    "                               **kwargs)\n",
    "\n",
    "bofum_3 = conditionalBOFUM(map_, model_name,\n",
    "                               name = 'BOFUM w condi_prob blur',\n",
    "                               simulated_data=simulated_data,\n",
    "                               force_predict=False,\n",
    "                               acceleration_interpretation=True,\n",
    "                               **kwargs)\n",
    "\n",
    "\n",
    "\n",
    "models.append(bofum)\n",
    "models.append(bofum_1)\n",
    "models.append(bofum_2)\n",
    "models.append(bofum_3)\n",
    "map(lambda model: model.initialize(scene), models)\n",
    "\n",
    "blurred_kernels = blur_kernels_spatially(bofum.kernels)\n",
    "bofum_1.kernels = blurred_kernels\n",
    "blurred_condi = blur_kernels_spatially(bofum.conditional_probs)\n",
    "bofum_2.conditional_probs = blurred_condi\n",
    "bofum_2.construct_kernels()\n",
    "blurred_condi = blur_kernels_spatially(bofum.conditional_probs, blur_extent=7, var=0.8)\n",
    "bofum_3.conditional_probs = blurred_condi\n",
    "bofum_3.construct_kernels()"
   ]
  },
  {
   "cell_type": "code",
   "execution_count": 43,
   "metadata": {},
   "outputs": [
    {
     "data": {
      "text/plain": [
       "True"
      ]
     },
     "execution_count": 43,
     "metadata": {},
     "output_type": "execute_result"
    }
   ],
   "source": [
    "(blurred_kernels == bofum_1.kernels).all()"
   ]
  },
  {
   "cell_type": "code",
   "execution_count": 44,
   "metadata": {},
   "outputs": [
    {
     "data": {
      "text/plain": [
       "False"
      ]
     },
     "execution_count": 44,
     "metadata": {},
     "output_type": "execute_result"
    }
   ],
   "source": [
    "(bofum.kernels == bofum_1.kernels).all()"
   ]
  },
  {
   "cell_type": "code",
   "execution_count": 45,
   "metadata": {},
   "outputs": [
    {
     "data": {
      "text/plain": [
       "False"
      ]
     },
     "execution_count": 45,
     "metadata": {},
     "output_type": "execute_result"
    }
   ],
   "source": [
    "(bofum_2.kernels == bofum_1.kernels).all()"
   ]
  },
  {
   "cell_type": "code",
   "execution_count": 54,
   "metadata": {
    "collapsed": true
   },
   "outputs": [],
   "source": [
    "# get cross entropy\n",
    "results = np.zeros((len(models), num_steps), dtype=float)"
   ]
  },
  {
   "cell_type": "code",
   "execution_count": 55,
   "metadata": {
    "collapsed": true
   },
   "outputs": [],
   "source": [
    "for i in range(num_steps):\n",
    "    for m, model in enumerate(models):\n",
    "        model.tracking_step()\n",
    "        results[m, i] = model.calc_cross_entropy()"
   ]
  },
  {
   "cell_type": "code",
   "execution_count": 56,
   "metadata": {},
   "outputs": [
    {
     "data": {
      "text/plain": [
       "array([[ 25.49073465,   3.84869801,   2.13929921,   3.93393667,\n",
       "          1.78277712,   3.92495086,   5.44265805,   6.30542227,\n",
       "          5.10214595,   4.77591112,   2.53913048,   1.76680371,\n",
       "          2.73617617,   0.75845949,   2.92018203,   1.91264348,\n",
       "          2.08302724,   0.79905669,   2.19960102,   1.50478909,\n",
       "          1.23882981,   1.67931359,   3.96487629,   1.5758093 ,\n",
       "          1.35595518,   0.76588525,   0.52078869,   1.07712621,\n",
       "          1.26976321,   5.31276919,   4.41687738,   5.09051301,\n",
       "          4.71810355,   3.50030789,   3.24112469,   0.68395647],\n",
       "       [ 25.49073465,   3.81673963,   2.10372351,   3.82652506,\n",
       "          1.73075608,   3.78575316,   5.36304209,   6.30201805,\n",
       "          5.18764487,   4.72674817,   2.42158455,   1.94718851,\n",
       "          2.92398964,   0.83711008,   3.29378999,   2.12195319,\n",
       "          2.2661867 ,   0.86822227,   2.26942381,   1.66654572,\n",
       "          1.2038297 ,   1.85901365,   3.2495976 ,   1.53127673,\n",
       "          1.39344664,   0.90537844,   0.64503553,   1.04610286,\n",
       "          1.16727031,   5.3343763 ,   4.24695973,   4.47033736,\n",
       "          4.49113205,   3.31151808,   3.27898999,   0.81338586],\n",
       "       [ 25.49073465,   3.81673848,   2.10361746,   3.82632984,\n",
       "          1.73067917,   3.78564125,   5.36291947,   6.30189617,\n",
       "          5.18752931,   4.72663847,   2.42151126,   1.94714898,\n",
       "          2.92395861,   0.83709645,   3.29376752,   2.12193818,\n",
       "          2.26617463,   0.86822116,   2.26942108,   1.66654451,\n",
       "          1.20382793,   1.85901341,   3.24959684,   1.53127661,\n",
       "          1.39344633,   0.90537783,   0.64503549,   1.04610254,\n",
       "          1.16727005,   5.33437586,   4.24695935,   4.47033753,\n",
       "          4.49113251,   3.31150911,   3.27897679,   0.81338377],\n",
       "       [ 25.49073465,   3.8045347 ,   2.08964653,   3.78807998,\n",
       "          1.71273999,   3.737971  ,   5.33478132,   6.29243008,\n",
       "          5.21099517,   4.73365915,   2.41899469,   2.00162012,\n",
       "          2.98454918,   0.86198082,   3.42621012,   2.20879009,\n",
       "          2.35250005,   0.89277111,   2.29346618,   1.73377292,\n",
       "          1.18936272,   1.93361508,   3.1860509 ,   1.51765536,\n",
       "          1.4224996 ,   0.96171448,   0.70308716,   1.03759817,\n",
       "          1.14870286,   5.37485576,   4.25765952,   4.38690688,\n",
       "          4.48200172,   3.27084867,   3.35737882,   0.87261868]])"
      ]
     },
     "execution_count": 56,
     "metadata": {},
     "output_type": "execute_result"
    }
   ],
   "source": [
    "results"
   ]
  },
  {
   "cell_type": "code",
   "execution_count": 57,
   "metadata": {},
   "outputs": [
    {
     "data": {
      "text/plain": [
       "<matplotlib.legend.Legend at 0x7f7001b08e50>"
      ]
     },
     "execution_count": 57,
     "metadata": {},
     "output_type": "execute_result"
    }
   ],
   "source": [
    "plt.figure()\n",
    "for i in range(len(models)):\n",
    "    plt.plot(results[i], label=models[i].name)\n",
    "plt.legend()"
   ]
  },
  {
   "cell_type": "markdown",
   "metadata": {},
   "source": [
    "### numerical issue of gaussian kernels"
   ]
  },
  {
   "cell_type": "code",
   "execution_count": 83,
   "metadata": {
    "collapsed": true
   },
   "outputs": [],
   "source": [
    "def get_gaussian_kernels(num_dim, increased_gaussian, fig):\n",
    "    gaussian_kernels = np.zeros(([extent] * num_dim * 2))\n",
    "    for idx in np.ndindex(*([extent] * num_dim)):\n",
    "        raw_input()\n",
    "        gaussian_kernels[tuple(idx)] = gaussian_kernel_at(idx, increased_gaussian, fig)\n",
    "    return gaussian_kernels"
   ]
  },
  {
   "cell_type": "code",
   "execution_count": 102,
   "metadata": {
    "collapsed": true
   },
   "outputs": [],
   "source": [
    "def gaussian_kernel_at(idx, increased_kernel, fig):\n",
    "    \"\"\" Return a gaussian kernel centered at idx. \"\"\"\n",
    "    print(idx)\n",
    "    slices = map(lambda cor: slice(extent-cor-1, extent-cor+extent-1), idx)\n",
    "    #slices = map(lambda cor: slice(cor, cor+extent), idx)\n",
    "    print(slices)\n",
    "    kernel = increased_kernel[slices].copy()\n",
    "    # normalize\n",
    "    kernel /= np.sum(kernel)\n",
    "    \n",
    "    plot_4d_tensor(kernel, fig=fig)\n",
    "    plt.suptitle(idx)\n",
    "    fig.canvas.draw()\n",
    "    \n",
    "    return kernel"
   ]
  },
  {
   "cell_type": "code",
   "execution_count": 60,
   "metadata": {
    "collapsed": true
   },
   "outputs": [],
   "source": [
    "def get_increased_kernel(extent, noise_var, num_dim):\n",
    "    increased_extent = extent + extent // 2 * 2\n",
    "    gaussian_kernel = nd_gaussian([increased_extent] * num_dim,\n",
    "                                       center=[increased_extent // 2] * num_dim,\n",
    "                                       cov=noise_var)\n",
    "    return gaussian_kernel"
   ]
  },
  {
   "cell_type": "code",
   "execution_count": 103,
   "metadata": {
    "collapsed": true
   },
   "outputs": [],
   "source": [
    "extent = 5\n",
    "num_dim = 4\n",
    "noise_var = 0.6"
   ]
  },
  {
   "cell_type": "code",
   "execution_count": 62,
   "metadata": {
    "collapsed": true
   },
   "outputs": [],
   "source": [
    "increased_gaussian = get_increased_kernel(extent, noise_var, num_dim)"
   ]
  },
  {
   "cell_type": "code",
   "execution_count": 63,
   "metadata": {},
   "outputs": [
    {
     "data": {
      "text/plain": [
       "(9, 9, 9, 9)"
      ]
     },
     "execution_count": 63,
     "metadata": {},
     "output_type": "execute_result"
    }
   ],
   "source": [
    "increased_gaussian.shape"
   ]
  },
  {
   "cell_type": "code",
   "execution_count": 104,
   "metadata": {},
   "outputs": [
    {
     "name": "stdout",
     "output_type": "stream",
     "text": [
      "\n",
      "(0, 0, 0, 0)\n",
      "[slice(4, 9, None), slice(4, 9, None), slice(4, 9, None), slice(4, 9, None)]\n",
      "\n",
      "(0, 0, 0, 1)\n",
      "[slice(4, 9, None), slice(4, 9, None), slice(4, 9, None), slice(3, 8, None)]\n",
      "\n",
      "(0, 0, 0, 2)\n",
      "[slice(4, 9, None), slice(4, 9, None), slice(4, 9, None), slice(2, 7, None)]\n",
      "\n",
      "(0, 0, 0, 3)\n",
      "[slice(4, 9, None), slice(4, 9, None), slice(4, 9, None), slice(1, 6, None)]\n"
     ]
    },
    {
     "ename": "KeyboardInterrupt",
     "evalue": "",
     "output_type": "error",
     "traceback": [
      "\u001b[0;31m---------------------------------------------------------------------------\u001b[0m",
      "\u001b[0;31mKeyboardInterrupt\u001b[0m                         Traceback (most recent call last)",
      "\u001b[0;32m<ipython-input-104-7bea06d2c722>\u001b[0m in \u001b[0;36m<module>\u001b[0;34m()\u001b[0m\n\u001b[1;32m      1\u001b[0m \u001b[0mfig\u001b[0m \u001b[0;34m=\u001b[0m \u001b[0mplt\u001b[0m\u001b[0;34m.\u001b[0m\u001b[0mfigure\u001b[0m\u001b[0;34m(\u001b[0m\u001b[0;34m)\u001b[0m\u001b[0;34m\u001b[0m\u001b[0m\n\u001b[0;32m----> 2\u001b[0;31m \u001b[0mkernels\u001b[0m \u001b[0;34m=\u001b[0m \u001b[0mget_gaussian_kernels\u001b[0m\u001b[0;34m(\u001b[0m\u001b[0mnum_dim\u001b[0m\u001b[0;34m,\u001b[0m \u001b[0mincreased_gaussian\u001b[0m\u001b[0;34m,\u001b[0m \u001b[0mfig\u001b[0m\u001b[0;34m)\u001b[0m\u001b[0;34m\u001b[0m\u001b[0m\n\u001b[0m",
      "\u001b[0;32m<ipython-input-83-f9d9ea52fa3b>\u001b[0m in \u001b[0;36mget_gaussian_kernels\u001b[0;34m(num_dim, increased_gaussian, fig)\u001b[0m\n\u001b[1;32m      2\u001b[0m     \u001b[0mgaussian_kernels\u001b[0m \u001b[0;34m=\u001b[0m \u001b[0mnp\u001b[0m\u001b[0;34m.\u001b[0m\u001b[0mzeros\u001b[0m\u001b[0;34m(\u001b[0m\u001b[0;34m(\u001b[0m\u001b[0;34m[\u001b[0m\u001b[0mextent\u001b[0m\u001b[0;34m]\u001b[0m \u001b[0;34m*\u001b[0m \u001b[0mnum_dim\u001b[0m \u001b[0;34m*\u001b[0m \u001b[0;36m2\u001b[0m\u001b[0;34m)\u001b[0m\u001b[0;34m)\u001b[0m\u001b[0;34m\u001b[0m\u001b[0m\n\u001b[1;32m      3\u001b[0m     \u001b[0;32mfor\u001b[0m \u001b[0midx\u001b[0m \u001b[0;32min\u001b[0m \u001b[0mnp\u001b[0m\u001b[0;34m.\u001b[0m\u001b[0mndindex\u001b[0m\u001b[0;34m(\u001b[0m\u001b[0;34m*\u001b[0m\u001b[0;34m(\u001b[0m\u001b[0;34m[\u001b[0m\u001b[0mextent\u001b[0m\u001b[0;34m]\u001b[0m \u001b[0;34m*\u001b[0m \u001b[0mnum_dim\u001b[0m\u001b[0;34m)\u001b[0m\u001b[0;34m)\u001b[0m\u001b[0;34m:\u001b[0m\u001b[0;34m\u001b[0m\u001b[0m\n\u001b[0;32m----> 4\u001b[0;31m         \u001b[0mraw_input\u001b[0m\u001b[0;34m(\u001b[0m\u001b[0;34m)\u001b[0m\u001b[0;34m\u001b[0m\u001b[0m\n\u001b[0m\u001b[1;32m      5\u001b[0m         \u001b[0mgaussian_kernels\u001b[0m\u001b[0;34m[\u001b[0m\u001b[0mtuple\u001b[0m\u001b[0;34m(\u001b[0m\u001b[0midx\u001b[0m\u001b[0;34m)\u001b[0m\u001b[0;34m]\u001b[0m \u001b[0;34m=\u001b[0m \u001b[0mgaussian_kernel_at\u001b[0m\u001b[0;34m(\u001b[0m\u001b[0midx\u001b[0m\u001b[0;34m,\u001b[0m \u001b[0mincreased_gaussian\u001b[0m\u001b[0;34m,\u001b[0m \u001b[0mfig\u001b[0m\u001b[0;34m)\u001b[0m\u001b[0;34m\u001b[0m\u001b[0m\n\u001b[1;32m      6\u001b[0m     \u001b[0;32mreturn\u001b[0m \u001b[0mgaussian_kernels\u001b[0m\u001b[0;34m\u001b[0m\u001b[0m\n",
      "\u001b[0;32m/local/home/ful7rng/.anaconda/envs/ful/lib/python2.7/site-packages/ipykernel/kernelbase.pyc\u001b[0m in \u001b[0;36mraw_input\u001b[0;34m(self, prompt)\u001b[0m\n\u001b[1;32m    703\u001b[0m             \u001b[0mself\u001b[0m\u001b[0;34m.\u001b[0m\u001b[0m_parent_ident\u001b[0m\u001b[0;34m,\u001b[0m\u001b[0;34m\u001b[0m\u001b[0m\n\u001b[1;32m    704\u001b[0m             \u001b[0mself\u001b[0m\u001b[0;34m.\u001b[0m\u001b[0m_parent_header\u001b[0m\u001b[0;34m,\u001b[0m\u001b[0;34m\u001b[0m\u001b[0m\n\u001b[0;32m--> 705\u001b[0;31m             \u001b[0mpassword\u001b[0m\u001b[0;34m=\u001b[0m\u001b[0mFalse\u001b[0m\u001b[0;34m,\u001b[0m\u001b[0;34m\u001b[0m\u001b[0m\n\u001b[0m\u001b[1;32m    706\u001b[0m         )\n\u001b[1;32m    707\u001b[0m \u001b[0;34m\u001b[0m\u001b[0m\n",
      "\u001b[0;32m/local/home/ful7rng/.anaconda/envs/ful/lib/python2.7/site-packages/ipykernel/kernelbase.pyc\u001b[0m in \u001b[0;36m_input_request\u001b[0;34m(self, prompt, ident, parent, password)\u001b[0m\n\u001b[1;32m    733\u001b[0m             \u001b[0;32mexcept\u001b[0m \u001b[0mKeyboardInterrupt\u001b[0m\u001b[0;34m:\u001b[0m\u001b[0;34m\u001b[0m\u001b[0m\n\u001b[1;32m    734\u001b[0m                 \u001b[0;31m# re-raise KeyboardInterrupt, to truncate traceback\u001b[0m\u001b[0;34m\u001b[0m\u001b[0;34m\u001b[0m\u001b[0m\n\u001b[0;32m--> 735\u001b[0;31m                 \u001b[0;32mraise\u001b[0m \u001b[0mKeyboardInterrupt\u001b[0m\u001b[0;34m\u001b[0m\u001b[0m\n\u001b[0m\u001b[1;32m    736\u001b[0m             \u001b[0;32melse\u001b[0m\u001b[0;34m:\u001b[0m\u001b[0;34m\u001b[0m\u001b[0m\n\u001b[1;32m    737\u001b[0m                 \u001b[0;32mbreak\u001b[0m\u001b[0;34m\u001b[0m\u001b[0m\n",
      "\u001b[0;31mKeyboardInterrupt\u001b[0m: "
     ]
    }
   ],
   "source": [
    "fig = plt.figure()\n",
    "kernels = get_gaussian_kernels(num_dim, increased_gaussian, fig)"
   ]
  },
  {
   "cell_type": "code",
   "execution_count": 23,
   "metadata": {
    "collapsed": true
   },
   "outputs": [],
   "source": [
    "fname = 'scenes_num_1000_min_t_3_max_t_4_sample_rate_3.npy'\n",
    "folder = '/home/ful7rng/projects/transition/propagation/results/'\n",
    "f = folder + fname\n",
    "scenes = np.load(f)"
   ]
  },
  {
   "cell_type": "code",
   "execution_count": 59,
   "metadata": {},
   "outputs": [
    {
     "name": "stdout",
     "output_type": "stream",
     "text": [
      "Found 194 files in total\n",
      "Found 8097 scenes in total\n",
      "36\n",
      "48\n",
      "Found 1112 scenes (= 13.733%) whose interval is in range (3, 4)\n",
      "Found 163 scenes (= 2.013%) whose interval does not match number of hits.\n",
      "Take 1000 scenes for evaluation\n"
     ]
    }
   ],
   "source": [
    "data_folder = '/local/data/scenes/100_11'\n",
    "scenes, return_flag = get_scenes(data_folder, 3, 4,\n",
    "                                         max_scenes=1000,\n",
    "                                         sample_rate=3,\n",
    "                                         laser_fre=12)"
   ]
  },
  {
   "cell_type": "code",
   "execution_count": 31,
   "metadata": {},
   "outputs": [
    {
     "data": {
      "text/plain": [
       "array([ 0,  5, 10, 15, 20, 25, 30, 35, 40, 45, 50, 55, 60, 65, 70, 75, 80,\n",
       "       85, 90, 95])"
      ]
     },
     "execution_count": 31,
     "metadata": {},
     "output_type": "execute_result"
    }
   ],
   "source": [
    "x = np.arange(100)\n",
    "x = x[::5]\n",
    "x"
   ]
  },
  {
   "cell_type": "code",
   "execution_count": 52,
   "metadata": {
    "collapsed": true
   },
   "outputs": [],
   "source": [
    "x = np.random.randint(0, 10, (7,8))"
   ]
  },
  {
   "cell_type": "code",
   "execution_count": 50,
   "metadata": {
    "collapsed": true
   },
   "outputs": [],
   "source": [
    "?np.random.choice"
   ]
  },
  {
   "cell_type": "code",
   "execution_count": 55,
   "metadata": {
    "collapsed": true
   },
   "outputs": [],
   "source": [
    "import random\n",
    "y = np.array(random.sample(x, 5))"
   ]
  },
  {
   "cell_type": "code",
   "execution_count": 56,
   "metadata": {},
   "outputs": [
    {
     "data": {
      "text/plain": [
       "(5, 8)"
      ]
     },
     "execution_count": 56,
     "metadata": {},
     "output_type": "execute_result"
    }
   ],
   "source": [
    "y.shape"
   ]
  },
  {
   "cell_type": "code",
   "execution_count": 57,
   "metadata": {},
   "outputs": [
    {
     "data": {
      "text/plain": [
       "(1000,)"
      ]
     },
     "execution_count": 57,
     "metadata": {},
     "output_type": "execute_result"
    }
   ],
   "source": [
    "scenes.shape"
   ]
  },
  {
   "cell_type": "code",
   "execution_count": 43,
   "metadata": {
    "collapsed": true
   },
   "outputs": [],
   "source": [
    "for i, scene in enumerate(scenes):\n",
    "    if scene.hits.shape[0] == 1:\n",
    "        print(i)\n",
    "    #print(i)"
   ]
  },
  {
   "cell_type": "code",
   "execution_count": 42,
   "metadata": {},
   "outputs": [
    {
     "name": "stdout",
     "output_type": "stream",
     "text": [
      "Take 1000 scenes for evaluation\n"
     ]
    }
   ],
   "source": [
    "max_scenes = 1000\n",
    "if max_scenes is not None and len(scenes) > max_scenes:\n",
    "    scenes = scenes[np.random.randint(0, len(scenes), max_scenes)]\n",
    "    print(\"Take %d scenes for evaluation\" % max_scenes)\n"
   ]
  },
  {
   "cell_type": "code",
   "execution_count": 22,
   "metadata": {},
   "outputs": [
    {
     "name": "stdout",
     "output_type": "stream",
     "text": [
      "(1, 32, 32)\n"
     ]
    },
    {
     "data": {
      "text/plain": [
       "<matplotlib.animation.FuncAnimation at 0x7f5c083723d0>"
      ]
     },
     "execution_count": 22,
     "metadata": {},
     "output_type": "execute_result"
    }
   ],
   "source": [
    "scene = scenes[7]\n",
    "print(scene.hits.shape)\n",
    "animate_scenes([scene])"
   ]
  },
  {
   "cell_type": "code",
   "execution_count": 12,
   "metadata": {},
   "outputs": [
    {
     "data": {
      "text/plain": [
       "{'end': 1494405454.7891603,\n",
       " 'hits': array([[[ 0.,  0.,  1., ...,  0.,  0.,  0.],\n",
       "         [ 0.,  0.,  1., ...,  0.,  0.,  0.],\n",
       "         [ 0.,  0.,  1., ...,  0.,  0.,  0.],\n",
       "         ..., \n",
       "         [ 0.,  0.,  0., ...,  0.,  0.,  0.],\n",
       "         [ 0.,  0.,  0., ...,  0.,  0.,  0.],\n",
       "         [ 0.,  0.,  0., ...,  0.,  0.,  0.]]]),\n",
       " 'origin': array([ 11.4,  10.8]),\n",
       " 'res': 0.19999999999999998,\n",
       " 'seens': array([[[ 0.,  0.,  0., ...,  0.,  0.,  0.],\n",
       "         [ 0.,  0.,  0., ...,  0.,  0.,  0.],\n",
       "         [ 0.,  0.,  0., ...,  0.,  0.,  0.],\n",
       "         ..., \n",
       "         [ 0.,  0.,  0., ...,  0.,  0.,  0.],\n",
       "         [ 0.,  0.,  0., ...,  0.,  0.,  0.],\n",
       "         [ 0.,  0.,  0., ...,  0.,  0.,  0.]]]),\n",
       " 'start': 1494405451.2425327,\n",
       " 'static_map': array([[ True,  True,  True, ...,  True,  True,  True],\n",
       "        [ True,  True,  True, ...,  True,  True,  True],\n",
       "        [ True,  True,  True, ...,  True,  True,  True],\n",
       "        ..., \n",
       "        [ True,  True,  True, ..., False, False,  True],\n",
       "        [ True,  True,  True, ..., False, False, False],\n",
       "        [ True,  True,  True, ..., False, False, False]], dtype=bool)}"
      ]
     },
     "execution_count": 12,
     "metadata": {},
     "output_type": "execute_result"
    }
   ],
   "source": [
    "scene.__dict__"
   ]
  },
  {
   "cell_type": "code",
   "execution_count": 6,
   "metadata": {},
   "outputs": [
    {
     "data": {
      "text/plain": [
       "<matplotlib.animation.FuncAnimation at 0x7f5c0d35d690>"
      ]
     },
     "execution_count": 6,
     "metadata": {},
     "output_type": "execute_result"
    }
   ],
   "source": [
    "scene_copy = deepcopy(scene)\n",
    "animate_scenes([BOFUMRealdata.scene_preprocessing(scene_copy)])"
   ]
  },
  {
   "cell_type": "code",
   "execution_count": 60,
   "metadata": {
    "collapsed": true
   },
   "outputs": [],
   "source": [
    "for i, scene in enumerate(scenes):\n",
    "    scene_copy = deepcopy(scene)\n",
    "    try:\n",
    "        BOFUMRealdata.scene_preprocessing(scene_copy)\n",
    "    except IndexError:\n",
    "        print(i)"
   ]
  },
  {
   "cell_type": "code",
   "execution_count": 68,
   "metadata": {
    "collapsed": true
   },
   "outputs": [],
   "source": [
    "x = np.random.randn(6)\n",
    "idx = np.random.randint(0, 6, 5)"
   ]
  },
  {
   "cell_type": "code",
   "execution_count": 69,
   "metadata": {},
   "outputs": [
    {
     "data": {
      "text/plain": [
       "array([ 0.00715804,  1.55625278, -0.42154636,  2.62302897,  1.51321242,\n",
       "        0.70077197])"
      ]
     },
     "execution_count": 69,
     "metadata": {},
     "output_type": "execute_result"
    }
   ],
   "source": [
    "x"
   ]
  },
  {
   "cell_type": "code",
   "execution_count": 70,
   "metadata": {},
   "outputs": [
    {
     "data": {
      "text/plain": [
       "numpy.ndarray"
      ]
     },
     "execution_count": 70,
     "metadata": {},
     "output_type": "execute_result"
    }
   ],
   "source": [
    "type(idx)"
   ]
  },
  {
   "cell_type": "code",
   "execution_count": 71,
   "metadata": {},
   "outputs": [
    {
     "data": {
      "text/plain": [
       "array([4, 1, 5, 1, 2])"
      ]
     },
     "execution_count": 71,
     "metadata": {},
     "output_type": "execute_result"
    }
   ],
   "source": [
    "idx"
   ]
  },
  {
   "cell_type": "code",
   "execution_count": 72,
   "metadata": {
    "collapsed": true
   },
   "outputs": [],
   "source": [
    "x = x[idx]"
   ]
  },
  {
   "cell_type": "code",
   "execution_count": 73,
   "metadata": {},
   "outputs": [
    {
     "data": {
      "text/plain": [
       "array([ 1.51321242,  1.55625278,  0.70077197,  1.55625278, -0.42154636])"
      ]
     },
     "execution_count": 73,
     "metadata": {},
     "output_type": "execute_result"
    }
   ],
   "source": [
    "x"
   ]
  },
  {
   "cell_type": "code",
   "execution_count": null,
   "metadata": {
    "collapsed": true
   },
   "outputs": [],
   "source": []
  }
 ],
 "metadata": {
  "kernelspec": {
   "display_name": "Python 2",
   "language": "python",
   "name": "python2"
  },
  "language_info": {
   "codemirror_mode": {
    "name": "ipython",
    "version": 2
   },
   "file_extension": ".py",
   "mimetype": "text/x-python",
   "name": "python",
   "nbconvert_exporter": "python",
   "pygments_lexer": "ipython2",
   "version": "2.7.13"
  }
 },
 "nbformat": 4,
 "nbformat_minor": 2
}
