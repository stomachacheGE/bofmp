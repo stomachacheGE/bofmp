{
 "cells": [
  {
   "cell_type": "code",
   "execution_count": 1,
   "metadata": {},
   "outputs": [
    {
     "name": "stdout",
     "output_type": "stream",
     "text": [
      "main line\n",
      "module name: __main__\n",
      "parent process: 28107\n",
      "process id: 15242\n",
      "function f\n",
      "module name: __main__\n",
      "parent process: 15242\n",
      "process id: 15256\n",
      "hello bob\n"
     ]
    }
   ],
   "source": [
    "from multiprocessing import Process\n",
    "import os\n",
    "\n",
    "def info(title):\n",
    "    print title\n",
    "    print 'module name:', __name__\n",
    "    if hasattr(os, 'getppid'):  # only available on Unix\n",
    "        print 'parent process:', os.getppid()\n",
    "    print 'process id:', os.getpid()\n",
    "\n",
    "def f(name):\n",
    "    info('function f')\n",
    "    print 'hello', name\n",
    "\n",
    "if __name__ == '__main__':\n",
    "    info('main line')\n",
    "    p = Process(target=f, args=('bob',))\n",
    "    p.start()\n",
    "    p.join()"
   ]
  },
  {
   "cell_type": "code",
   "execution_count": 19,
   "metadata": {},
   "outputs": [
    {
     "ename": "KeyboardInterrupt",
     "evalue": "",
     "output_type": "error",
     "traceback": [
      "\u001b[0;31m---------------------------------------------------------------------------\u001b[0m",
      "\u001b[0;31mKeyboardInterrupt\u001b[0m                         Traceback (most recent call last)",
      "\u001b[0;32m<ipython-input-19-8100590229db>\u001b[0m in \u001b[0;36m<module>\u001b[0;34m()\u001b[0m\n\u001b[1;32m     26\u001b[0m \u001b[0m_start\u001b[0m \u001b[0;34m=\u001b[0m \u001b[0mtime\u001b[0m\u001b[0;34m.\u001b[0m\u001b[0mtime\u001b[0m\u001b[0;34m(\u001b[0m\u001b[0;34m)\u001b[0m\u001b[0;34m\u001b[0m\u001b[0m\n\u001b[1;32m     27\u001b[0m \u001b[0mwriter\u001b[0m\u001b[0;34m(\u001b[0m\u001b[0;36m600\u001b[0m\u001b[0;34m,\u001b[0m \u001b[0mqueue\u001b[0m\u001b[0;34m)\u001b[0m    \u001b[0;31m# Send a lot of stuff to reader()\u001b[0m\u001b[0;34m\u001b[0m\u001b[0m\n\u001b[0;32m---> 28\u001b[0;31m \u001b[0mreader_p\u001b[0m\u001b[0;34m.\u001b[0m\u001b[0mjoin\u001b[0m\u001b[0;34m(\u001b[0m\u001b[0;34m)\u001b[0m         \u001b[0;31m# Wait for the reader to finish\u001b[0m\u001b[0;34m\u001b[0m\u001b[0m\n\u001b[0m\u001b[1;32m     29\u001b[0m print \"Sending %s numbers to Queue() took %s seconds\" % (count, \n\u001b[1;32m     30\u001b[0m     (time.time() - _start))\n",
      "\u001b[0;32m/local/home/ful7rng/.anaconda/envs/ful/lib/python2.7/multiprocessing/process.pyc\u001b[0m in \u001b[0;36mjoin\u001b[0;34m(self, timeout)\u001b[0m\n\u001b[1;32m    143\u001b[0m         \u001b[0;32massert\u001b[0m \u001b[0mself\u001b[0m\u001b[0;34m.\u001b[0m\u001b[0m_parent_pid\u001b[0m \u001b[0;34m==\u001b[0m \u001b[0mos\u001b[0m\u001b[0;34m.\u001b[0m\u001b[0mgetpid\u001b[0m\u001b[0;34m(\u001b[0m\u001b[0;34m)\u001b[0m\u001b[0;34m,\u001b[0m \u001b[0;34m'can only join a child process'\u001b[0m\u001b[0;34m\u001b[0m\u001b[0m\n\u001b[1;32m    144\u001b[0m         \u001b[0;32massert\u001b[0m \u001b[0mself\u001b[0m\u001b[0;34m.\u001b[0m\u001b[0m_popen\u001b[0m \u001b[0;32mis\u001b[0m \u001b[0;32mnot\u001b[0m \u001b[0mNone\u001b[0m\u001b[0;34m,\u001b[0m \u001b[0;34m'can only join a started process'\u001b[0m\u001b[0;34m\u001b[0m\u001b[0m\n\u001b[0;32m--> 145\u001b[0;31m         \u001b[0mres\u001b[0m \u001b[0;34m=\u001b[0m \u001b[0mself\u001b[0m\u001b[0;34m.\u001b[0m\u001b[0m_popen\u001b[0m\u001b[0;34m.\u001b[0m\u001b[0mwait\u001b[0m\u001b[0;34m(\u001b[0m\u001b[0mtimeout\u001b[0m\u001b[0;34m)\u001b[0m\u001b[0;34m\u001b[0m\u001b[0m\n\u001b[0m\u001b[1;32m    146\u001b[0m         \u001b[0;32mif\u001b[0m \u001b[0mres\u001b[0m \u001b[0;32mis\u001b[0m \u001b[0;32mnot\u001b[0m \u001b[0mNone\u001b[0m\u001b[0;34m:\u001b[0m\u001b[0;34m\u001b[0m\u001b[0m\n\u001b[1;32m    147\u001b[0m             \u001b[0m_current_process\u001b[0m\u001b[0;34m.\u001b[0m\u001b[0m_children\u001b[0m\u001b[0;34m.\u001b[0m\u001b[0mdiscard\u001b[0m\u001b[0;34m(\u001b[0m\u001b[0mself\u001b[0m\u001b[0;34m)\u001b[0m\u001b[0;34m\u001b[0m\u001b[0m\n",
      "\u001b[0;32m/local/home/ful7rng/.anaconda/envs/ful/lib/python2.7/multiprocessing/forking.pyc\u001b[0m in \u001b[0;36mwait\u001b[0;34m(self, timeout)\u001b[0m\n\u001b[1;32m    152\u001b[0m         \u001b[0;32mdef\u001b[0m \u001b[0mwait\u001b[0m\u001b[0;34m(\u001b[0m\u001b[0mself\u001b[0m\u001b[0;34m,\u001b[0m \u001b[0mtimeout\u001b[0m\u001b[0;34m=\u001b[0m\u001b[0mNone\u001b[0m\u001b[0;34m)\u001b[0m\u001b[0;34m:\u001b[0m\u001b[0;34m\u001b[0m\u001b[0m\n\u001b[1;32m    153\u001b[0m             \u001b[0;32mif\u001b[0m \u001b[0mtimeout\u001b[0m \u001b[0;32mis\u001b[0m \u001b[0mNone\u001b[0m\u001b[0;34m:\u001b[0m\u001b[0;34m\u001b[0m\u001b[0m\n\u001b[0;32m--> 154\u001b[0;31m                 \u001b[0;32mreturn\u001b[0m \u001b[0mself\u001b[0m\u001b[0;34m.\u001b[0m\u001b[0mpoll\u001b[0m\u001b[0;34m(\u001b[0m\u001b[0;36m0\u001b[0m\u001b[0;34m)\u001b[0m\u001b[0;34m\u001b[0m\u001b[0m\n\u001b[0m\u001b[1;32m    155\u001b[0m             \u001b[0mdeadline\u001b[0m \u001b[0;34m=\u001b[0m \u001b[0mtime\u001b[0m\u001b[0;34m.\u001b[0m\u001b[0mtime\u001b[0m\u001b[0;34m(\u001b[0m\u001b[0;34m)\u001b[0m \u001b[0;34m+\u001b[0m \u001b[0mtimeout\u001b[0m\u001b[0;34m\u001b[0m\u001b[0m\n\u001b[1;32m    156\u001b[0m             \u001b[0mdelay\u001b[0m \u001b[0;34m=\u001b[0m \u001b[0;36m0.0005\u001b[0m\u001b[0;34m\u001b[0m\u001b[0m\n",
      "\u001b[0;32m/local/home/ful7rng/.anaconda/envs/ful/lib/python2.7/multiprocessing/forking.pyc\u001b[0m in \u001b[0;36mpoll\u001b[0;34m(self, flag)\u001b[0m\n\u001b[1;32m    133\u001b[0m                 \u001b[0;32mwhile\u001b[0m \u001b[0mTrue\u001b[0m\u001b[0;34m:\u001b[0m\u001b[0;34m\u001b[0m\u001b[0m\n\u001b[1;32m    134\u001b[0m                     \u001b[0;32mtry\u001b[0m\u001b[0;34m:\u001b[0m\u001b[0;34m\u001b[0m\u001b[0m\n\u001b[0;32m--> 135\u001b[0;31m                         \u001b[0mpid\u001b[0m\u001b[0;34m,\u001b[0m \u001b[0msts\u001b[0m \u001b[0;34m=\u001b[0m \u001b[0mos\u001b[0m\u001b[0;34m.\u001b[0m\u001b[0mwaitpid\u001b[0m\u001b[0;34m(\u001b[0m\u001b[0mself\u001b[0m\u001b[0;34m.\u001b[0m\u001b[0mpid\u001b[0m\u001b[0;34m,\u001b[0m \u001b[0mflag\u001b[0m\u001b[0;34m)\u001b[0m\u001b[0;34m\u001b[0m\u001b[0m\n\u001b[0m\u001b[1;32m    136\u001b[0m                     \u001b[0;32mexcept\u001b[0m \u001b[0mos\u001b[0m\u001b[0;34m.\u001b[0m\u001b[0merror\u001b[0m \u001b[0;32mas\u001b[0m \u001b[0me\u001b[0m\u001b[0;34m:\u001b[0m\u001b[0;34m\u001b[0m\u001b[0m\n\u001b[1;32m    137\u001b[0m                         \u001b[0;32mif\u001b[0m \u001b[0me\u001b[0m\u001b[0;34m.\u001b[0m\u001b[0merrno\u001b[0m \u001b[0;34m==\u001b[0m \u001b[0merrno\u001b[0m\u001b[0;34m.\u001b[0m\u001b[0mEINTR\u001b[0m\u001b[0;34m:\u001b[0m\u001b[0;34m\u001b[0m\u001b[0m\n",
      "\u001b[0;31mKeyboardInterrupt\u001b[0m: "
     ]
    }
   ],
   "source": [
    "from multiprocessing import Process, Pool\n",
    "from Queue import Queue\n",
    "import time\n",
    "\n",
    "def reader(queue):\n",
    "    ## Read from the queue\n",
    "    while True:\n",
    "        msg = queue.get()         # Read from the queue and do nothing\n",
    "        if (msg == 'DONE'):\n",
    "            break\n",
    "\n",
    "def writer(count, queue):\n",
    "    ## Write to the queue\n",
    "    for ii in xrange(0, count):\n",
    "        queue.put(ii)             # Write 'count' numbers into the queue\n",
    "    queue.put('DONE')\n",
    "\n",
    "\n",
    "\n",
    "queue = Queue()   # reader() reads from queue\n",
    "                  # writer() writes to queue\n",
    "reader_p = Process(target=reader, args=((queue),))\n",
    "reader_p.daemon = True\n",
    "reader_p.start()        # Launch reader() as a separate python process\n",
    "\n",
    "_start = time.time()\n",
    "writer(600, queue)    # Send a lot of stuff to reader()\n",
    "reader_p.join()         # Wait for the reader to finish\n",
    "print \"Sending %s numbers to Queue() took %s seconds\" % (count, \n",
    "    (time.time() - _start))"
   ]
  },
  {
   "cell_type": "code",
   "execution_count": 13,
   "metadata": {},
   "outputs": [
    {
     "name": "stderr",
     "output_type": "stream",
     "text": [
      "Process PoolWorker-15:\n",
      "Process PoolWorker-13:\n",
      "Process PoolWorker-14:\n",
      "Traceback (most recent call last):\n",
      "Traceback (most recent call last):\n",
      "Traceback (most recent call last):\n",
      "  File \"/local/home/ful7rng/.anaconda/envs/ful/lib/python2.7/multiprocessing/process.py\", line 258, in _bootstrap\n",
      "  File \"/local/home/ful7rng/.anaconda/envs/ful/lib/python2.7/multiprocessing/process.py\", line 258, in _bootstrap\n",
      "  File \"/local/home/ful7rng/.anaconda/envs/ful/lib/python2.7/multiprocessing/process.py\", line 258, in _bootstrap\n",
      "    self.run()\n",
      "    self.run()\n",
      "    self.run()\n",
      "  File \"/local/home/ful7rng/.anaconda/envs/ful/lib/python2.7/multiprocessing/process.py\", line 114, in run\n",
      "  File \"/local/home/ful7rng/.anaconda/envs/ful/lib/python2.7/multiprocessing/process.py\", line 114, in run\n",
      "  File \"/local/home/ful7rng/.anaconda/envs/ful/lib/python2.7/multiprocessing/process.py\", line 114, in run\n",
      "    self._target(*self._args, **self._kwargs)\n",
      "    self._target(*self._args, **self._kwargs)\n",
      "    self._target(*self._args, **self._kwargs)\n",
      "  File \"/local/home/ful7rng/.anaconda/envs/ful/lib/python2.7/multiprocessing/pool.py\", line 102, in worker\n",
      "  File \"/local/home/ful7rng/.anaconda/envs/ful/lib/python2.7/multiprocessing/pool.py\", line 102, in worker\n",
      "  File \"/local/home/ful7rng/.anaconda/envs/ful/lib/python2.7/multiprocessing/pool.py\", line 102, in worker\n",
      "    task = get()\n",
      "    task = get()\n",
      "    task = get()\n",
      "  File \"/local/home/ful7rng/.anaconda/envs/ful/lib/python2.7/multiprocessing/queues.py\", line 378, in get\n",
      "  File \"/local/home/ful7rng/.anaconda/envs/ful/lib/python2.7/multiprocessing/queues.py\", line 376, in get\n",
      "  File \"/local/home/ful7rng/.anaconda/envs/ful/lib/python2.7/multiprocessing/queues.py\", line 376, in get\n",
      "    racquire()\n",
      "    return recv()\n",
      "    racquire()\n",
      "KeyboardInterrupt\n",
      "KeyboardInterrupt\n",
      "KeyboardInterrupt\n"
     ]
    }
   ],
   "source": [
    "import multiprocessing\n",
    "\n",
    "def evaluate(param):\n",
    "    print(param)\n",
    "    \n",
    "def worker(que):\n",
    "    param = que.get()\n",
    "    evaluate(param)\n",
    "    \n",
    "def put_queue(q):\n",
    "    for i in range(100):\n",
    "        q.put(i)\n",
    "\n",
    "pool = multiprocessing.Pool(processes=3)\n",
    "m = multiprocessing.Manager()\n",
    "q = m.Queue()\n",
    "put_queue(q)"
   ]
  },
  {
   "cell_type": "code",
   "execution_count": 14,
   "metadata": {
    "collapsed": true
   },
   "outputs": [],
   "source": [
    "workers = pool.apply_async(worker, (q))"
   ]
  },
  {
   "cell_type": "code",
   "execution_count": 15,
   "metadata": {},
   "outputs": [
    {
     "data": {
      "text/plain": [
       "0"
      ]
     },
     "execution_count": 15,
     "metadata": {},
     "output_type": "execute_result"
    }
   ],
   "source": [
    "q.get()"
   ]
  },
  {
   "cell_type": "code",
   "execution_count": 16,
   "metadata": {},
   "outputs": [
    {
     "name": "stderr",
     "output_type": "stream",
     "text": [
      "Process PoolWorker-19:\n",
      "Traceback (most recent call last):\n",
      "Process PoolWorker-18:\n",
      "  File \"/local/home/ful7rng/.anaconda/envs/ful/lib/python2.7/multiprocessing/process.py\", line 258, in _bootstrap\n",
      "Traceback (most recent call last):\n",
      "    self.run()\n",
      "  File \"/local/home/ful7rng/.anaconda/envs/ful/lib/python2.7/multiprocessing/process.py\", line 258, in _bootstrap\n",
      "  File \"/local/home/ful7rng/.anaconda/envs/ful/lib/python2.7/multiprocessing/process.py\", line 114, in run\n",
      "    self._target(*self._args, **self._kwargs)\n",
      "    self.run()\n",
      "  File \"/local/home/ful7rng/.anaconda/envs/ful/lib/python2.7/multiprocessing/pool.py\", line 102, in worker\n",
      "  File \"/local/home/ful7rng/.anaconda/envs/ful/lib/python2.7/multiprocessing/process.py\", line 114, in run\n",
      "    task = get()\n",
      "    self._target(*self._args, **self._kwargs)\n",
      "  File \"/local/home/ful7rng/.anaconda/envs/ful/lib/python2.7/multiprocessing/queues.py\", line 376, in get\n",
      "  File \"/local/home/ful7rng/.anaconda/envs/ful/lib/python2.7/multiprocessing/pool.py\", line 102, in worker\n",
      "    task = get()\n",
      "    racquire()\n",
      "  File \"/local/home/ful7rng/.anaconda/envs/ful/lib/python2.7/multiprocessing/queues.py\", line 378, in get\n",
      "KeyboardInterrupt\n",
      "    return recv()\n",
      "KeyboardInterrupt\n",
      "Process PoolWorker-17:\n",
      "Traceback (most recent call last):\n",
      "  File \"/local/home/ful7rng/.anaconda/envs/ful/lib/python2.7/multiprocessing/process.py\", line 258, in _bootstrap\n",
      "    self.run()\n",
      "  File \"/local/home/ful7rng/.anaconda/envs/ful/lib/python2.7/multiprocessing/process.py\", line 114, in run\n",
      "    self._target(*self._args, **self._kwargs)\n",
      "  File \"/local/home/ful7rng/.anaconda/envs/ful/lib/python2.7/multiprocessing/pool.py\", line 102, in worker\n",
      "    task = get()\n",
      "  File \"/local/home/ful7rng/.anaconda/envs/ful/lib/python2.7/multiprocessing/queues.py\", line 376, in get\n",
      "    racquire()\n",
      "KeyboardInterrupt\n"
     ]
    }
   ],
   "source": [
    "import multiprocessing\n",
    "def worker(name, que):\n",
    "    que.put(\"%d is done\" % name)\n",
    "\n",
    "\n",
    "pool = multiprocessing.Pool(processes=3)\n",
    "m = multiprocessing.Manager()\n",
    "q = m.Queue()\n",
    "workers = pool.apply_async(worker, (33, q))"
   ]
  },
  {
   "cell_type": "code",
   "execution_count": 17,
   "metadata": {},
   "outputs": [
    {
     "data": {
      "text/plain": [
       "<AutoProxy[Queue] object, typeid 'Queue' at 0x7f1124c3b390>"
      ]
     },
     "execution_count": 17,
     "metadata": {},
     "output_type": "execute_result"
    }
   ],
   "source": [
    "q"
   ]
  },
  {
   "cell_type": "code",
   "execution_count": 18,
   "metadata": {},
   "outputs": [
    {
     "data": {
      "text/plain": [
       "'33 is done'"
      ]
     },
     "execution_count": 18,
     "metadata": {},
     "output_type": "execute_result"
    }
   ],
   "source": [
    "q.get()"
   ]
  },
  {
   "cell_type": "code",
   "execution_count": 26,
   "metadata": {},
   "outputs": [
    {
     "name": "stdout",
     "output_type": "stream",
     "text": [
      "1090 working\n",
      "1090 got hello\n",
      "1091 working\n",
      "1091 got world\n",
      "1094 working\n",
      "1094 got hello\n",
      "1090 got world\n",
      "1091 got hello\n",
      "1094 got world\n",
      "1090 got hello\n",
      "1091 got world\n",
      "1094 got hello\n",
      "1090 got world\n"
     ]
    }
   ],
   "source": [
    "import multiprocessing\n",
    "import os\n",
    "import time\n",
    "\n",
    "the_queue = multiprocessing.Queue()\n",
    "\n",
    "\n",
    "def worker_main(queue):\n",
    "    print os.getpid(),\"working\"\n",
    "    while True:\n",
    "        item = queue.get(True)\n",
    "        print os.getpid(), \"got\", item\n",
    "        time.sleep(1) # simulate a \"long\" operation\n",
    "for i in range(5):\n",
    "    the_queue.put(\"hello\")\n",
    "    the_queue.put(\"world\")\n",
    "\n",
    "the_pool = multiprocessing.Pool(3, worker_main,(the_queue,))\n",
    "#                            don't forget the coma here  ^\n",
    "\n",
    "\n",
    "\n",
    "time.sleep(10)"
   ]
  },
  {
   "cell_type": "code",
   "execution_count": 23,
   "metadata": {},
   "outputs": [
    {
     "data": {
      "text/plain": [
       "4.5"
      ]
     },
     "execution_count": 23,
     "metadata": {},
     "output_type": "execute_result"
    }
   ],
   "source": [
    "import numpy as np\n",
    "x = np.arange(10)\n",
    "x.mean()"
   ]
  },
  {
   "cell_type": "code",
   "execution_count": 25,
   "metadata": {
    "collapsed": true
   },
   "outputs": [],
   "source": [
    "?the_queue.get"
   ]
  },
  {
   "cell_type": "code",
   "execution_count": 27,
   "metadata": {
    "collapsed": true
   },
   "outputs": [],
   "source": [
    "x = {'x':2}"
   ]
  },
  {
   "cell_type": "code",
   "execution_count": 29,
   "metadata": {},
   "outputs": [
    {
     "name": "stdout",
     "output_type": "stream",
     "text": [
      "None\n"
     ]
    }
   ],
   "source": [
    "print(x.get('y', None))"
   ]
  },
  {
   "cell_type": "code",
   "execution_count": 31,
   "metadata": {
    "collapsed": true
   },
   "outputs": [],
   "source": [
    "path = '/home/ful7rng/projects/transition/propagation/results/conditionalBofum_acc_True_conditional_False_blur_spatially_False/01_JOINT_PROB_ALL_MAPS/summary.csv'"
   ]
  },
  {
   "cell_type": "code",
   "execution_count": 7,
   "metadata": {
    "collapsed": true
   },
   "outputs": [],
   "source": [
    "from propagation.tracking_param_tuning import show_best"
   ]
  },
  {
   "cell_type": "code",
   "execution_count": 10,
   "metadata": {
    "collapsed": true
   },
   "outputs": [],
   "source": [
    "result_folder = '/home/ful7rng/projects/transition/propagation/results/'"
   ]
  },
  {
   "cell_type": "code",
   "execution_count": 13,
   "metadata": {},
   "outputs": [],
   "source": [
    "exp_name = 'conditionalBofum_acc_True_conditional_True_blur_spatially_False_num_scenes_1000_tries_100/20_ALL_MAPS_W_MASK'\n",
    "sum_file = result_folder+exp_name+'/summary.csv'"
   ]
  },
  {
   "cell_type": "code",
   "execution_count": 14,
   "metadata": {},
   "outputs": [
    {
     "name": "stdout",
     "output_type": "stream",
     "text": [
      "------- 1 best ------- \n",
      "omega: 0.0206991610409\n",
      "noise_var: 0.847992539417\n",
      "extent: 7\n",
      "mean: 16.1789858409\n",
      "x_ent: [ 13.76029187  15.86106476  17.24141243  17.8531743 ]\n",
      "------- 2 best ------- \n",
      "omega: 0.0371006890805\n",
      "noise_var: 0.597496537829\n",
      "extent: 9\n",
      "mean: 16.9652296946\n",
      "x_ent: [ 14.83772797  16.56418664  17.89844639  18.56055779]\n",
      "------- 3 best ------- \n",
      "omega: 0.0185313805895\n",
      "noise_var: 1.11936445652\n",
      "extent: 7\n",
      "mean: 17.2612776261\n",
      "x_ent: [ 14.48929364  16.94987336  18.48474724  19.12119627]\n",
      "------- 4 best ------- \n",
      "omega: 0.0524070043956\n",
      "noise_var: 0.937729094889\n",
      "extent: 9\n",
      "mean: 17.3735538991\n",
      "x_ent: [ 14.83258048  17.08123436  18.48068267  19.09971809]\n",
      "------- 5 best ------- \n",
      "omega: 0.0194810536728\n",
      "noise_var: 1.08882801127\n",
      "extent: 7\n",
      "mean: 17.3929614437\n",
      "x_ent: [ 14.71737655  17.11395759  18.54026137  19.20025027]\n"
     ]
    }
   ],
   "source": [
    "show_best(sum_file, 5)"
   ]
  },
  {
   "cell_type": "code",
   "execution_count": 15,
   "metadata": {
    "collapsed": true
   },
   "outputs": [],
   "source": [
    "exp_name = 'conditionalBofum_acc_True_conditional_False_blur_spatially_False_num_scenes_1000_tries_1000/01_JOINT_PROB_ALL_MAPS'\n",
    "sum_file = result_folder+exp_name+'/summary.csv'"
   ]
  },
  {
   "cell_type": "code",
   "execution_count": 16,
   "metadata": {},
   "outputs": [
    {
     "name": "stdout",
     "output_type": "stream",
     "text": [
      "------- 1 best ------- \n",
      "omega: 0.0104388759372\n",
      "noise_var: 0.83635433452\n",
      "extent: 7\n",
      "mean: 16.0672876595\n",
      "x_ent: [ 13.7951598   15.67727074  17.06443202  17.73228808]\n",
      "------- 2 best ------- \n",
      "omega: 0.0173731192399\n",
      "noise_var: 0.899923356604\n",
      "extent: 7\n",
      "mean: 16.2440175958\n",
      "x_ent: [ 13.86565347  15.86551602  17.28168886  17.96321202]\n",
      "------- 3 best ------- \n",
      "omega: 0.0262798613884\n",
      "noise_var: 1.07726617022\n",
      "extent: 9\n",
      "mean: 16.8817595905\n",
      "x_ent: [ 14.12971367  16.44222936  18.06698792  18.88810741]\n",
      "------- 4 best ------- \n",
      "omega: 0.0160558415994\n",
      "noise_var: 1.1061403218\n",
      "extent: 5\n",
      "mean: 17.2831305818\n",
      "x_ent: [ 15.50169142  16.80511625  18.11794757  18.70776709]\n",
      "------- 5 best ------- \n",
      "omega: 0.0223343190475\n",
      "noise_var: 0.964064683217\n",
      "extent: 5\n",
      "mean: 17.3639678893\n",
      "x_ent: [ 15.56769599  16.88982466  18.20035373  18.79799718]\n"
     ]
    }
   ],
   "source": [
    "show_best(sum_file, 5)"
   ]
  },
  {
   "cell_type": "code",
   "execution_count": null,
   "metadata": {
    "collapsed": true
   },
   "outputs": [],
   "source": []
  }
 ],
 "metadata": {
  "kernelspec": {
   "display_name": "Python 2",
   "language": "python",
   "name": "python2"
  },
  "language_info": {
   "codemirror_mode": {
    "name": "ipython",
    "version": 2
   },
   "file_extension": ".py",
   "mimetype": "text/x-python",
   "name": "python",
   "nbconvert_exporter": "python",
   "pygments_lexer": "ipython2",
   "version": "2.7.13"
  }
 },
 "nbformat": 4,
 "nbformat_minor": 2
}
