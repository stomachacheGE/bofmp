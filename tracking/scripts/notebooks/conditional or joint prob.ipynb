{
 "cells": [
  {
   "cell_type": "code",
   "execution_count": 9,
   "metadata": {},
   "outputs": [
    {
     "name": "stdout",
     "output_type": "stream",
     "text": [
      "The autoreload extension is already loaded. To reload it, use:\n",
      "  %reload_ext autoreload\n"
     ]
    }
   ],
   "source": [
    "%load_ext autoreload\n",
    "%autoreload 2\n",
    "\n",
    "import numpy as np\n",
    "import matplotlib.pyplot as plt\n",
    "%matplotlib tk\n",
    "# % matplotlib inline\n",
    "#plt.rcParams['animation.html'] = 'jshtml'\n",
    "from IPython.display import HTML\n",
    "\n",
    "from copy import copy\n",
    "import os\n",
    "import sys\n",
    "import imp\n",
    "from functools import reduce\n",
    "sys.path.append(\"/home/ful7rng/projects/transition/propagation\")\n",
    "from utils import pickle_load, get_npy, get_file\n",
    "from utils.occ_map_utils import load_map, show_map, plot_occ_map, plot_trajectories, free_space\n",
    "from utils.scene_utils import display_scenes_trajs, animate_scenes, get_scenes\n",
    "from propagation.bofum import conditionalBOFUM, naiveBOFUM, BOFUMRealdata\n",
    "from propagation.animation import TrackingAnimRealdata\n",
    "from data_loader import get_map_crop\n"
   ]
  },
  {
   "cell_type": "code",
   "execution_count": 5,
   "metadata": {
    "collapsed": true
   },
   "outputs": [],
   "source": [
    "plt.ion()"
   ]
  },
  {
   "cell_type": "code",
   "execution_count": 6,
   "metadata": {
    "collapsed": true
   },
   "outputs": [],
   "source": [
    "from utils.plot_utils import plot_4d_tensor\n",
    "\n",
    "def onclick(event, models, anim, fig_1, fig_2):\n",
    "    ix, iy = event.xdata, event.ydata\n",
    "    coords = np.floor(np.array([ix, iy]) / models[0].map_res).astype(int)\n",
    "    print(coords)\n",
    "    \n",
    "    all_axes = [plot.axes for plot in anim.plots]\n",
    "    \n",
    "    for i, ax in enumerate(all_axes):\n",
    "\n",
    "        # For infomation, print which axes the click was in\n",
    "        if ax == event.inaxes:\n",
    "            print \"Click is in axes ax{}\".format(i+1)\n",
    "            break\n",
    "            \n",
    "    clicked = np.zeros_like(models[0].map)\n",
    "    x, y = coords[0], coords[1]\n",
    "    clicked[x, y] = 1\n",
    "    for plot in anim.plots:\n",
    "        plot.set_axes_data(\"occupancy_axes\", clicked)\n",
    "    anim.fig.canvas.draw()\n",
    "    \n",
    "    fig_1.clear()\n",
    "    fig_2.clear()\n",
    "    \n",
    "    \n",
    "    if models[i].kernels.ndim == 6:\n",
    "        kernel = models[i].kernels[x, y]\n",
    "        condi_prob = models[i].nn_probs[x, y]\n",
    "    else:\n",
    "        kernel = models[i].kernels\n",
    "        condi_prob = models[i].kernels\n",
    "        \n",
    "    print(kernel.shape)\n",
    "    print(condi_prob.shape)\n",
    "    plot_4d_tensor(condi_prob, fig=fig_1)\n",
    "    plot_4d_tensor(kernel, fig=fig_2)\n",
    "    fig_1.canvas.draw()\n",
    "    fig_2.canvas.draw()"
   ]
  },
  {
   "cell_type": "code",
   "execution_count": 7,
   "metadata": {
    "collapsed": true
   },
   "outputs": [],
   "source": [
    "diagonal = False\n",
    "if diagonal:\n",
    "    model_name = '23_ALL_MAPS_EIGHT_DIRECTIONS'\n",
    "else:\n",
    "    model_name = '01_JOINT_PROB_ALL_MAPS'"
   ]
  },
  {
   "cell_type": "code",
   "execution_count": 10,
   "metadata": {},
   "outputs": [],
   "source": [
    "config_path = '/local/home/ful7rng/projects/transition/config.py'\n",
    "config = imp.load_source('config', config_path)\n",
    "conditional = False"
   ]
  },
  {
   "cell_type": "code",
   "execution_count": 11,
   "metadata": {},
   "outputs": [
    {
     "name": "stdout",
     "output_type": "stream",
     "text": [
      "(27119, 32, 32)\n"
     ]
    }
   ],
   "source": [
    "from propagation.bofum import conditionalBOFUM, naiveBOFUM\n",
    "from data_loader import get_map_crop\n",
    "\n",
    "config_path = '/local/home/ful7rng/projects/transition/config.py'\n",
    "maps, outputs = get_map_crop(config_path, num=1, dataset='train', condi_probs=True)\n",
    "map_ = maps[0]\n",
    "output = outputs[0]"
   ]
  },
  {
   "cell_type": "code",
   "execution_count": null,
   "metadata": {
    "collapsed": true
   },
   "outputs": [],
   "source": [
    "fname = '/local/data/scenes/100_11/c3bo/05_10/2017-05-10-16-24-56_8.npy'\n",
    "fname = '/local/data/scenes/100_11/c3bo/05_04/2017-05-04-19-07-38_10.npy'\n",
    "scene= get_scenes(random_file=True,\n",
    "                  min_time_interval=2,\n",
    "                  max_time_interval=4,\n",
    "                  file_name=fname)[0][0]\n",
    "map_ = scene.static_map"
   ]
  },
  {
   "cell_type": "code",
   "execution_count": null,
   "metadata": {
    "collapsed": true
   },
   "outputs": [],
   "source": [
    "animate_scenes([BOFUMRealdata.scene_preprocessing(copy(scene))])"
   ]
  },
  {
   "cell_type": "code",
   "execution_count": null,
   "metadata": {
    "collapsed": true
   },
   "outputs": [],
   "source": [
    "laser_frequency = 12\n",
    "min_time_interval = 3\n",
    "num_steps = laser_frequency * min_time_interval"
   ]
  },
  {
   "cell_type": "code",
   "execution_count": null,
   "metadata": {
    "collapsed": true
   },
   "outputs": [],
   "source": [
    "models = []\n",
    "force_predict = True\n",
    "simulated_data = False\n",
    "kwargs = dict(omega=0.1,\n",
    "                  extent=7,\n",
    "                  noise_var=0.1,\n",
    "                  lost_prob=0,\n",
    "                  verbose=False)\n",
    "\n",
    "\n",
    "bofum_1 = conditionalBOFUM(map_, model_name,\n",
    "                               name = 'BOFUM ',\n",
    "                               simulated_data=simulated_data,\n",
    "                               force_predict=True,\n",
    "                               acceleration_interpretation=True,\n",
    "                               conditional=conditional,\n",
    "                               **kwargs)\n",
    "\n",
    "\n",
    "bofum_2 = conditionalBOFUM(map_, model_name,\n",
    "                               name = 'BOFUM w condi_prob blur',\n",
    "                               simulated_data=simulated_data,\n",
    "                               force_predict=False,\n",
    "                               acceleration_interpretation=True,\n",
    "                               conditional=conditional,\n",
    "                               nn_probs=output,\n",
    "                               **kwargs)\n",
    "\n",
    "\n",
    "models.append(bofum_1)\n",
    "models.append(bofum_2)\n",
    "map(lambda model: model.initialize(scene), models)\n",
    "\n",
    "blurred_kernels = blur_kernels_spatially(bofum.kernels)\n",
    "bofum_1.kernels = blurred_kernels\n",
    "blurred_condi = blur_kernels_spatially(bofum.conditional_probs)\n",
    "bofum_2.conditional_probs = blurred_condi\n",
    "bofum_2.construct_kernels()\n",
    "blurred_condi = blur_kernels_spatially(bofum.conditional_probs, blur_extent=7, var=0.8)\n",
    "bofum_3.conditional_probs = blurred_condi\n",
    "bofum_3.construct_kernels()"
   ]
  },
  {
   "cell_type": "code",
   "execution_count": null,
   "metadata": {
    "collapsed": true
   },
   "outputs": [],
   "source": [
    "\n",
    "ani = TrackingAnimRealdata(models, num_steps, scene,\n",
    "                                plot_map=True,\n",
    "                                plot_seen=True)\n",
    "\n",
    "fig_1 = plt.figure(figsize=(6, 5))\n",
    "fig_2 = plt.figure(figsize=(6, 5))\n",
    "\n",
    "ani.fig.canvas.mpl_connect('button_press_event', lambda event: onclick(event, models, ani, fig_1, fig_2))"
   ]
  }
 ],
 "metadata": {
  "kernelspec": {
   "display_name": "Python 2",
   "language": "python",
   "name": "python2"
  },
  "language_info": {
   "codemirror_mode": {
    "name": "ipython",
    "version": 2
   },
   "file_extension": ".py",
   "mimetype": "text/x-python",
   "name": "python",
   "nbconvert_exporter": "python",
   "pygments_lexer": "ipython2",
   "version": "2.7.13"
  }
 },
 "nbformat": 4,
 "nbformat_minor": 2
}
