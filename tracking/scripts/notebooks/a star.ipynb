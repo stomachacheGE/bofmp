{
 "cells": [
  {
   "cell_type": "code",
   "execution_count": 1,
   "metadata": {},
   "outputs": [],
   "source": [
    "%load_ext autoreload\n",
    "%autoreload 2\n",
    "\n",
    "import numpy as np\n",
    "import matplotlib.pyplot as plt\n",
    "%matplotlib tk\n",
    "# % matplotlib inline\n",
    "#plt.rcParams['animation.html'] = 'jshtml'\n",
    "from IPython.display import HTML\n",
    "import cv2\n",
    "\n",
    "import os\n",
    "import sys\n",
    "from functools import reduce\n",
    "sys.path.append(\"/home/ful7rng/projects/transition/propagation\")\n",
    "sys.path.append(\"/home/ful7rng/projects/transition/data_generator/multi_agent_planning/scripts\")\n",
    "from utils import pickle_load, get_npy, get_file\n",
    "from utils.occ_map_utils import load_map, show_map, plot_occ_map, plot_trajectories, free_space\n",
    "from utils.scene_utils import display_scenes_trajs, animate_scenes\n",
    "from pyastar import astar_path\n",
    "from data_generator.astar_ped_sim.astar_traj_generator import AStarGrid\n"
   ]
  },
  {
   "cell_type": "code",
   "execution_count": 2,
   "metadata": {
    "collapsed": true
   },
   "outputs": [],
   "source": [
    "def get_cost_map(map_arr, blur1_cost=5, blur2_cost=1, cc=20, bw1=5, bw2=11):\n",
    "    # calculate cost map: make walls expensive and blur them\n",
    "    collision_cost = cc\n",
    "\n",
    "    blur1_width = bw1\n",
    "    blurred_map1 = cv2.GaussianBlur(map_arr.astype(float),\n",
    "                                   (blur1_width, blur1_width), 0)\n",
    "    blur2_width = bw2\n",
    "    blurred_map2 = cv2.GaussianBlur(map_arr.astype(float),\n",
    "                                   (blur2_width, blur2_width), 0)\n",
    "\n",
    "    cost_map = collision_cost * map_arr.astype(float) + \\\n",
    "               blur1_cost * blurred_map1 + blur2_cost * blurred_map2\n",
    "    return cost_map"
   ]
  },
  {
   "cell_type": "code",
   "execution_count": 3,
   "metadata": {},
   "outputs": [],
   "source": [
    "from data_generator.astar_ped_sim.astar_traj_generator import _sample_trajectories\n",
    "\n",
    "def generate_trajs(map_arr, cost_map, diagonal=False):\n",
    "    verbose = True\n",
    "    num_trajectories = 5\n",
    "    min_dist = 10\n",
    "    max_dist = 40\n",
    "    trajectories = []\n",
    "    start_locations = list(zip(*np.where(np.logical_not(map_arr))))\n",
    "    start_locations = [np.array(loc) for loc in start_locations]\n",
    "    num_locations = len(start_locations)\n",
    "    for idx, loc in enumerate(start_locations):\n",
    "        if verbose and idx % 1 == 0:\n",
    "            print('sampling trajectories for possible start locations: {}/{}'.format(\n",
    "                idx + 1, num_locations))\n",
    "\n",
    "            trajectories_ = _sample_trajectories(loc, map_arr, cost_map,\n",
    "                                                 num_trajectories,\n",
    "                                                 min_dist, max_dist, None, diagonal)\n",
    "            if trajectories_ is not None:\n",
    "                trajectories += trajectories_\n",
    "    return trajectories"
   ]
  },
  {
   "cell_type": "code",
   "execution_count": 114,
   "metadata": {
    "collapsed": true
   },
   "outputs": [],
   "source": [
    "start = [23, 19]\n",
    "end = [48, 13]"
   ]
  },
  {
   "cell_type": "code",
   "execution_count": 132,
   "metadata": {},
   "outputs": [],
   "source": [
    "map_ = np.load(\"/home/ful7rng/projects/transition/data_generator/map_arr.npy\")\n",
    "cost_map = get_cost_map(map_)\n",
    "walls = set([tuple(loc) for loc in np.array(np.where(map_)).T.tolist()])"
   ]
  },
  {
   "cell_type": "code",
   "execution_count": 116,
   "metadata": {},
   "outputs": [
    {
     "data": {
      "text/plain": [
       "<matplotlib.colorbar.Colorbar at 0x7ff20d4b15d0>"
      ]
     },
     "execution_count": 116,
     "metadata": {},
     "output_type": "execute_result"
    }
   ],
   "source": [
    "ax = show_map(cost_map, resolution=1, cmap='Greens', zorder=0)\n",
    "plt.colorbar(ax)"
   ]
  },
  {
   "cell_type": "code",
   "execution_count": 117,
   "metadata": {},
   "outputs": [
    {
     "data": {
      "text/plain": [
       "[<matplotlib.lines.Line2D at 0x7ff20d469c10>]"
      ]
     },
     "execution_count": 117,
     "metadata": {},
     "output_type": "execute_result"
    }
   ],
   "source": [
    "#show_map(map_, resolution=1)\n",
    "plt.plot([start[0], end[0]], [start[1], end[1]])"
   ]
  },
  {
   "cell_type": "code",
   "execution_count": 130,
   "metadata": {
    "collapsed": true
   },
   "outputs": [],
   "source": [
    "a_star_grid = AStarGrid(cost_map, diagonal=True)\n",
    "path, cost = a_star_grid.astar(tuple(start), tuple(end), max_cost=1999)\n",
    "traj_traces = [loc for loc in path]"
   ]
  },
  {
   "cell_type": "code",
   "execution_count": 131,
   "metadata": {},
   "outputs": [
    {
     "data": {
      "text/plain": [
       "[(23, 19),\n",
       " (24, 20),\n",
       " (25, 20),\n",
       " (26, 20),\n",
       " (27, 19),\n",
       " (28, 18),\n",
       " (29, 17),\n",
       " (30, 17),\n",
       " (31, 17),\n",
       " (32, 17),\n",
       " (33, 17),\n",
       " (34, 17),\n",
       " (35, 17),\n",
       " (36, 17),\n",
       " (37, 17),\n",
       " (38, 17),\n",
       " (39, 17),\n",
       " (40, 17),\n",
       " (41, 17),\n",
       " (42, 17),\n",
       " (43, 17),\n",
       " (44, 17),\n",
       " (45, 16),\n",
       " (46, 15),\n",
       " (47, 14),\n",
       " (48, 13)]"
      ]
     },
     "execution_count": 131,
     "metadata": {},
     "output_type": "execute_result"
    }
   ],
   "source": [
    "traj_traces"
   ]
  },
  {
   "cell_type": "code",
   "execution_count": 125,
   "metadata": {},
   "outputs": [
    {
     "data": {
      "text/plain": [
       "['[23 19]',\n",
       " '[24 20]',\n",
       " '[25 20]',\n",
       " '[26 20]',\n",
       " '[27 19]',\n",
       " '[28 18]',\n",
       " '[29 17]',\n",
       " '[30 17]',\n",
       " '[31 17]',\n",
       " '[32 17]',\n",
       " '[33 17]',\n",
       " '[34 17]',\n",
       " '[35 17]',\n",
       " '[36 17]',\n",
       " '[37 17]',\n",
       " '[38 17]',\n",
       " '[39 17]',\n",
       " '[40 17]',\n",
       " '[41 17]',\n",
       " '[42 17]',\n",
       " '[43 17]',\n",
       " '[44 17]',\n",
       " '[45 16]',\n",
       " '[46 15]',\n",
       " '[47 14]',\n",
       " '[48 13]']"
      ]
     },
     "execution_count": 125,
     "metadata": {},
     "output_type": "execute_result"
    }
   ],
   "source": [
    "traj_traces_1"
   ]
  },
  {
   "cell_type": "code",
   "execution_count": 133,
   "metadata": {},
   "outputs": [],
   "source": [
    "path_1, values = astar_path(cost_map.astype('float32'), start, end, 1, True)\n",
    "path_1 = np.insert(path_1, 0, end, axis=0)[::-1]\n",
    "traj_traces_1 = [tuple(loc) for loc in path_1]"
   ]
  },
  {
   "cell_type": "code",
   "execution_count": 134,
   "metadata": {},
   "outputs": [
    {
     "data": {
      "text/plain": [
       "{(23, 19), (47, 14), (48, 13)}"
      ]
     },
     "execution_count": 134,
     "metadata": {},
     "output_type": "execute_result"
    }
   ],
   "source": [
    "walls.intersection(traj_traces)"
   ]
  },
  {
   "cell_type": "code",
   "execution_count": 135,
   "metadata": {},
   "outputs": [
    {
     "data": {
      "text/plain": [
       "{(23, 19), (47, 14), (48, 13)}"
      ]
     },
     "execution_count": 135,
     "metadata": {},
     "output_type": "execute_result"
    }
   ],
   "source": [
    "walls.intersection(traj_traces_1)"
   ]
  },
  {
   "cell_type": "code",
   "execution_count": 136,
   "metadata": {
    "collapsed": true
   },
   "outputs": [],
   "source": [
    "assert traj_traces == traj_traces_1"
   ]
  },
  {
   "cell_type": "code",
   "execution_count": 123,
   "metadata": {},
   "outputs": [
    {
     "data": {
      "text/plain": [
       "[<matplotlib.lines.Line2D at 0x7ff20d3f3150>]"
      ]
     },
     "execution_count": 123,
     "metadata": {},
     "output_type": "execute_result"
    }
   ],
   "source": [
    "show_map(map_, resolution=1)\n",
    "xs = map(lambda coor: coor[0], path)\n",
    "ys = map(lambda coor: coor[1], path)\n",
    "plt.plot(xs, ys)"
   ]
  },
  {
   "cell_type": "code",
   "execution_count": 124,
   "metadata": {},
   "outputs": [
    {
     "data": {
      "text/plain": [
       "[<matplotlib.lines.Line2D at 0x7ff20d3f3850>]"
      ]
     },
     "execution_count": 124,
     "metadata": {},
     "output_type": "execute_result"
    }
   ],
   "source": [
    "show_map(map_, resolution=1)\n",
    "plt.plot(path_1[:, 0], path_1[:, 1])"
   ]
  },
  {
   "cell_type": "code",
   "execution_count": 5,
   "metadata": {},
   "outputs": [
    {
     "data": {
      "text/plain": [
       "[array([[30, 41],\n",
       "        [29, 41],\n",
       "        [28, 41],\n",
       "        [28, 40],\n",
       "        [28, 39],\n",
       "        [28, 38],\n",
       "        [27, 38],\n",
       "        [27, 37],\n",
       "        [26, 37],\n",
       "        [26, 36],\n",
       "        [25, 36],\n",
       "        [25, 35],\n",
       "        [25, 34],\n",
       "        [25, 33],\n",
       "        [25, 32],\n",
       "        [24, 32],\n",
       "        [24, 31],\n",
       "        [23, 31],\n",
       "        [22, 31],\n",
       "        [21, 31],\n",
       "        [21, 30],\n",
       "        [21, 29],\n",
       "        [21, 28],\n",
       "        [20, 28],\n",
       "        [19, 28],\n",
       "        [18, 28],\n",
       "        [17, 28],\n",
       "        [17, 27],\n",
       "        [17, 26],\n",
       "        [16, 26],\n",
       "        [15, 26],\n",
       "        [15, 25],\n",
       "        [15, 24],\n",
       "        [14, 24],\n",
       "        [14, 23],\n",
       "        [13, 23],\n",
       "        [13, 22],\n",
       "        [12, 22],\n",
       "        [12, 21],\n",
       "        [11, 21],\n",
       "        [11, 20],\n",
       "        [10, 20]]), array([[ inf,  inf,  inf, ...,  inf,  inf,  inf],\n",
       "        [ inf,  inf,  inf, ...,  inf,  inf,  inf],\n",
       "        [ inf,  inf,  inf, ...,  inf,  inf,  inf],\n",
       "        ..., \n",
       "        [ inf,  inf,  inf, ...,  inf,  inf,  inf],\n",
       "        [ inf,  inf,  inf, ...,  inf,  inf,  inf],\n",
       "        [ inf,  inf,  inf, ...,  inf,  inf,  inf]], dtype=float32)]"
      ]
     },
     "execution_count": 5,
     "metadata": {},
     "output_type": "execute_result"
    }
   ],
   "source": [
    "test_map = np.random.randn(50, 60)\n",
    "start = [10, 20]\n",
    "end = [30, 40]\n",
    "astar_path(test_map.astype('float32'), start, end, 1, False)"
   ]
  },
  {
   "cell_type": "code",
   "execution_count": null,
   "metadata": {
    "collapsed": true
   },
   "outputs": [],
   "source": []
  },
  {
   "cell_type": "markdown",
   "metadata": {},
   "source": [
    "### try different cost maps"
   ]
  },
  {
   "cell_type": "code",
   "execution_count": 4,
   "metadata": {
    "collapsed": true
   },
   "outputs": [],
   "source": [
    "from data_generator.human_mcm import Grid_HMM\n",
    "\n",
    "def get_trans_probs(map_, trajs, diagonal=False):\n",
    "    mcm = Grid_HMM(np.array(map_.shape).astype(int))\n",
    "    for idx, trajectory in enumerate(trajs):\n",
    "        if idx % 100 == 0:\n",
    "            print(\"Add transitions of {}/{} trajectory to the mcm.\".format(idx+1, len(trajs)))\n",
    "        #trajectory = np.round((trajectory / res) - 0.5).astype(int)\n",
    "        #print(str(trajectory))\n",
    "        for t in range(trajectory.shape[0] - 2):\n",
    "            # give first cell seven prior locations\n",
    "            # and add them to transitions\n",
    "            if t == 0:\n",
    "                first_cell = trajectory[0, :]\n",
    "                second_cell = trajectory[1, :]\n",
    "                velocities =  [[0, 1], [1, 0], [0, -1], [-1, 0],\n",
    "                          [1, 1], [1, -1], [-1, 1], [-1, -1]]\n",
    "                if not diagonal:\n",
    "                    velocities = velocities[:4]\n",
    "                prior_cells = [[first_cell[0]+i, first_cell[1]+j]\n",
    "                               for i, j in velocities]\n",
    "                for cell in prior_cells:\n",
    "                    if cell[0] != second_cell[0] or cell[1] != second_cell[1]:\n",
    "                        mcm.add_transition(cell, first_cell, second_cell)\n",
    "\n",
    "            from_ = trajectory[t, :]\n",
    "            current = trajectory[t + 1, :]\n",
    "            to = trajectory[t + 2, :]\n",
    "            mcm.add_transition(from_, current, to)\n",
    "\n",
    "    transition_probs = mcm.get_transition_probs()\n",
    "    return transition_probs"
   ]
  },
  {
   "cell_type": "code",
   "execution_count": 5,
   "metadata": {
    "collapsed": true
   },
   "outputs": [],
   "source": [
    "from utils.plot_utils import plot_4d_tensor\n",
    "\n",
    "def onclick(event, bofum, fig, fig_1, fig_2, plot):\n",
    "    ix, iy = event.xdata, event.ydata\n",
    "    coords = np.floor(np.array([ix, iy]) / bofum.map_res).astype(int)\n",
    "    print(coords)\n",
    "    clicked = np.zeros_like(bofum.map)\n",
    "    x, y = coords[0], coords[1]\n",
    "    clicked[x, y] = 1\n",
    "    plot.set_axes_data(\"occupancy_axes\", clicked)\n",
    "    fig.canvas.draw()\n",
    "    \n",
    "    fig_1.clear()\n",
    "    fig_2.clear()\n",
    "    condi_probs = bofum.conditional_probs\n",
    "    prob = condi_probs[x, y]\n",
    "    print(np.sum(prob, axis=(2, 3)))\n",
    "    print(np.sum(prob))\n",
    "    plot_4d_tensor(condi_probs[x, y], fig=fig_1)\n",
    "    plot_4d_tensor(bofum.kernels[x, y], fig=fig_2)\n",
    "    fig_1.canvas.draw()\n",
    "    fig_2.canvas.draw()"
   ]
  },
  {
   "cell_type": "code",
   "execution_count": 19,
   "metadata": {
    "collapsed": true
   },
   "outputs": [],
   "source": [
    "\n",
    "def show_map_and_probs(map_, transition_probs_1):\n",
    "\n",
    "    kwargs = dict(omega=0.05,\n",
    "                  noise_var=0.5,\n",
    "                  extent=7,\n",
    "                  verbose=False)\n",
    "\n",
    "    #model_name = '23_ALL_MAPS_EIGHT_DIRECTIONS'\n",
    "    model_name = '20_ALL_MAPS_W_MASK'\n",
    "\n",
    "    bofum_2 = conditionalBOFUM(map_, model_name,\n",
    "                                       name = 'BOFUM with n. o. as acceleration',\n",
    "                                       simulated_data=True,\n",
    "                                       with_reachability=True,\n",
    "                                       acceleration_interpretation=True,\n",
    "                                       condi_probs=None,\n",
    "                                       force_predict=False,\n",
    "                                       **kwargs)\n",
    "\n",
    "    bofum_2.conditional_probs = transition_probs_1\n",
    "    distances, trajs = bofum_2.initialize(num_targets=5, num_steps=20, diagonal=False)\n",
    "    bofum_2.show_trajectories()\n",
    "\n",
    "    from propagation.animation import Plot\n",
    "    fig_6 = plt.figure(figsize=(5, 5))\n",
    "    fig_7 = plt.figure(figsize=(6, 5))\n",
    "    fig_8 = plt.figure(figsize=(6, 5))\n",
    "\n",
    "    map_axes_2 = fig_6.add_subplot(111)\n",
    "    plot_2 = Plot(map_axes_2, bofum_2.map, bofum_2.map_res)\n",
    "    fig_6.canvas.mpl_connect('button_press_event', lambda event: onclick(event, bofum_2, fig_6, fig_7, fig_8, plot_2))\n",
    "    return bofum_2"
   ]
  },
  {
   "cell_type": "code",
   "execution_count": 7,
   "metadata": {},
   "outputs": [
    {
     "name": "stdout",
     "output_type": "stream",
     "text": [
      "(164, 32, 32)\n"
     ]
    }
   ],
   "source": [
    "from propagation.bofum import conditionalBOFUM, naiveBOFUM\n",
    "from data_loader import get_map_crop\n",
    "\n",
    "config_path = '/local/home/ful7rng/projects/transition/config_validation.py'\n",
    "maps, outputs = get_map_crop(config_path, num=1, dataset='train', condi_probs=True)\n",
    "map_ = maps[0]\n",
    "output = outputs[0]"
   ]
  },
  {
   "cell_type": "code",
   "execution_count": 8,
   "metadata": {},
   "outputs": [
    {
     "name": "stdout",
     "output_type": "stream",
     "text": [
      "sampling trajectories for possible start locations: 1/420\n",
      "sampling trajectories for possible start locations: 2/420\n",
      "sampling trajectories for possible start locations: 3/420\n",
      "sampling trajectories for possible start locations: 4/420\n",
      "sampling trajectories for possible start locations: 5/420\n",
      "sampling trajectories for possible start locations: 6/420\n",
      "sampling trajectories for possible start locations: 7/420\n",
      "sampling trajectories for possible start locations: 8/420\n",
      "sampling trajectories for possible start locations: 9/420\n",
      "sampling trajectories for possible start locations: 10/420\n",
      "sampling trajectories for possible start locations: 11/420\n",
      "sampling trajectories for possible start locations: 12/420\n",
      "sampling trajectories for possible start locations: 13/420\n",
      "sampling trajectories for possible start locations: 14/420\n",
      "sampling trajectories for possible start locations: 15/420\n",
      "sampling trajectories for possible start locations: 16/420\n",
      "sampling trajectories for possible start locations: 17/420\n",
      "sampling trajectories for possible start locations: 18/420\n",
      "sampling trajectories for possible start locations: 19/420\n",
      "sampling trajectories for possible start locations: 20/420\n",
      "sampling trajectories for possible start locations: 21/420\n",
      "sampling trajectories for possible start locations: 22/420\n",
      "sampling trajectories for possible start locations: 23/420\n",
      "sampling trajectories for possible start locations: 24/420\n",
      "sampling trajectories for possible start locations: 25/420\n",
      "sampling trajectories for possible start locations: 26/420\n",
      "sampling trajectories for possible start locations: 27/420\n",
      "sampling trajectories for possible start locations: 28/420\n",
      "sampling trajectories for possible start locations: 29/420\n",
      "sampling trajectories for possible start locations: 30/420\n",
      "sampling trajectories for possible start locations: 31/420\n",
      "sampling trajectories for possible start locations: 32/420\n",
      "sampling trajectories for possible start locations: 33/420\n",
      "sampling trajectories for possible start locations: 34/420\n",
      "sampling trajectories for possible start locations: 35/420\n",
      "sampling trajectories for possible start locations: 36/420\n",
      "sampling trajectories for possible start locations: 37/420\n",
      "sampling trajectories for possible start locations: 38/420\n",
      "sampling trajectories for possible start locations: 39/420\n",
      "sampling trajectories for possible start locations: 40/420\n",
      "sampling trajectories for possible start locations: 41/420\n",
      "sampling trajectories for possible start locations: 42/420\n",
      "sampling trajectories for possible start locations: 43/420\n",
      "sampling trajectories for possible start locations: 44/420\n",
      "sampling trajectories for possible start locations: 45/420\n",
      "sampling trajectories for possible start locations: 46/420\n",
      "sampling trajectories for possible start locations: 47/420\n",
      "sampling trajectories for possible start locations: 48/420\n",
      "sampling trajectories for possible start locations: 49/420\n",
      "sampling trajectories for possible start locations: 50/420\n",
      "sampling trajectories for possible start locations: 51/420\n",
      "sampling trajectories for possible start locations: 52/420\n",
      "sampling trajectories for possible start locations: 53/420\n",
      "sampling trajectories for possible start locations: 54/420\n",
      "sampling trajectories for possible start locations: 55/420\n",
      "sampling trajectories for possible start locations: 56/420\n",
      "sampling trajectories for possible start locations: 57/420\n",
      "sampling trajectories for possible start locations: 58/420\n",
      "sampling trajectories for possible start locations: 59/420\n",
      "sampling trajectories for possible start locations: 60/420\n",
      "sampling trajectories for possible start locations: 61/420\n",
      "sampling trajectories for possible start locations: 62/420\n",
      "sampling trajectories for possible start locations: 63/420\n",
      "sampling trajectories for possible start locations: 64/420\n",
      "sampling trajectories for possible start locations: 65/420\n",
      "sampling trajectories for possible start locations: 66/420\n",
      "sampling trajectories for possible start locations: 67/420\n",
      "sampling trajectories for possible start locations: 68/420\n",
      "sampling trajectories for possible start locations: 69/420\n",
      "sampling trajectories for possible start locations: 70/420\n",
      "sampling trajectories for possible start locations: 71/420\n",
      "sampling trajectories for possible start locations: 72/420\n",
      "sampling trajectories for possible start locations: 73/420\n",
      "sampling trajectories for possible start locations: 74/420\n",
      "sampling trajectories for possible start locations: 75/420\n",
      "sampling trajectories for possible start locations: 76/420\n",
      "sampling trajectories for possible start locations: 77/420\n",
      "sampling trajectories for possible start locations: 78/420\n",
      "sampling trajectories for possible start locations: 79/420\n",
      "sampling trajectories for possible start locations: 80/420\n",
      "sampling trajectories for possible start locations: 81/420\n",
      "sampling trajectories for possible start locations: 82/420\n",
      "sampling trajectories for possible start locations: 83/420\n",
      "sampling trajectories for possible start locations: 84/420\n",
      "sampling trajectories for possible start locations: 85/420\n",
      "sampling trajectories for possible start locations: 86/420\n",
      "sampling trajectories for possible start locations: 87/420\n",
      "sampling trajectories for possible start locations: 88/420\n",
      "sampling trajectories for possible start locations: 89/420\n",
      "sampling trajectories for possible start locations: 90/420\n",
      "sampling trajectories for possible start locations: 91/420\n",
      "sampling trajectories for possible start locations: 92/420\n",
      "sampling trajectories for possible start locations: 93/420\n",
      "sampling trajectories for possible start locations: 94/420\n",
      "sampling trajectories for possible start locations: 95/420\n",
      "sampling trajectories for possible start locations: 96/420\n",
      "sampling trajectories for possible start locations: 97/420\n",
      "sampling trajectories for possible start locations: 98/420\n",
      "sampling trajectories for possible start locations: 99/420\n",
      "sampling trajectories for possible start locations: 100/420\n",
      "sampling trajectories for possible start locations: 101/420\n",
      "sampling trajectories for possible start locations: 102/420\n",
      "sampling trajectories for possible start locations: 103/420\n",
      "sampling trajectories for possible start locations: 104/420\n",
      "sampling trajectories for possible start locations: 105/420\n",
      "sampling trajectories for possible start locations: 106/420\n",
      "sampling trajectories for possible start locations: 107/420\n",
      "sampling trajectories for possible start locations: 108/420\n",
      "sampling trajectories for possible start locations: 109/420\n",
      "sampling trajectories for possible start locations: 110/420\n",
      "sampling trajectories for possible start locations: 111/420\n",
      "sampling trajectories for possible start locations: 112/420\n",
      "sampling trajectories for possible start locations: 113/420\n",
      "sampling trajectories for possible start locations: 114/420\n",
      "sampling trajectories for possible start locations: 115/420\n",
      "sampling trajectories for possible start locations: 116/420\n",
      "sampling trajectories for possible start locations: 117/420\n",
      "sampling trajectories for possible start locations: 118/420\n",
      "sampling trajectories for possible start locations: 119/420\n",
      "sampling trajectories for possible start locations: 120/420\n",
      "sampling trajectories for possible start locations: 121/420\n",
      "sampling trajectories for possible start locations: 122/420\n",
      "sampling trajectories for possible start locations: 123/420\n",
      "sampling trajectories for possible start locations: 124/420\n",
      "sampling trajectories for possible start locations: 125/420\n",
      "sampling trajectories for possible start locations: 126/420\n",
      "sampling trajectories for possible start locations: 127/420\n",
      "sampling trajectories for possible start locations: 128/420\n",
      "sampling trajectories for possible start locations: 129/420\n",
      "sampling trajectories for possible start locations: 130/420\n",
      "sampling trajectories for possible start locations: 131/420\n",
      "sampling trajectories for possible start locations: 132/420\n",
      "sampling trajectories for possible start locations: 133/420\n",
      "sampling trajectories for possible start locations: 134/420\n",
      "sampling trajectories for possible start locations: 135/420\n",
      "sampling trajectories for possible start locations: 136/420\n",
      "sampling trajectories for possible start locations: 137/420\n",
      "sampling trajectories for possible start locations: 138/420\n",
      "sampling trajectories for possible start locations: 139/420\n",
      "sampling trajectories for possible start locations: 140/420\n"
     ]
    },
    {
     "name": "stdout",
     "output_type": "stream",
     "text": [
      "sampling trajectories for possible start locations: 141/420\n",
      "sampling trajectories for possible start locations: 142/420\n",
      "sampling trajectories for possible start locations: 143/420\n",
      "sampling trajectories for possible start locations: 144/420\n",
      "sampling trajectories for possible start locations: 145/420\n",
      "sampling trajectories for possible start locations: 146/420\n",
      "sampling trajectories for possible start locations: 147/420\n",
      "sampling trajectories for possible start locations: 148/420\n",
      "sampling trajectories for possible start locations: 149/420\n",
      "sampling trajectories for possible start locations: 150/420\n",
      "sampling trajectories for possible start locations: 151/420\n",
      "sampling trajectories for possible start locations: 152/420\n",
      "sampling trajectories for possible start locations: 153/420\n",
      "sampling trajectories for possible start locations: 154/420\n",
      "sampling trajectories for possible start locations: 155/420\n",
      "sampling trajectories for possible start locations: 156/420\n",
      "sampling trajectories for possible start locations: 157/420\n",
      "sampling trajectories for possible start locations: 158/420\n",
      "sampling trajectories for possible start locations: 159/420\n",
      "sampling trajectories for possible start locations: 160/420\n",
      "sampling trajectories for possible start locations: 161/420\n",
      "sampling trajectories for possible start locations: 162/420\n",
      "sampling trajectories for possible start locations: 163/420\n",
      "sampling trajectories for possible start locations: 164/420\n",
      "sampling trajectories for possible start locations: 165/420\n",
      "sampling trajectories for possible start locations: 166/420\n",
      "sampling trajectories for possible start locations: 167/420\n",
      "sampling trajectories for possible start locations: 168/420\n",
      "sampling trajectories for possible start locations: 169/420\n",
      "sampling trajectories for possible start locations: 170/420\n",
      "sampling trajectories for possible start locations: 171/420\n",
      "sampling trajectories for possible start locations: 172/420\n",
      "sampling trajectories for possible start locations: 173/420\n",
      "sampling trajectories for possible start locations: 174/420\n",
      "sampling trajectories for possible start locations: 175/420\n",
      "sampling trajectories for possible start locations: 176/420\n",
      "sampling trajectories for possible start locations: 177/420\n",
      "sampling trajectories for possible start locations: 178/420\n",
      "sampling trajectories for possible start locations: 179/420\n",
      "sampling trajectories for possible start locations: 180/420\n",
      "sampling trajectories for possible start locations: 181/420\n",
      "sampling trajectories for possible start locations: 182/420\n",
      "sampling trajectories for possible start locations: 183/420\n",
      "sampling trajectories for possible start locations: 184/420\n",
      "sampling trajectories for possible start locations: 185/420\n",
      "sampling trajectories for possible start locations: 186/420\n",
      "sampling trajectories for possible start locations: 187/420\n",
      "sampling trajectories for possible start locations: 188/420\n",
      "sampling trajectories for possible start locations: 189/420\n",
      "sampling trajectories for possible start locations: 190/420\n",
      "sampling trajectories for possible start locations: 191/420\n",
      "sampling trajectories for possible start locations: 192/420\n",
      "sampling trajectories for possible start locations: 193/420\n",
      "sampling trajectories for possible start locations: 194/420\n",
      "sampling trajectories for possible start locations: 195/420\n",
      "sampling trajectories for possible start locations: 196/420\n",
      "sampling trajectories for possible start locations: 197/420\n",
      "sampling trajectories for possible start locations: 198/420\n",
      "sampling trajectories for possible start locations: 199/420\n",
      "sampling trajectories for possible start locations: 200/420\n",
      "sampling trajectories for possible start locations: 201/420\n",
      "sampling trajectories for possible start locations: 202/420\n",
      "sampling trajectories for possible start locations: 203/420\n",
      "sampling trajectories for possible start locations: 204/420\n",
      "sampling trajectories for possible start locations: 205/420\n",
      "sampling trajectories for possible start locations: 206/420\n",
      "sampling trajectories for possible start locations: 207/420\n",
      "sampling trajectories for possible start locations: 208/420\n",
      "sampling trajectories for possible start locations: 209/420\n",
      "sampling trajectories for possible start locations: 210/420\n",
      "sampling trajectories for possible start locations: 211/420\n",
      "sampling trajectories for possible start locations: 212/420\n",
      "sampling trajectories for possible start locations: 213/420\n",
      "sampling trajectories for possible start locations: 214/420\n",
      "sampling trajectories for possible start locations: 215/420\n",
      "sampling trajectories for possible start locations: 216/420\n",
      "sampling trajectories for possible start locations: 217/420\n",
      "sampling trajectories for possible start locations: 218/420\n",
      "sampling trajectories for possible start locations: 219/420\n",
      "sampling trajectories for possible start locations: 220/420\n",
      "sampling trajectories for possible start locations: 221/420\n",
      "sampling trajectories for possible start locations: 222/420\n",
      "sampling trajectories for possible start locations: 223/420\n",
      "sampling trajectories for possible start locations: 224/420\n",
      "sampling trajectories for possible start locations: 225/420\n",
      "sampling trajectories for possible start locations: 226/420\n",
      "sampling trajectories for possible start locations: 227/420\n",
      "sampling trajectories for possible start locations: 228/420\n",
      "sampling trajectories for possible start locations: 229/420\n",
      "sampling trajectories for possible start locations: 230/420\n",
      "sampling trajectories for possible start locations: 231/420\n",
      "sampling trajectories for possible start locations: 232/420\n",
      "sampling trajectories for possible start locations: 233/420\n",
      "sampling trajectories for possible start locations: 234/420\n",
      "sampling trajectories for possible start locations: 235/420\n",
      "sampling trajectories for possible start locations: 236/420\n",
      "sampling trajectories for possible start locations: 237/420\n",
      "sampling trajectories for possible start locations: 238/420\n",
      "sampling trajectories for possible start locations: 239/420\n",
      "sampling trajectories for possible start locations: 240/420\n",
      "sampling trajectories for possible start locations: 241/420\n",
      "sampling trajectories for possible start locations: 242/420\n",
      "sampling trajectories for possible start locations: 243/420\n",
      "sampling trajectories for possible start locations: 244/420\n",
      "sampling trajectories for possible start locations: 245/420\n",
      "sampling trajectories for possible start locations: 246/420\n",
      "sampling trajectories for possible start locations: 247/420\n",
      "sampling trajectories for possible start locations: 248/420\n",
      "sampling trajectories for possible start locations: 249/420\n",
      "sampling trajectories for possible start locations: 250/420\n",
      "sampling trajectories for possible start locations: 251/420\n",
      "sampling trajectories for possible start locations: 252/420\n",
      "sampling trajectories for possible start locations: 253/420\n",
      "sampling trajectories for possible start locations: 254/420\n",
      "sampling trajectories for possible start locations: 255/420\n",
      "sampling trajectories for possible start locations: 256/420\n",
      "sampling trajectories for possible start locations: 257/420\n",
      "sampling trajectories for possible start locations: 258/420\n",
      "sampling trajectories for possible start locations: 259/420\n",
      "sampling trajectories for possible start locations: 260/420\n",
      "sampling trajectories for possible start locations: 261/420\n",
      "sampling trajectories for possible start locations: 262/420\n",
      "sampling trajectories for possible start locations: 263/420\n",
      "sampling trajectories for possible start locations: 264/420\n",
      "sampling trajectories for possible start locations: 265/420\n",
      "sampling trajectories for possible start locations: 266/420\n",
      "sampling trajectories for possible start locations: 267/420\n",
      "sampling trajectories for possible start locations: 268/420\n",
      "sampling trajectories for possible start locations: 269/420\n",
      "sampling trajectories for possible start locations: 270/420\n",
      "sampling trajectories for possible start locations: 271/420\n",
      "sampling trajectories for possible start locations: 272/420\n",
      "sampling trajectories for possible start locations: 273/420\n",
      "sampling trajectories for possible start locations: 274/420\n",
      "sampling trajectories for possible start locations: 275/420\n",
      "sampling trajectories for possible start locations: 276/420\n",
      "sampling trajectories for possible start locations: 277/420\n",
      "sampling trajectories for possible start locations: 278/420\n",
      "sampling trajectories for possible start locations: 279/420\n",
      "sampling trajectories for possible start locations: 280/420\n",
      "sampling trajectories for possible start locations: 281/420\n",
      "sampling trajectories for possible start locations: 282/420\n",
      "sampling trajectories for possible start locations: 283/420\n",
      "sampling trajectories for possible start locations: 284/420\n",
      "sampling trajectories for possible start locations: 285/420\n",
      "sampling trajectories for possible start locations: 286/420\n",
      "sampling trajectories for possible start locations: 287/420\n",
      "sampling trajectories for possible start locations: 288/420\n"
     ]
    },
    {
     "name": "stdout",
     "output_type": "stream",
     "text": [
      "sampling trajectories for possible start locations: 289/420\n",
      "sampling trajectories for possible start locations: 290/420\n",
      "sampling trajectories for possible start locations: 291/420\n",
      "sampling trajectories for possible start locations: 292/420\n",
      "sampling trajectories for possible start locations: 293/420\n",
      "sampling trajectories for possible start locations: 294/420\n",
      "sampling trajectories for possible start locations: 295/420\n",
      "sampling trajectories for possible start locations: 296/420\n",
      "sampling trajectories for possible start locations: 297/420\n",
      "sampling trajectories for possible start locations: 298/420\n",
      "sampling trajectories for possible start locations: 299/420\n",
      "sampling trajectories for possible start locations: 300/420\n",
      "sampling trajectories for possible start locations: 301/420\n",
      "sampling trajectories for possible start locations: 302/420\n",
      "sampling trajectories for possible start locations: 303/420\n",
      "sampling trajectories for possible start locations: 304/420\n",
      "sampling trajectories for possible start locations: 305/420\n",
      "sampling trajectories for possible start locations: 306/420\n",
      "sampling trajectories for possible start locations: 307/420\n",
      "sampling trajectories for possible start locations: 308/420\n",
      "sampling trajectories for possible start locations: 309/420\n",
      "sampling trajectories for possible start locations: 310/420\n",
      "sampling trajectories for possible start locations: 311/420\n",
      "sampling trajectories for possible start locations: 312/420\n",
      "sampling trajectories for possible start locations: 313/420\n",
      "sampling trajectories for possible start locations: 314/420\n",
      "sampling trajectories for possible start locations: 315/420\n",
      "sampling trajectories for possible start locations: 316/420\n",
      "sampling trajectories for possible start locations: 317/420\n",
      "sampling trajectories for possible start locations: 318/420\n",
      "sampling trajectories for possible start locations: 319/420\n",
      "sampling trajectories for possible start locations: 320/420\n",
      "sampling trajectories for possible start locations: 321/420\n",
      "sampling trajectories for possible start locations: 322/420\n",
      "sampling trajectories for possible start locations: 323/420\n",
      "sampling trajectories for possible start locations: 324/420\n",
      "sampling trajectories for possible start locations: 325/420\n",
      "sampling trajectories for possible start locations: 326/420\n",
      "sampling trajectories for possible start locations: 327/420\n",
      "sampling trajectories for possible start locations: 328/420\n",
      "sampling trajectories for possible start locations: 329/420\n",
      "sampling trajectories for possible start locations: 330/420\n",
      "sampling trajectories for possible start locations: 331/420\n",
      "sampling trajectories for possible start locations: 332/420\n",
      "sampling trajectories for possible start locations: 333/420\n",
      "sampling trajectories for possible start locations: 334/420\n",
      "sampling trajectories for possible start locations: 335/420\n",
      "sampling trajectories for possible start locations: 336/420\n",
      "sampling trajectories for possible start locations: 337/420\n",
      "sampling trajectories for possible start locations: 338/420\n",
      "sampling trajectories for possible start locations: 339/420\n",
      "sampling trajectories for possible start locations: 340/420\n",
      "sampling trajectories for possible start locations: 341/420\n",
      "sampling trajectories for possible start locations: 342/420\n",
      "sampling trajectories for possible start locations: 343/420\n",
      "sampling trajectories for possible start locations: 344/420\n",
      "sampling trajectories for possible start locations: 345/420\n",
      "sampling trajectories for possible start locations: 346/420\n",
      "sampling trajectories for possible start locations: 347/420\n",
      "sampling trajectories for possible start locations: 348/420\n",
      "sampling trajectories for possible start locations: 349/420\n",
      "sampling trajectories for possible start locations: 350/420\n",
      "sampling trajectories for possible start locations: 351/420\n",
      "sampling trajectories for possible start locations: 352/420\n",
      "sampling trajectories for possible start locations: 353/420\n",
      "sampling trajectories for possible start locations: 354/420\n",
      "sampling trajectories for possible start locations: 355/420\n",
      "sampling trajectories for possible start locations: 356/420\n",
      "sampling trajectories for possible start locations: 357/420\n",
      "sampling trajectories for possible start locations: 358/420\n",
      "sampling trajectories for possible start locations: 359/420\n",
      "sampling trajectories for possible start locations: 360/420\n",
      "sampling trajectories for possible start locations: 361/420\n",
      "sampling trajectories for possible start locations: 362/420\n",
      "sampling trajectories for possible start locations: 363/420\n",
      "sampling trajectories for possible start locations: 364/420\n",
      "sampling trajectories for possible start locations: 365/420\n",
      "sampling trajectories for possible start locations: 366/420\n",
      "sampling trajectories for possible start locations: 367/420\n",
      "sampling trajectories for possible start locations: 368/420\n",
      "sampling trajectories for possible start locations: 369/420\n",
      "sampling trajectories for possible start locations: 370/420\n",
      "sampling trajectories for possible start locations: 371/420\n",
      "sampling trajectories for possible start locations: 372/420\n",
      "sampling trajectories for possible start locations: 373/420\n",
      "sampling trajectories for possible start locations: 374/420\n",
      "sampling trajectories for possible start locations: 375/420\n",
      "sampling trajectories for possible start locations: 376/420\n",
      "sampling trajectories for possible start locations: 377/420\n",
      "sampling trajectories for possible start locations: 378/420\n",
      "sampling trajectories for possible start locations: 379/420\n",
      "sampling trajectories for possible start locations: 380/420\n",
      "sampling trajectories for possible start locations: 381/420\n",
      "sampling trajectories for possible start locations: 382/420\n",
      "sampling trajectories for possible start locations: 383/420\n",
      "sampling trajectories for possible start locations: 384/420\n",
      "sampling trajectories for possible start locations: 385/420\n",
      "sampling trajectories for possible start locations: 386/420\n",
      "sampling trajectories for possible start locations: 387/420\n",
      "sampling trajectories for possible start locations: 388/420\n",
      "sampling trajectories for possible start locations: 389/420\n",
      "sampling trajectories for possible start locations: 390/420\n",
      "sampling trajectories for possible start locations: 391/420\n",
      "sampling trajectories for possible start locations: 392/420\n",
      "sampling trajectories for possible start locations: 393/420\n",
      "sampling trajectories for possible start locations: 394/420\n",
      "sampling trajectories for possible start locations: 395/420\n",
      "sampling trajectories for possible start locations: 396/420\n",
      "sampling trajectories for possible start locations: 397/420\n",
      "sampling trajectories for possible start locations: 398/420\n",
      "sampling trajectories for possible start locations: 399/420\n",
      "sampling trajectories for possible start locations: 400/420\n",
      "sampling trajectories for possible start locations: 401/420\n",
      "sampling trajectories for possible start locations: 402/420\n",
      "sampling trajectories for possible start locations: 403/420\n",
      "sampling trajectories for possible start locations: 404/420\n",
      "sampling trajectories for possible start locations: 405/420\n",
      "sampling trajectories for possible start locations: 406/420\n",
      "sampling trajectories for possible start locations: 407/420\n",
      "sampling trajectories for possible start locations: 408/420\n",
      "sampling trajectories for possible start locations: 409/420\n",
      "sampling trajectories for possible start locations: 410/420\n",
      "sampling trajectories for possible start locations: 411/420\n",
      "sampling trajectories for possible start locations: 412/420\n",
      "sampling trajectories for possible start locations: 413/420\n",
      "sampling trajectories for possible start locations: 414/420\n",
      "sampling trajectories for possible start locations: 415/420\n",
      "sampling trajectories for possible start locations: 416/420\n",
      "sampling trajectories for possible start locations: 417/420\n",
      "sampling trajectories for possible start locations: 418/420\n",
      "sampling trajectories for possible start locations: 419/420\n",
      "sampling trajectories for possible start locations: 420/420\n"
     ]
    }
   ],
   "source": [
    "cost_map = get_cost_map(map_)\n",
    "trajs = generate_trajs(map_, cost_map)"
   ]
  },
  {
   "cell_type": "code",
   "execution_count": 9,
   "metadata": {},
   "outputs": [
    {
     "data": {
      "text/plain": [
       "2100"
      ]
     },
     "execution_count": 9,
     "metadata": {},
     "output_type": "execute_result"
    }
   ],
   "source": [
    "len(trajs)"
   ]
  },
  {
   "cell_type": "code",
   "execution_count": 10,
   "metadata": {},
   "outputs": [
    {
     "name": "stdout",
     "output_type": "stream",
     "text": [
      "Add transitions of 1/2100 trajectory to the mcm.\n",
      "Add transitions of 101/2100 trajectory to the mcm.\n",
      "Add transitions of 201/2100 trajectory to the mcm.\n",
      "Add transitions of 301/2100 trajectory to the mcm.\n",
      "Add transitions of 401/2100 trajectory to the mcm.\n",
      "Add transitions of 501/2100 trajectory to the mcm.\n",
      "Add transitions of 601/2100 trajectory to the mcm.\n",
      "Add transitions of 701/2100 trajectory to the mcm.\n",
      "Add transitions of 801/2100 trajectory to the mcm.\n",
      "Add transitions of 901/2100 trajectory to the mcm.\n",
      "Add transitions of 1001/2100 trajectory to the mcm.\n",
      "Add transitions of 1101/2100 trajectory to the mcm.\n",
      "Add transitions of 1201/2100 trajectory to the mcm.\n",
      "Add transitions of 1301/2100 trajectory to the mcm.\n",
      "Add transitions of 1401/2100 trajectory to the mcm.\n",
      "Add transitions of 1501/2100 trajectory to the mcm.\n",
      "Add transitions of 1601/2100 trajectory to the mcm.\n",
      "Add transitions of 1701/2100 trajectory to the mcm.\n",
      "Add transitions of 1801/2100 trajectory to the mcm.\n",
      "Add transitions of 1901/2100 trajectory to the mcm.\n",
      "Add transitions of 2001/2100 trajectory to the mcm.\n"
     ]
    }
   ],
   "source": [
    "trans_probs = get_trans_probs(map_, trajs)"
   ]
  },
  {
   "cell_type": "code",
   "execution_count": 20,
   "metadata": {},
   "outputs": [
    {
     "name": "stdout",
     "output_type": "stream",
     "text": [
      "sampling trajectories: 1/5\n",
      "time out\n",
      "sampling trajectories: 1/5\n"
     ]
    }
   ],
   "source": [
    "bufum = show_map_and_probs(map_, trans_probs)"
   ]
  },
  {
   "cell_type": "code",
   "execution_count": 16,
   "metadata": {},
   "outputs": [
    {
     "ename": "NameError",
     "evalue": "name 'bofum' is not defined",
     "output_type": "error",
     "traceback": [
      "\u001b[0;31m------------------------------------------------------------------\u001b[0m",
      "\u001b[0;31mNameError\u001b[0m                        Traceback (most recent call last)",
      "\u001b[0;32m<ipython-input-16-6aa6ba84fab4>\u001b[0m in \u001b[0;36m<module>\u001b[0;34m()\u001b[0m\n\u001b[0;32m----> 1\u001b[0;31m \u001b[0mbofum\u001b[0m\u001b[0;34m.\u001b[0m\u001b[0mshow_trajectories\u001b[0m\u001b[0;34m(\u001b[0m\u001b[0;34m)\u001b[0m\u001b[0;34m\u001b[0m\u001b[0m\n\u001b[0m",
      "\u001b[0;31mNameError\u001b[0m: name 'bofum' is not defined"
     ]
    }
   ],
   "source": [
    "bofum.show_trajectories()"
   ]
  },
  {
   "cell_type": "code",
   "execution_count": null,
   "metadata": {
    "collapsed": true
   },
   "outputs": [],
   "source": []
  }
 ],
 "metadata": {
  "kernelspec": {
   "display_name": "Python 2",
   "language": "python",
   "name": "python2"
  },
  "language_info": {
   "codemirror_mode": {
    "name": "ipython",
    "version": 2
   },
   "file_extension": ".py",
   "mimetype": "text/x-python",
   "name": "python",
   "nbconvert_exporter": "python",
   "pygments_lexer": "ipython2",
   "version": "2.7.13"
  }
 },
 "nbformat": 4,
 "nbformat_minor": 2
}
