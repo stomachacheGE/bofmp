{
 "cells": [
  {
   "cell_type": "code",
   "execution_count": 1,
   "metadata": {
    "collapsed": true
   },
   "outputs": [],
   "source": [
    "import numpy as np\n",
    "import matplotlib.pyplot as plt\n",
    "%matplotlib inline\n",
    "\n",
    "from utils.occ_map_utils import load_map, show_map, plot_occ_map, plot_trajectories, free_space\n",
    "from data_loader import get_iters"
   ]
  },
  {
   "cell_type": "code",
   "execution_count": 2,
   "metadata": {
    "collapsed": true
   },
   "outputs": [],
   "source": [
    "config_path = '/local/home/ful7rng/projects/transition/config.py'"
   ]
  },
  {
   "cell_type": "markdown",
   "metadata": {},
   "source": [
    "### training history with 3 maps"
   ]
  },
  {
   "cell_type": "code",
   "execution_count": 3,
   "metadata": {
    "collapsed": true
   },
   "outputs": [],
   "source": [
    "trained_models_path = '/local/home/ful7rng/projects/transition/trained_models/'"
   ]
  },
  {
   "cell_type": "code",
   "execution_count": 11,
   "metadata": {
    "collapsed": true
   },
   "outputs": [],
   "source": [
    "exp_name = '03_CNN_31_ALL_MAPS'"
   ]
  },
  {
   "cell_type": "code",
   "execution_count": 12,
   "metadata": {
    "collapsed": true
   },
   "outputs": [],
   "source": [
    "export_folder = trained_models_path +exp_name"
   ]
  },
  {
   "cell_type": "code",
   "execution_count": 13,
   "metadata": {
    "collapsed": true
   },
   "outputs": [],
   "source": [
    "error_path = trained_models_path + exp_name+'/errors.npz'"
   ]
  },
  {
   "cell_type": "code",
   "execution_count": 30,
   "metadata": {
    "collapsed": true
   },
   "outputs": [],
   "source": [
    "errors = np.load(error_path)"
   ]
  },
  {
   "cell_type": "code",
   "execution_count": 31,
   "metadata": {
    "collapsed": true
   },
   "outputs": [],
   "source": [
    "history = np.asarray(errors['metrics'])"
   ]
  },
  {
   "cell_type": "code",
   "execution_count": 46,
   "metadata": {
    "collapsed": true
   },
   "outputs": [],
   "source": [
    "train_loss, val_loss = history.item()['train']['loss'], history.item()['val']['loss']"
   ]
  },
  {
   "cell_type": "code",
   "execution_count": 39,
   "metadata": {
    "collapsed": true
   },
   "outputs": [],
   "source": [
    "?map"
   ]
  },
  {
   "cell_type": "code",
   "execution_count": 44,
   "metadata": {},
   "outputs": [
    {
     "ename": "SyntaxError",
     "evalue": "invalid syntax (<ipython-input-44-90c5dde20e5e>, line 1)",
     "output_type": "error",
     "traceback": [
      "\u001b[0;36m  File \u001b[0;32m\"<ipython-input-44-90c5dde20e5e>\"\u001b[0;36m, line \u001b[0;32m1\u001b[0m\n\u001b[0;31m    fun = lambda x: print x\u001b[0m\n\u001b[0m                        ^\u001b[0m\n\u001b[0;31mSyntaxError\u001b[0m\u001b[0;31m:\u001b[0m invalid syntax\n"
     ]
    }
   ],
   "source": [
    "fun =  x"
   ]
  },
  {
   "cell_type": "code",
   "execution_count": 48,
   "metadata": {},
   "outputs": [
    {
     "data": {
      "text/plain": [
       "[(0.75409842597113719, 0.68623962402343752),\n",
       " (0.68707224527994792, 0.67852354049682617),\n",
       " (0.67150955200195317, 0.67292337417602544),\n",
       " (0.66015485127766926, 0.64176487922668457),\n",
       " (0.63910933600531683, 0.62429270744323728),\n",
       " (0.62389742533365888, 0.61618704795837398),\n",
       " (0.61548970540364578, 0.61079425811767574),\n",
       " (0.60986260308159723, 0.60596470832824711),\n",
       " (0.60594880845811627, 0.60359096527099609),\n",
       " (0.60294091966417096, 0.60067663192749021),\n",
       " (0.60079833136664496, 0.59839305877685545),\n",
       " (0.59892968071831598, 0.59702916145324703),\n",
       " (0.5972137027316623, 0.59508581161499019),\n",
       " (0.59572342766655817, 0.59392676353454588),\n",
       " (0.5945762210422092, 0.59241504669189449),\n",
       " (0.59315880669487853, 0.59189028739929195),\n",
       " (0.59203766716851125, 0.59173274040222168),\n",
       " (0.59102257622612853, 0.58991122245788574),\n",
       " (0.59007182651095924, 0.58866190910339355),\n",
       " (0.58906843397352426, 0.58815336227416992),\n",
       " (0.58827395968967011, 0.58782377243041994),\n",
       " (0.5873957316080729, 0.58665585517883301),\n",
       " (0.58676969740125873, 0.58561420440673828),\n",
       " (0.58591041564941404, 0.58429346084594724),\n",
       " (0.58506639268663196, 0.5841924667358398),\n",
       " (0.58451792399088542, 0.58478837013244633),\n",
       " (0.58388671874999998, 0.58303022384643555),\n",
       " (0.58329895867241754, 0.5822095394134521),\n",
       " (0.5827331119113498, 0.58245711326599126),\n",
       " (0.58208817376030819, 0.58079385757446289),\n",
       " (0.58166241115993922, 0.5805999279022217),\n",
       " (0.58101018269856775, 0.58050894737243652),\n",
       " (0.5805314805772569, 0.57991423606872561),\n",
       " (0.57997063530815973, 0.57928619384765623),\n",
       " (0.57941953870985241, 0.57926106452941895),\n",
       " (0.57891197204589839, 0.57761726379394529),\n",
       " (0.57836231655544701, 0.57761273384094236),\n",
       " (0.57812432183159723, 0.57701535224914546),\n",
       " (0.57761654324001732, 0.57663393020629883),\n",
       " (0.577318361070421, 0.57654356956481934),\n",
       " (0.57671568128797746, 0.57578072547912595),\n",
       " (0.57634218004014759, 0.57552065849304201),\n",
       " (0.57577866448296444, 0.57485809326171877),\n",
       " (0.57562904357910161, 0.57440681457519527),\n",
       " (0.57504717508951819, 0.57434363365173335),\n",
       " (0.57465955946180558, 0.57353944778442378),\n",
       " (0.57430386013454859, 0.57327089309692381),\n",
       " (0.5739396837022569, 0.57347159385681157),\n",
       " (0.57359402974446616, 0.57293810844421389),\n",
       " (0.57309299045138884, 0.57233791351318364),\n",
       " (0.57285385131835942, 0.57177691459655766),\n",
       " (0.5724158816867404, 0.57135014533996586),\n",
       " (0.57213016086154511, 0.57132725715637211),\n",
       " (0.5716487036810981, 0.57104177474975581),\n",
       " (0.57139006720648866, 0.57030138969421384),\n",
       " (0.57089521620008676, 0.57045989036560063),\n",
       " (0.57058262295193141, 0.5700355529785156),\n",
       " (0.57006259494357636, 0.56970429420471191),\n",
       " (0.56978518168131509, 0.56961140632629392),\n",
       " (0.56967921786838105, 0.56954636573791506),\n",
       " (0.56897273593478737, 0.5700253486633301),\n",
       " (0.56879446241590714, 0.56955757141113283),\n",
       " (0.5684966193305121, 0.56943483352661128),\n",
       " (0.56800443861219618, 0.56899523735046387),\n",
       " (0.56774529351128478, 0.5690508365631104),\n",
       " (0.5674481709798177, 0.56880192756652836),\n",
       " (0.56715418497721359, 0.56835994720458982),\n",
       " (0.56664526197645404, 0.56872324943542485),\n",
       " (0.56643714904785158, 0.5682347774505615),\n",
       " (0.56615155537923179, 0.56813035011291502),\n",
       " (0.56585146586100266, 0.56814284324645992),\n",
       " (0.56539115905761717, 0.56774840354919431),\n",
       " (0.56508479648166232, 0.56809668540954594),\n",
       " (0.56476198832194013, 0.56792807579040527),\n",
       " (0.56457396613226996, 0.56764540672302244),\n",
       " (0.56415913899739578, 0.56817364692687988),\n",
       " (0.56376228332519529, 0.56814837455749512),\n",
       " (0.5636619567871094, 0.56754612922668457),\n",
       " (0.56324140760633679, 0.56757740974426274),\n",
       " (0.56272536383734806, 0.56793408393859868),\n",
       " (0.56243150499131944, 0.56779618263244624),\n",
       " (0.5622080485026042, 0.56793069839477539),\n",
       " (0.56189452277289498, 0.5678352832794189),\n",
       " (0.56166746351453989, 0.56757702827453616),\n",
       " (0.56130557590060759, 0.56742901802062984),\n",
       " (0.56098543802897138, 0.56732354164123533),\n",
       " (0.5607147640652127, 0.56795334815979004),\n",
       " (0.5604270935058594, 0.56799201965332036),\n",
       " (0.56004091898600261, 0.56753005981445315),\n",
       " (0.55987591213650179, 0.56696610450744633),\n",
       " (0.55937182108561201, 0.56759357452392578),\n",
       " (0.55917337205674911, 0.56807117462158208),\n",
       " (0.5588487413194444, 0.56767416000366211),\n",
       " (0.55870145161946616, 0.56699323654174805),\n",
       " (0.55800111558702259, 0.56669096946716313),\n",
       " (0.55793088277180991, 0.56705474853515625),\n",
       " (0.55774430168999567, 0.56673655509948728),\n",
       " (0.5575429280598958, 0.56720275878906246),\n",
       " (0.5570549011230469, 0.56671452522277832),\n",
       " (0.55693808661566835, 0.56676049232482906)]"
      ]
     },
     "execution_count": 48,
     "metadata": {},
     "output_type": "execute_result"
    }
   ],
   "source": [
    "list(zip(train_loss, val_loss))"
   ]
  },
  {
   "cell_type": "code",
   "execution_count": 49,
   "metadata": {},
   "outputs": [
    {
     "data": {
      "text/plain": [
       "[0.75387113921496329]"
      ]
     },
     "execution_count": 49,
     "metadata": {},
     "output_type": "execute_result"
    }
   ],
   "source": [
    "history.item()['test']['loss']"
   ]
  },
  {
   "cell_type": "markdown",
   "metadata": {},
   "source": [
    "### check predictions of trained models"
   ]
  },
  {
   "cell_type": "code",
   "execution_count": 17,
   "metadata": {
    "collapsed": true
   },
   "outputs": [],
   "source": [
    "exp_name_1 = '03_CNN_31_ALL_MAPS'"
   ]
  },
  {
   "cell_type": "code",
   "execution_count": 4,
   "metadata": {
    "collapsed": true
   },
   "outputs": [],
   "source": [
    "exp_name = '05_CNN_31_NO_MASK'"
   ]
  },
  {
   "cell_type": "code",
   "execution_count": 18,
   "metadata": {
    "collapsed": true
   },
   "outputs": [],
   "source": [
    "export_folder_1 = '/local/home/ful7rng/projects/transition/trained_models/'+exp_name_1"
   ]
  },
  {
   "cell_type": "code",
   "execution_count": 5,
   "metadata": {
    "collapsed": true
   },
   "outputs": [],
   "source": [
    "export_folder = '/local/home/ful7rng/projects/transition/trained_models/'+exp_name"
   ]
  },
  {
   "cell_type": "code",
   "execution_count": 6,
   "metadata": {},
   "outputs": [
    {
     "name": "stderr",
     "output_type": "stream",
     "text": [
      "WARNING (theano.sandbox.cuda): The cuda backend is deprecated and will be removed in the next release (v0.10).  Please switch to the gpuarray backend. You can get more information about how to switch at this URL:\n",
      " https://github.com/Theano/Theano/wiki/Converting-to-the-new-gpu-back-end%28gpuarray%29\n",
      "\n",
      "Using gpu device 0: GeForce GTX TITAN X (CNMeM is enabled with initial size: 90.0% of memory, cuDNN not available)\n"
     ]
    }
   ],
   "source": [
    "from test import get_model"
   ]
  },
  {
   "cell_type": "code",
   "execution_count": 19,
   "metadata": {},
   "outputs": [
    {
     "name": "stdout",
     "output_type": "stream",
     "text": [
      "---------------------------------------------------------------------------\n",
      "---------------------------------------------------------------------------\n",
      "Warning : all the layers are not displayed \n",
      "\n",
      "    Layer           Output shape         W shape             \n",
      "1   Input           (None, 1, None, None)                     \n",
      "2   Conv2D          (None, 8, None, None) (8, 1, 1, 1)        \n",
      "3   Conv2D          (None, 12, None, None) (12, 8, 3, 3)       \n",
      "4   Concat          (None, 20, None, None)                     \n",
      "5   Conv2D          (None, 12, None, None) (12, 20, 3, 3)      \n",
      "6   Concat          (None, 32, None, None)                     \n",
      "7   Conv2D          (None, 12, None, None) (12, 32, 3, 3)      \n",
      "8   Concat          (None, 44, None, None)                     \n",
      "9   Conv2D          (None, 12, None, None) (12, 44, 3, 3)      \n",
      "10  Concat          (None, 56, None, None)                     \n",
      "11  Conv2D          (None, 12, None, None) (12, 56, 3, 3)      \n",
      "12  Concat          (None, 68, None, None)                     \n",
      "13  Conv2D          (None, 68, None, None) (68, 68, 1, 1)      \n",
      "14  Pool2D          (None, 68, None, None)                     \n",
      "\n",
      "15  Conv2D          (None, 12, None, None) (12, 68, 3, 3)      \n",
      "16  Concat          (None, 80, None, None)                     \n",
      "17  Conv2D          (None, 12, None, None) (12, 80, 3, 3)      \n",
      "18  Concat          (None, 92, None, None)                     \n",
      "19  Conv2D          (None, 12, None, None) (12, 92, 3, 3)      \n",
      "20  Concat          (None, 104, None, None)                     \n",
      "21  Conv2D          (None, 12, None, None) (12, 104, 3, 3)     \n",
      "22  Concat          (None, 116, None, None)                     \n",
      "23  Conv2D          (None, 12, None, None) (12, 116, 3, 3)     \n",
      "24  Concat          (None, 128, None, None)                     \n",
      "25  Conv2D          (None, 128, None, None) (128, 128, 1, 1)    \n",
      "26  Pool2D          (None, 128, None, None)                     \n",
      "\n",
      "27  Conv2D          (None, 12, None, None) (12, 128, 3, 3)     \n",
      "28  Concat          (None, 140, None, None)                     \n",
      "29  Conv2D          (None, 12, None, None) (12, 140, 3, 3)     \n",
      "30  Concat          (None, 152, None, None)                     \n",
      "31  Conv2D          (None, 12, None, None) (12, 152, 3, 3)     \n",
      "32  Concat          (None, 164, None, None)                     \n",
      "33  Conv2D          (None, 12, None, None) (12, 164, 3, 3)     \n",
      "34  Concat          (None, 176, None, None)                     \n",
      "35  Conv2D          (None, 12, None, None) (12, 176, 3, 3)     \n",
      "36  Concat          (None, 60, None, None)                     \n",
      "37  TransposedConv2D (None, 60, None, None) (60, 60, 3, 3)      \n",
      "\n",
      "38  Concat          (None, 188, None, None)                     \n",
      "39  Conv2D          (None, 12, None, None) (12, 188, 3, 3)     \n",
      "40  Concat          (None, 200, None, None)                     \n",
      "41  Conv2D          (None, 12, None, None) (12, 200, 3, 3)     \n",
      "42  Concat          (None, 212, None, None)                     \n",
      "43  Conv2D          (None, 12, None, None) (12, 212, 3, 3)     \n",
      "44  Concat          (None, 224, None, None)                     \n",
      "45  Conv2D          (None, 12, None, None) (12, 224, 3, 3)     \n",
      "46  Concat          (None, 236, None, None)                     \n",
      "47  Conv2D          (None, 12, None, None) (12, 236, 3, 3)     \n",
      "48  Concat          (None, 60, None, None)                     \n",
      "49  TransposedConv2D (None, 60, None, None) (60, 60, 3, 3)      \n",
      "\n",
      "50  Concat          (None, 128, None, None)                     \n",
      "51  Conv2D          (None, 12, None, None) (12, 128, 3, 3)     \n",
      "52  Concat          (None, 140, None, None)                     \n",
      "53  Conv2D          (None, 12, None, None) (12, 140, 3, 3)     \n",
      "54  Concat          (None, 152, None, None)                     \n",
      "55  Conv2D          (None, 12, None, None) (12, 152, 3, 3)     \n",
      "56  Concat          (None, 164, None, None)                     \n",
      "57  Conv2D          (None, 12, None, None) (12, 164, 3, 3)     \n",
      "58  Concat          (None, 176, None, None)                     \n",
      "59  Conv2D          (None, 12, None, None) (12, 176, 3, 3)     \n",
      "60  Concat          (None, 188, None, None)                     \n",
      "61  Conv2D          (None, 16, None, None) (16, 188, 1, 1)     \n",
      "\n",
      "Number of Convolutional layers : 31\n",
      "Number of parameters : 448648\n",
      "---------------------------------------------------------------------------\n",
      "Compiling function\n",
      "Compilation took 25.733 seconds\n"
     ]
    }
   ],
   "source": [
    "model_1 = get_model(export_folder_1)"
   ]
  },
  {
   "cell_type": "code",
   "execution_count": 7,
   "metadata": {},
   "outputs": [
    {
     "name": "stdout",
     "output_type": "stream",
     "text": [
      "---------------------------------------------------------------------------\n",
      "---------------------------------------------------------------------------\n",
      "Warning : all the layers are not displayed \n",
      "\n",
      "    Layer           Output shape         W shape             \n",
      "1   Input           (None, 1, None, None)                     \n",
      "2   Conv2D          (None, 8, None, None) (8, 1, 1, 1)        \n",
      "3   Conv2D          (None, 12, None, None) (12, 8, 3, 3)       \n",
      "4   Concat          (None, 20, None, None)                     \n",
      "5   Conv2D          (None, 12, None, None) (12, 20, 3, 3)      \n",
      "6   Concat          (None, 32, None, None)                     \n",
      "7   Conv2D          (None, 12, None, None) (12, 32, 3, 3)      \n",
      "8   Concat          (None, 44, None, None)                     \n",
      "9   Conv2D          (None, 12, None, None) (12, 44, 3, 3)      \n",
      "10  Concat          (None, 56, None, None)                     \n",
      "11  Conv2D          (None, 12, None, None) (12, 56, 3, 3)      \n",
      "12  Concat          (None, 68, None, None)                     \n",
      "13  Conv2D          (None, 68, None, None) (68, 68, 1, 1)      \n",
      "14  Pool2D          (None, 68, None, None)                     \n",
      "\n",
      "15  Conv2D          (None, 12, None, None) (12, 68, 3, 3)      \n",
      "16  Concat          (None, 80, None, None)                     \n",
      "17  Conv2D          (None, 12, None, None) (12, 80, 3, 3)      \n",
      "18  Concat          (None, 92, None, None)                     \n",
      "19  Conv2D          (None, 12, None, None) (12, 92, 3, 3)      \n",
      "20  Concat          (None, 104, None, None)                     \n",
      "21  Conv2D          (None, 12, None, None) (12, 104, 3, 3)     \n",
      "22  Concat          (None, 116, None, None)                     \n",
      "23  Conv2D          (None, 12, None, None) (12, 116, 3, 3)     \n",
      "24  Concat          (None, 128, None, None)                     \n",
      "25  Conv2D          (None, 128, None, None) (128, 128, 1, 1)    \n",
      "26  Pool2D          (None, 128, None, None)                     \n",
      "\n",
      "27  Conv2D          (None, 12, None, None) (12, 128, 3, 3)     \n",
      "28  Concat          (None, 140, None, None)                     \n",
      "29  Conv2D          (None, 12, None, None) (12, 140, 3, 3)     \n",
      "30  Concat          (None, 152, None, None)                     \n",
      "31  Conv2D          (None, 12, None, None) (12, 152, 3, 3)     \n",
      "32  Concat          (None, 164, None, None)                     \n",
      "33  Conv2D          (None, 12, None, None) (12, 164, 3, 3)     \n",
      "34  Concat          (None, 176, None, None)                     \n",
      "35  Conv2D          (None, 12, None, None) (12, 176, 3, 3)     \n",
      "36  Concat          (None, 60, None, None)                     \n",
      "37  TransposedConv2D (None, 60, None, None) (60, 60, 3, 3)      \n",
      "\n",
      "38  Concat          (None, 188, None, None)                     \n",
      "39  Conv2D          (None, 12, None, None) (12, 188, 3, 3)     \n",
      "40  Concat          (None, 200, None, None)                     \n",
      "41  Conv2D          (None, 12, None, None) (12, 200, 3, 3)     \n",
      "42  Concat          (None, 212, None, None)                     \n",
      "43  Conv2D          (None, 12, None, None) (12, 212, 3, 3)     \n",
      "44  Concat          (None, 224, None, None)                     \n",
      "45  Conv2D          (None, 12, None, None) (12, 224, 3, 3)     \n",
      "46  Concat          (None, 236, None, None)                     \n",
      "47  Conv2D          (None, 12, None, None) (12, 236, 3, 3)     \n",
      "48  Concat          (None, 60, None, None)                     \n",
      "49  TransposedConv2D (None, 60, None, None) (60, 60, 3, 3)      \n",
      "\n",
      "50  Concat          (None, 128, None, None)                     \n",
      "51  Conv2D          (None, 12, None, None) (12, 128, 3, 3)     \n",
      "52  Concat          (None, 140, None, None)                     \n",
      "53  Conv2D          (None, 12, None, None) (12, 140, 3, 3)     \n",
      "54  Concat          (None, 152, None, None)                     \n",
      "55  Conv2D          (None, 12, None, None) (12, 152, 3, 3)     \n",
      "56  Concat          (None, 164, None, None)                     \n",
      "57  Conv2D          (None, 12, None, None) (12, 164, 3, 3)     \n",
      "58  Concat          (None, 176, None, None)                     \n",
      "59  Conv2D          (None, 12, None, None) (12, 176, 3, 3)     \n",
      "60  Concat          (None, 188, None, None)                     \n",
      "61  Conv2D          (None, 16, None, None) (16, 188, 1, 1)     \n",
      "\n",
      "Number of Convolutional layers : 31\n",
      "Number of parameters : 448648\n",
      "---------------------------------------------------------------------------\n",
      "Compiling function\n",
      "Compilation took 26.465 seconds\n"
     ]
    }
   ],
   "source": [
    "model = get_model(export_folder)"
   ]
  },
  {
   "cell_type": "code",
   "execution_count": 8,
   "metadata": {},
   "outputs": [],
   "source": [
    "train_iter, val_iter, test_iter = get_iters(config_path)"
   ]
  },
  {
   "cell_type": "code",
   "execution_count": 9,
   "metadata": {
    "collapsed": true
   },
   "outputs": [],
   "source": [
    "inputs, outputs, masks = test_iter.next()"
   ]
  },
  {
   "cell_type": "code",
   "execution_count": 10,
   "metadata": {},
   "outputs": [
    {
     "data": {
      "text/plain": [
       "(1, 1, 32, 32)"
      ]
     },
     "execution_count": 10,
     "metadata": {},
     "output_type": "execute_result"
    }
   ],
   "source": [
    "x = inputs[0]\n",
    "x[None, :, :, :].shape"
   ]
  },
  {
   "cell_type": "code",
   "execution_count": 11,
   "metadata": {},
   "outputs": [
    {
     "ename": "NameError",
     "evalue": "name 'y' is not defined",
     "output_type": "error",
     "traceback": [
      "\u001b[0;31m---------------------------------------------------------------------------\u001b[0m",
      "\u001b[0;31mNameError\u001b[0m                                 Traceback (most recent call last)",
      "\u001b[0;32m<ipython-input-11-a430f7fb8f15>\u001b[0m in \u001b[0;36m<module>\u001b[0;34m()\u001b[0m\n\u001b[0;32m----> 1\u001b[0;31m \u001b[0moutputs\u001b[0m\u001b[0;34m[\u001b[0m\u001b[0;36m0\u001b[0m\u001b[0;34m]\u001b[0m\u001b[0;34m.\u001b[0m\u001b[0mreshape\u001b[0m\u001b[0;34m(\u001b[0m\u001b[0;36m4\u001b[0m\u001b[0;34m,\u001b[0m \u001b[0;36m4\u001b[0m\u001b[0;34m,\u001b[0m \u001b[0my\u001b[0m\u001b[0;34m.\u001b[0m\u001b[0mshape\u001b[0m\u001b[0;34m[\u001b[0m\u001b[0;34m-\u001b[0m\u001b[0;36m2\u001b[0m\u001b[0;34m]\u001b[0m\u001b[0;34m,\u001b[0m \u001b[0my\u001b[0m\u001b[0;34m.\u001b[0m\u001b[0mshape\u001b[0m\u001b[0;34m[\u001b[0m\u001b[0;34m-\u001b[0m\u001b[0;36m1\u001b[0m\u001b[0;34m]\u001b[0m\u001b[0;34m)\u001b[0m\u001b[0;34m[\u001b[0m\u001b[0;36m1\u001b[0m\u001b[0;34m,\u001b[0m \u001b[0;34m:\u001b[0m\u001b[0;34m,\u001b[0m \u001b[0;36m2\u001b[0m\u001b[0;34m,\u001b[0m \u001b[0;36m2\u001b[0m\u001b[0;34m]\u001b[0m\u001b[0;34m\u001b[0m\u001b[0m\n\u001b[0m",
      "\u001b[0;31mNameError\u001b[0m: name 'y' is not defined"
     ]
    }
   ],
   "source": [
    "outputs[0].reshape(4, 4, y.shape[-2], y.shape[-1])[1, :, 2, 2]"
   ]
  },
  {
   "cell_type": "code",
   "execution_count": 12,
   "metadata": {
    "collapsed": true
   },
   "outputs": [],
   "source": [
    "pred = model(x[None, :, :, :])"
   ]
  },
  {
   "cell_type": "code",
   "execution_count": 13,
   "metadata": {},
   "outputs": [
    {
     "data": {
      "text/plain": [
       "(1, 16, 32, 32)"
      ]
     },
     "execution_count": 13,
     "metadata": {},
     "output_type": "execute_result"
    }
   ],
   "source": [
    "pred.shape"
   ]
  },
  {
   "cell_type": "code",
   "execution_count": 14,
   "metadata": {
    "collapsed": true
   },
   "outputs": [],
   "source": [
    "directions = {0: 'UP', 1:'LEFT', 2:'DOWN', 3:'RIGHT'}"
   ]
  },
  {
   "cell_type": "code",
   "execution_count": 16,
   "metadata": {},
   "outputs": [
    {
     "name": "stdout",
     "output_type": "stream",
     "text": [
      "p[LEFT|DOWN]\n",
      "ground truth\n",
      "predictions\n"
     ]
    },
    {
     "data": {
      "image/png": "[encoded data removed]",
      "text/plain": [
       "<matplotlib.figure.Figure at 0x7f31cd03fed0>"
      ]
     },
     "metadata": {},
     "output_type": "display_data"
    },
    {
     "data": {
      "image/png": "[encoded data removed]",
      "text/plain": [
       "<matplotlib.figure.Figure at 0x7f31cce135d0>"
      ]
     },
     "metadata": {},
     "output_type": "display_data"
    },
    {
     "name": "stdout",
     "output_type": "stream",
     "text": [
      "\n",
      "p[RIGHT|UP]\n",
      "ground truth\n",
      "predictions\n"
     ]
    },
    {
     "data": {
      "image/png": "[encoded data removed]",
      "text/plain": [
       "<matplotlib.figure.Figure at 0x7f31cce558d0>"
      ]
     },
     "metadata": {},
     "output_type": "display_data"
    },
    {
     "data": {
      "image/png": "[encoded data removed]",
      "text/plain": [
       "<matplotlib.figure.Figure at 0x7f31ccc54e10>"
      ]
     },
     "metadata": {},
     "output_type": "display_data"
    },
    {
     "name": "stdout",
     "output_type": "stream",
     "text": [
      "\n",
      "p[UP|RIGHT]\n",
      "ground truth\n",
      "predictions\n"
     ]
    },
    {
     "data": {
      "image/png": "[encoded data removed]",
      "text/plain": [
       "<matplotlib.figure.Figure at 0x7f31cd192610>"
      ]
     },
     "metadata": {},
     "output_type": "display_data"
    },
    {
     "data": {
      "image/png": "[encoded data removed]",
      "text/plain": [
       "<matplotlib.figure.Figure at 0x7f31ccadc5d0>"
      ]
     },
     "metadata": {},
     "output_type": "display_data"
    },
    {
     "name": "stdout",
     "output_type": "stream",
     "text": [
      "\n",
      "p[LEFT|UP]\n",
      "ground truth\n",
      "predictions\n"
     ]
    },
    {
     "data": {
      "image/png": "[encoded data removed]",
      "text/plain": [
       "<matplotlib.figure.Figure at 0x7f31ccd22690>"
      ]
     },
     "metadata": {},
     "output_type": "display_data"
    },
    {
     "data": {
      "image/png": "[encoded data removed]",
      "text/plain": [
       "<matplotlib.figure.Figure at 0x7f31cc952d50>"
      ]
     },
     "metadata": {},
     "output_type": "display_data"
    },
    {
     "ename": "KeyboardInterrupt",
     "evalue": "",
     "output_type": "error",
     "traceback": [
      "\u001b[0;31m---------------------------------------------------------------------------\u001b[0m",
      "\u001b[0;31mKeyboardInterrupt\u001b[0m                         Traceback (most recent call last)",
      "\u001b[0;32m<ipython-input-16-3089a2d038d0>\u001b[0m in \u001b[0;36m<module>\u001b[0;34m()\u001b[0m\n\u001b[1;32m     20\u001b[0m     \u001b[0mplot_occ_map\u001b[0m\u001b[0;34m(\u001b[0m\u001b[0mpred\u001b[0m\u001b[0;34m,\u001b[0m \u001b[0mmap__\u001b[0m\u001b[0;34m,\u001b[0m \u001b[0mocc_map_res\u001b[0m\u001b[0;34m=\u001b[0m\u001b[0;36m0.2\u001b[0m\u001b[0;34m)\u001b[0m\u001b[0;34m\u001b[0m\u001b[0m\n\u001b[1;32m     21\u001b[0m     \u001b[0mplt\u001b[0m\u001b[0;34m.\u001b[0m\u001b[0mshow\u001b[0m\u001b[0;34m(\u001b[0m\u001b[0;34m)\u001b[0m\u001b[0;34m\u001b[0m\u001b[0m\n\u001b[0;32m---> 22\u001b[0;31m     \u001b[0mraw_input\u001b[0m\u001b[0;34m(\u001b[0m\u001b[0;34m)\u001b[0m\u001b[0;34m\u001b[0m\u001b[0m\n\u001b[0m",
      "\u001b[0;32m/local/home/ful7rng/.anaconda/envs/ful/lib/python2.7/site-packages/ipykernel/kernelbase.pyc\u001b[0m in \u001b[0;36mraw_input\u001b[0;34m(self, prompt)\u001b[0m\n\u001b[1;32m    703\u001b[0m             \u001b[0mself\u001b[0m\u001b[0;34m.\u001b[0m\u001b[0m_parent_ident\u001b[0m\u001b[0;34m,\u001b[0m\u001b[0;34m\u001b[0m\u001b[0m\n\u001b[1;32m    704\u001b[0m             \u001b[0mself\u001b[0m\u001b[0;34m.\u001b[0m\u001b[0m_parent_header\u001b[0m\u001b[0;34m,\u001b[0m\u001b[0;34m\u001b[0m\u001b[0m\n\u001b[0;32m--> 705\u001b[0;31m             \u001b[0mpassword\u001b[0m\u001b[0;34m=\u001b[0m\u001b[0mFalse\u001b[0m\u001b[0;34m,\u001b[0m\u001b[0;34m\u001b[0m\u001b[0m\n\u001b[0m\u001b[1;32m    706\u001b[0m         )\n\u001b[1;32m    707\u001b[0m \u001b[0;34m\u001b[0m\u001b[0m\n",
      "\u001b[0;32m/local/home/ful7rng/.anaconda/envs/ful/lib/python2.7/site-packages/ipykernel/kernelbase.pyc\u001b[0m in \u001b[0;36m_input_request\u001b[0;34m(self, prompt, ident, parent, password)\u001b[0m\n\u001b[1;32m    733\u001b[0m             \u001b[0;32mexcept\u001b[0m \u001b[0mKeyboardInterrupt\u001b[0m\u001b[0;34m:\u001b[0m\u001b[0;34m\u001b[0m\u001b[0m\n\u001b[1;32m    734\u001b[0m                 \u001b[0;31m# re-raise KeyboardInterrupt, to truncate traceback\u001b[0m\u001b[0;34m\u001b[0m\u001b[0;34m\u001b[0m\u001b[0m\n\u001b[0;32m--> 735\u001b[0;31m                 \u001b[0;32mraise\u001b[0m \u001b[0mKeyboardInterrupt\u001b[0m\u001b[0;34m\u001b[0m\u001b[0m\n\u001b[0m\u001b[1;32m    736\u001b[0m             \u001b[0;32melse\u001b[0m\u001b[0;34m:\u001b[0m\u001b[0;34m\u001b[0m\u001b[0m\n\u001b[1;32m    737\u001b[0m                 \u001b[0;32mbreak\u001b[0m\u001b[0;34m\u001b[0m\u001b[0m\n",
      "\u001b[0;31mKeyboardInterrupt\u001b[0m: "
     ]
    }
   ],
   "source": [
    "idx = np.random.randint(0, 128, (30,))\n",
    "for i in idx:    \n",
    "    m = np.random.randint(0, 4, 1)[0]\n",
    "    n = np.random.randint(0, 4, 1)[0]\n",
    "    x = inputs[i]\n",
    "    pred = model(x[None, :, :, :])\n",
    "    pred_1 = model_1(x[None, :, :, :])\n",
    "    y = outputs[i]\n",
    "    ma = masks[i]\n",
    "    y = y.reshape(4, 4, y.shape[-2], y.shape[-1])[m, n, :, :]\n",
    "    ma = ma.reshape(4, 4, ma.shape[-2], ma.shape[-1])[m, n, :, :]\n",
    "    pred = pred.reshape(4, 4, pred.shape[-2], pred.shape[-1])[m, n, :, :]\n",
    "    pred_1 = pred_1.reshape(4, 4, pred_1.shape[-2], pred_1.shape[-1])[m, n, :, :]\n",
    "    print(\"p[{}|{}]\".format(directions[n], directions[m]))\n",
    "    map__ = x[0, :, :].astype('bool')\n",
    "    map__1 = np.zeros_like(map__)\n",
    "    print(\"ground truth\")\n",
    "    fig0 = plt.figure(0)\n",
    "    plot_occ_map(y, map__, occ_map_res=0.2)\n",
    "    fig0.suptitle(\"ground truth\")\n",
    "    fig1 = plt.figure(1)\n",
    "    plot_occ_map(pred, map__, occ_map_res=0.2)\n",
    "    fig1.suptitle(exp_name)\n",
    "    fig2 = plt.figure(2)\n",
    "    plot_occ_map(pred_1, map__, occ_map_res=0.2)\n",
    "    fig1.suptitle(exp_name_1)\n",
    "    plt.show()\n",
    "    raw_input()"
   ]
  },
  {
   "cell_type": "code",
   "execution_count": 4,
   "metadata": {},
   "outputs": [
    {
     "data": {
      "text/plain": [
       "0.69314718055994529"
      ]
     },
     "execution_count": 4,
     "metadata": {},
     "output_type": "execute_result"
    }
   ],
   "source": [
    "-2 * 0.5 * np.log(0.5)"
   ]
  },
  {
   "cell_type": "code",
   "execution_count": 6,
   "metadata": {},
   "outputs": [
    {
     "data": {
      "text/plain": [
       "0.78032387413233428"
      ]
     },
     "execution_count": 6,
     "metadata": {},
     "output_type": "execute_result"
    }
   ],
   "source": [
    "- (0.5 * np.log(0.3) + 0.5 * np.log(0.7))"
   ]
  },
  {
   "cell_type": "code",
   "execution_count": null,
   "metadata": {
    "collapsed": true
   },
   "outputs": [],
   "source": []
  }
 ],
 "metadata": {
  "kernelspec": {
   "display_name": "Python 2",
   "language": "python",
   "name": "python2"
  },
  "language_info": {
   "codemirror_mode": {
    "name": "ipython",
    "version": 2
   },
   "file_extension": ".py",
   "mimetype": "text/x-python",
   "name": "python",
   "nbconvert_exporter": "python",
   "pygments_lexer": "ipython2",
   "version": "2.7.13"
  }
 },
 "nbformat": 4,
 "nbformat_minor": 2
}
